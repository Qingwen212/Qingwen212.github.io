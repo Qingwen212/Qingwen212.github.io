{
 "cells": [
  {
   "cell_type": "markdown",
   "id": "270998f0",
   "metadata": {},
   "source": [
    "# Identify managers' non-responses from earnings calls"
   ]
  },
  {
   "cell_type": "markdown",
   "id": "799fdde1-c830-4edd-a062-56592955a0cf",
   "metadata": {},
   "source": [
    "----\n",
    "# Imports\n",
    "----\n",
    "\n",
    "\n",
    "All the dependencies required for this notebook are provided in the `environment.yml` file.\n",
    "\n",
    "To install: `conda env create -f environment.yml` --> this creates the `gllm` environment.\n",
    "\n",
    "I recommend using Python 3.9 or higher to avoid dependency conflicts."
   ]
  },
  {
   "cell_type": "markdown",
   "id": "0677690b-bc59-41b1-bf6c-1340b5f6e4a8",
   "metadata": {},
   "source": [
    "# OpenAI - zero shot example",
   ]
  },
  {
   "cell_type": "markdown",
   "id": "a1969ecc-dd72-475a-ae51-79bdc83c84d7",
   "metadata": {},
   "source": [
    "**Python built-in libraries**"
   ]
  },
  {
   "cell_type": "code",
   "execution_count": 2,
   "id": "a4ec5462-905d-4b7c-b748-a43dbbe84b7d",
   "metadata": {},
   "outputs": [],
   "source": [
    "import os, sys, re, copy, random, json, time, datetime\n",
    "from pathlib import Path\n",
    "import getpass"
   ]
  },
  {
   "cell_type": "code",
   "execution_count": null,
   "id": "32fd4b0f",
   "metadata": {},
   "outputs": [],
   "source": []
  },
  {
   "cell_type": "markdown",
   "id": "97ae5855-5a12-4098-9545-495fbc540506",
   "metadata": {},
   "source": [
    "**Libraries for interacting with the OpenAI API**"
   ]
  },
  {
   "cell_type": "code",
   "execution_count": 3,
   "id": "c77af21a-0a1c-4610-a213-a4565742bbaa",
   "metadata": {},
   "outputs": [],
   "source": [
    "import requests\n",
    "import openai\n",
    "import tiktoken\n",
    "import time"
   ]
  },
  {
   "cell_type": "code",
   "execution_count": null,
   "id": "4a94ecfd",
   "metadata": {},
   "outputs": [],
   "source": []
  },
  {
   "cell_type": "markdown",
   "id": "ccebae9d-fd4c-42da-81ea-7b4672bbec07",
   "metadata": {},
   "source": [
    "**General helper libraries**"
   ]
  },
  {
   "cell_type": "code",
   "execution_count": 4,
   "id": "c877637b-27c2-4d17-934d-a1e0c65422fd",
   "metadata": {},
   "outputs": [],
   "source": [
    "import pandas as pd\n",
    "import numpy as np\n",
    "from tqdm.notebook import tqdm"
   ]
  },
  {
   "cell_type": "markdown",
   "id": "c95257da-1df7-44de-8cc9-49071d6db842",
   "metadata": {},
   "source": [
    "### Settings"
   ]
  },
  {
   "cell_type": "code",
   "execution_count": 5,
   "id": "f0ccdeb1-e3f2-4f96-b924-9a36287e78ed",
   "metadata": {},
   "outputs": [],
   "source": [
    "pd.options.mode.chained_assignment = None  # default='warn'\n",
    "pd.set_option('display.max_columns', 150)\n",
    "pd.set_option('display.max_rows', 150)"
   ]
  },
  {
   "cell_type": "markdown",
   "id": "4a0b98b8-afcd-40b6-a2cb-173f95a14e98",
   "metadata": {},
   "source": [
    "### Utility functions"
   ]
  },
  {
   "cell_type": "code",
   "execution_count": 6,
   "id": "cadf2cdb",
   "metadata": {},
   "outputs": [],
   "source": [
    "## This function makes it easier to print rendered markdown through a code cell.\n",
    "\n",
    "from IPython.display import display, Markdown\n",
    "\n",
    "def mprint(text, **kwargs):\n",
    "    # Append the 'end' character if provided, otherwise default to an empty string.\n",
    "    end = kwargs.get('end', '')\n",
    "    # Combine text with the end character.\n",
    "    text += end\n",
    "    # Display the formatted Markdown text.\n",
    "    display(Markdown(text))"
   ]
  },
  {
   "cell_type": "markdown",
   "id": "52592dcd-1e6e-4740-b6bd-aa8765d58c66",
   "metadata": {
    "tags": []
   },
   "source": [
    "-----\n",
    "# Toy example\n",
    "----\n",
    "\n",
    "This is an example to identify managers' non-answers"
   ]
  },
  {
   "cell_type": "markdown",
   "id": "419c2b8c-b553-44f6-9443-344c1a508941",
   "metadata": {},
   "source": [
    "## Load data"
   ]
  },
  {
   "cell_type": "code",
   "execution_count": 7,
   "id": "8fa46d21-8c65-4af1-9381-fd4025af1e1f",
   "metadata": {},
   "outputs": [],
   "source": [
    "# with open(Path.cwd() / \"transcripts\" / \"sp500t_2010.json\", \"r\", encoding = \"utf-8\") as f:\n",
    "#     statement_list = json.load(f)\n",
    "\n",
    "\n",
    "# statement_df = pd.DataFrame(statement_list)\n",
    "\n",
    "statement_df=pd.read_csv('QA_2019.csv')"
   ]
  },
  {
   "cell_type": "code",
   "execution_count": 8,
   "id": "8d02bfc7",
   "metadata": {},
   "outputs": [
    {
     "data": {
      "text/html": [
       "<div>\n",
       "<style scoped>\n",
       "    .dataframe tbody tr th:only-of-type {\n",
       "        vertical-align: middle;\n",
       "    }\n",
       "\n",
       "    .dataframe tbody tr th {\n",
       "        vertical-align: top;\n",
       "    }\n",
       "\n",
       "    .dataframe thead th {\n",
       "        text-align: right;\n",
       "    }\n",
       "</style>\n",
       "<table border=\"1\" class=\"dataframe\">\n",
       "  <thead>\n",
       "    <tr style=\"text-align: right;\">\n",
       "      <th></th>\n",
       "      <th>transcriptid</th>\n",
       "      <th>permno</th>\n",
       "      <th>transcriptid_str</th>\n",
       "      <th>pairid_str</th>\n",
       "      <th>ticker</th>\n",
       "      <th>gvkey</th>\n",
       "      <th>cik</th>\n",
       "      <th>date</th>\n",
       "      <th>ret</th>\n",
       "      <th>sic</th>\n",
       "      <th>vol</th>\n",
       "      <th>spread</th>\n",
       "      <th>shrout</th>\n",
       "      <th>retx</th>\n",
       "      <th>bidlo</th>\n",
       "      <th>askhi</th>\n",
       "      <th>ym</th>\n",
       "      <th>keydevid</th>\n",
       "      <th>mostimportantdateutc</th>\n",
       "      <th>converid</th>\n",
       "      <th>joint_qa</th>\n",
       "    </tr>\n",
       "  </thead>\n",
       "  <tbody>\n",
       "    <tr>\n",
       "      <th>0</th>\n",
       "      <td>1635465.0</td>\n",
       "      <td>16431</td>\n",
       "      <td>1635465</td>\n",
       "      <td>1</td>\n",
       "      <td>LW</td>\n",
       "      <td>28790</td>\n",
       "      <td>1679273</td>\n",
       "      <td>2019-01-31</td>\n",
       "      <td>-0.01441</td>\n",
       "      <td>2030</td>\n",
       "      <td>389053.0</td>\n",
       "      <td>NaN</td>\n",
       "      <td>146492.0</td>\n",
       "      <td>-0.017129</td>\n",
       "      <td>67.64</td>\n",
       "      <td>75.58</td>\n",
       "      <td>2019-01-01</td>\n",
       "      <td>594787861.0</td>\n",
       "      <td>2019-01-04</td>\n",
       "      <td>16354651</td>\n",
       "      <td>[Analysts][Andrew Lazar]Tom, I think you menti...</td>\n",
       "    </tr>\n",
       "    <tr>\n",
       "      <th>1</th>\n",
       "      <td>1635465.0</td>\n",
       "      <td>16431</td>\n",
       "      <td>1635465</td>\n",
       "      <td>2</td>\n",
       "      <td>LW</td>\n",
       "      <td>28790</td>\n",
       "      <td>1679273</td>\n",
       "      <td>2019-01-31</td>\n",
       "      <td>-0.01441</td>\n",
       "      <td>2030</td>\n",
       "      <td>389053.0</td>\n",
       "      <td>NaN</td>\n",
       "      <td>146492.0</td>\n",
       "      <td>-0.017129</td>\n",
       "      <td>67.64</td>\n",
       "      <td>75.58</td>\n",
       "      <td>2019-01-01</td>\n",
       "      <td>594787861.0</td>\n",
       "      <td>2019-01-04</td>\n",
       "      <td>16354652</td>\n",
       "      <td>[Analysts][Christopher Growe]I just had a ques...</td>\n",
       "    </tr>\n",
       "    <tr>\n",
       "      <th>2</th>\n",
       "      <td>1635465.0</td>\n",
       "      <td>16431</td>\n",
       "      <td>1635465</td>\n",
       "      <td>3</td>\n",
       "      <td>LW</td>\n",
       "      <td>28790</td>\n",
       "      <td>1679273</td>\n",
       "      <td>2019-01-31</td>\n",
       "      <td>-0.01441</td>\n",
       "      <td>2030</td>\n",
       "      <td>389053.0</td>\n",
       "      <td>NaN</td>\n",
       "      <td>146492.0</td>\n",
       "      <td>-0.017129</td>\n",
       "      <td>67.64</td>\n",
       "      <td>75.58</td>\n",
       "      <td>2019-01-01</td>\n",
       "      <td>594787861.0</td>\n",
       "      <td>2019-01-04</td>\n",
       "      <td>16354653</td>\n",
       "      <td>[Analysts][Akshay Jagdale]The first one is cla...</td>\n",
       "    </tr>\n",
       "    <tr>\n",
       "      <th>3</th>\n",
       "      <td>1635465.0</td>\n",
       "      <td>16431</td>\n",
       "      <td>1635465</td>\n",
       "      <td>4</td>\n",
       "      <td>LW</td>\n",
       "      <td>28790</td>\n",
       "      <td>1679273</td>\n",
       "      <td>2019-01-31</td>\n",
       "      <td>-0.01441</td>\n",
       "      <td>2030</td>\n",
       "      <td>389053.0</td>\n",
       "      <td>NaN</td>\n",
       "      <td>146492.0</td>\n",
       "      <td>-0.017129</td>\n",
       "      <td>67.64</td>\n",
       "      <td>75.58</td>\n",
       "      <td>2019-01-01</td>\n",
       "      <td>594787861.0</td>\n",
       "      <td>2019-01-04</td>\n",
       "      <td>16354654</td>\n",
       "      <td>[Analysts][Bryan Spillane]Just 2 quick ones fo...</td>\n",
       "    </tr>\n",
       "    <tr>\n",
       "      <th>4</th>\n",
       "      <td>1635465.0</td>\n",
       "      <td>16431</td>\n",
       "      <td>1635465</td>\n",
       "      <td>5</td>\n",
       "      <td>LW</td>\n",
       "      <td>28790</td>\n",
       "      <td>1679273</td>\n",
       "      <td>2019-01-31</td>\n",
       "      <td>-0.01441</td>\n",
       "      <td>2030</td>\n",
       "      <td>389053.0</td>\n",
       "      <td>NaN</td>\n",
       "      <td>146492.0</td>\n",
       "      <td>-0.017129</td>\n",
       "      <td>67.64</td>\n",
       "      <td>75.58</td>\n",
       "      <td>2019-01-01</td>\n",
       "      <td>594787861.0</td>\n",
       "      <td>2019-01-04</td>\n",
       "      <td>16354655</td>\n",
       "      <td>[Analysts][Michael Gallo]My question is on jus...</td>\n",
       "    </tr>\n",
       "  </tbody>\n",
       "</table>\n",
       "</div>"
      ],
      "text/plain": [
       "   transcriptid  permno  transcriptid_str  pairid_str ticker  gvkey      cik  \\\n",
       "0     1635465.0   16431           1635465           1     LW  28790  1679273   \n",
       "1     1635465.0   16431           1635465           2     LW  28790  1679273   \n",
       "2     1635465.0   16431           1635465           3     LW  28790  1679273   \n",
       "3     1635465.0   16431           1635465           4     LW  28790  1679273   \n",
       "4     1635465.0   16431           1635465           5     LW  28790  1679273   \n",
       "\n",
       "         date      ret   sic       vol  spread    shrout      retx  bidlo  \\\n",
       "0  2019-01-31 -0.01441  2030  389053.0     NaN  146492.0 -0.017129  67.64   \n",
       "1  2019-01-31 -0.01441  2030  389053.0     NaN  146492.0 -0.017129  67.64   \n",
       "2  2019-01-31 -0.01441  2030  389053.0     NaN  146492.0 -0.017129  67.64   \n",
       "3  2019-01-31 -0.01441  2030  389053.0     NaN  146492.0 -0.017129  67.64   \n",
       "4  2019-01-31 -0.01441  2030  389053.0     NaN  146492.0 -0.017129  67.64   \n",
       "\n",
       "   askhi          ym     keydevid mostimportantdateutc  converid  \\\n",
       "0  75.58  2019-01-01  594787861.0           2019-01-04  16354651   \n",
       "1  75.58  2019-01-01  594787861.0           2019-01-04  16354652   \n",
       "2  75.58  2019-01-01  594787861.0           2019-01-04  16354653   \n",
       "3  75.58  2019-01-01  594787861.0           2019-01-04  16354654   \n",
       "4  75.58  2019-01-01  594787861.0           2019-01-04  16354655   \n",
       "\n",
       "                                            joint_qa  \n",
       "0  [Analysts][Andrew Lazar]Tom, I think you menti...  \n",
       "1  [Analysts][Christopher Growe]I just had a ques...  \n",
       "2  [Analysts][Akshay Jagdale]The first one is cla...  \n",
       "3  [Analysts][Bryan Spillane]Just 2 quick ones fo...  \n",
       "4  [Analysts][Michael Gallo]My question is on jus...  "
      ]
     },
     "execution_count": 8,
     "metadata": {},
     "output_type": "execute_result"
    }
   ],
   "source": [
    "statement_df.head()"
   ]
  },
  {
   "cell_type": "code",
   "execution_count": 9,
   "id": "e6d526c6",
   "metadata": {},
   "outputs": [
    {
     "name": "stdout",
     "output_type": "stream",
     "text": [
      "[Analysts][Andrew Lazar]Tom, I think you mentioned a couple of times about the potential opportunity to service some of the export demand that potentially some of the European suppliers might be less able to do. And I'm just curious if the potential size or magnitude of that opportunity is, I guess, is enough to continue to impact the tightness of the U.S. or North American marketplace such that, that helps keep that marketplace reasonably tight even as we head into a period of time where there is expected to be some additional industry capacity coming online.\n",
      "[Executives][Thomas Werner]Yes, Andrew. It's still early with respect to how the difficulty with the European crop's going to play out. And I will tell you right now, I anticipate in the next couple of months that it's going to start to really -- from an industry perspective, in a couple of months, it's going to start moving around in terms of the overall crop availability in Europe. We haven't seen anything right now that indicates there's going to be some big movement in volume in terms of European availability versus U.S. support. We've taken actions within our business to help support our Lamb Weston/Meijer joint venture with some material volume that we moved to the U.S. My experience with this kind of situation in the past is it takes time. And I think in the next couple of months, we'll start seeing some impact of volume movement with customers, but it's always -- the interesting thing in these situations, it always comes down to like the fourth quarter of a football game where the customers will realize that the impact and the availability of volume, they won't have an idea until the end of the crop year. So it's going to take a couple of more months to play out. I think that we're going to have opportunities that are going to come our way, but it's going to be one-offs as this situation plays out.\n",
      "[Analysts][Andrew Lazar]Yes. Got it. And then on some of the previous calls, you've given us kind of an overall perspective a little bit around what you're seeing from a trend perspective in the overall sort of key QSR sort of space with respect to consumption and takeaway and things of that nature. I'm curious if you've got just an updated view on how some of those trends look at some of your key strategic end customers.\n",
      "[Executives][Thomas Werner]Yes, Andrew. It's a mixed bag right now. I think the last 2, 3 quarters, the data we look at, the QSRs have -- the traffic's been up, check's been up, so that's a great trend. You go down the line and you look at the fast casual/midscale, they're still down, but they're not down as pronounced as they have been. So we see it in our numbers. Obviously, we've got a broad customer mix within our portfolio. But right now, the past 2, 3 quarters, the QSRs has been pretty positive overall and we can see it in our trends and our numbers. And obviously, our quarterly report today, you see that our global business unit volume has been up. So it's -- we're watching it closely. There's a lot of mixed indicators. But right now, everything looks positive for us.\n"
     ]
    },
    {
     "data": {
      "text/plain": [
       "3106"
      ]
     },
     "execution_count": 9,
     "metadata": {},
     "output_type": "execute_result"
    }
   ],
   "source": [
    "statement= statement_df.iloc[0].joint_qa\n",
    "# statement_1 = statement_1.replace('\\n', '')\n",
    "\n",
    "print(statement)\n",
    "len(statement)"
   ]
  },
  {
   "cell_type": "markdown",
   "id": "0562b95b-96fc-4f15-91e5-5768a4d0c6f6",
   "metadata": {},
   "source": [
    "----\n",
    "## Prompt engineering\n",
    "----"
   ]
  },
  {
   "cell_type": "markdown",
   "id": "f64655d5-f2f1-4af7-a252-7f5ea05fa1b1",
   "metadata": {},
   "source": [
    "### Define prompt template"
   ]
  },
  {
   "cell_type": "code",
   "execution_count": 10,
   "id": "fce99f8f",
   "metadata": {},
   "outputs": [],
   "source": [
    "prompt_template=\"\"\"\n",
    "\n",
    "The provided document is a conversation between an analyst and a manager during a company's earnings call.\n",
    "The types of speakers are shown in square brackets as ['Speaker Type'], followed by the content of the speech of corresponding speakers.\n",
    "You have three tasks:\n",
    "\n",
    "Task 1 - Identify Non-Response Q&A Exchanges:\n",
    "\t-\tExtract Q&A exchanges where managers explicitly refused to answer the analyst's question, using responses such as “I can't answer” or “I don't know.”\n",
    "\t-\tExtract Q&A exchanges where managers provided answers that were irrelevant and did not address the analyst's question.\n",
    "\t-\tExclude Q&A exchanges where managers sought clarification of the question, got disconnected and et al.\n",
    " \n",
    "\n",
    "Task2 - Classify the non-responses\n",
    "   -  If any non-responses were identified in Task1, classify it into one of the five categories:\n",
    "      Refusal: if managers directly refuse to answer the question without giving any justifications\n",
    "      Lack of Info: if managers indicate their lack of relevant information to answer the question \n",
    "      Legal Affairs: managers can't provide answers due to legal restrictions\n",
    "      Recall: if managers indicate they will get back to the question sometime in the future\n",
    "      Irrelevant: if managers give irrelevant answers\n",
    "   -   If you didn't identify any non-responses in Task1, return Null for this task.\n",
    "\n",
    "\n",
    "Task 3 - Evaluate and rate managers' overall responses on a scale of 0-10 from three aspects: quantity, relevance, and clarity. \n",
    "Please note 0 means least informative, relevant and clear, while 10 indicates most informative, relevant and clear.\n",
    "\t-\tQuantity: rate managers' responses according to the amount of incremental information provided in their answers.\n",
    "\t-\tRelevance: rate managers' responses based on the relevance of their answers to the analyst's questions.\n",
    "\t-\tClarity: rate managers' responses based on the clarity of their answers.\n",
    "\n",
    "After finishing the two tasks, output your response in following JSON format:\n",
    "{{\n",
    "    \"NOA\": 1, If any Non-Response Q&A Exchanges were identified; 0, if no Non-Response Q&A Exchanges were identified,\n",
    "    \"Pair\": [{{Store both the question and the answer in the list if any Non-response Q&A Exchanges were identified}},or write Null, if not any pairs identified] \n",
    "    \"Category\": Store the result from Task2\n",
    "    \"Quantity\": Score of quantity,\n",
    "    \"Relevance\": Score of relevance,\n",
    "    \"Clarity\": Score of clarity\n",
    "}}\n",
    "    \n",
    "Here are two examples for your references:\n",
    "[Example1]:\n",
    "Statement={statement1}\n",
    "Responses = {response1}\n",
    "\n",
    "[Example2]:\n",
    "Statement={statement2}\n",
    "Responses = {response2}\n",
    "\n",
    "\n",
    "**Important Rules: **\n",
    "- Strictly adhere to the output formats as provided above.\n",
    "- For every transcript, there should be only one library being output.\n",
    "- If there are more than one pair of exchanges which have no responses, store all of them as value for \"Pair\" separated by \",\" in the list.\n",
    "- For Task3, you should generate the scores based on the managers' overall responses.\n",
    "\n",
    "\n",
    "Begin the analysis now.\n",
    "Statement={statement}\n",
    "Responses =\n",
    "\n",
    "\"\"\".strip()"
   ]
  },
  {
   "cell_type": "markdown",
   "id": "1c19a4ee-b97b-446e-942e-f13d27334e5e",
   "metadata": {},
   "source": [
    "### Create prompt"
   ]
  },
  {
   "cell_type": "code",
   "execution_count": 11,
   "id": "f49f6e3e",
   "metadata": {},
   "outputs": [],
   "source": [
    "statement1=\"\"\" \n",
    "        ......\n",
    "        [Analyst]And the Dubai client, are they a financially distressed client? Just kind of characterize how you feel about being able to ultimately collect from them. \n",
    "        [Manager]Yes. No. So we have no knowledge that the client has any financial issue or is unable to pay. The reserve was really a function of the aging of the receivables and the inability for us, along with the client to agree upon a revised payment plan. And really, at that point, we felt it was appropriate to take the reserve. But it has nothing to do with any knowledge or understanding of an inability to pay. \n",
    "        ......\n",
    "        \"\"\"\n",
    "        \n",
    "response1=\"\"\"\n",
    "{{      \"NOA\": 1,\n",
    "        \"Pair\": [{{\n",
    "                \"[Analyst]\":\"And the Dubai client, are they a financially distressed client? Just kind of characterize how you feel about being able to ultimately collect from them.\", \n",
    "                \"[Manager]\":\"Yes. No. So we have no knowledge that the client has any financial issue or is unable to pay. The reserve was really a function of the aging of the receivables and the inability for us, along with the client to agree upon a revised payment plan. And really, at that point, we felt it was appropriate to take the reserve. But it has nothing to do with any knowledge or understanding of an inability to pay.\"\n",
    "                }},]\n",
    "        \"Quantity\": Lack of Info,\n",
    "        \"Quantity\": 3,    \n",
    "        \"Relevance\": 10,\n",
    "        \"Clarity\": 10\n",
    "}}\n",
    "\"\"\"\n",
    "\n",
    "statement2=\"\"\"\n",
    "        ......\n",
    "        \"[Analysts]\"[James Salera]You've already discussed some of the trends with Quest in the category. But I was wondering if you could give us a sense for how much of the broader category growth is being driven by the expansion of products and the appeal that, that brings to expand buy rates versus consumers that are increasingly health conscious kind of engaging with these protein dense cohorts, low-calorie snacks?\n",
    "        [Executives][Geoff Tanner]Yes. No, it's a good question. I don't have that information at a category level. As we look at our brands, we certainly see a balance across both household penetration and buy rate. And as I said, again, to Matt's -- with Matt's question, this category largely grew up as bars and shakes. And over time, has expanded well beyond that new format, new usage occasions, new dayparts.\n",
    "        ......\n",
    "        \"\"\"\n",
    "\n",
    "response2=\"\"\"\n",
    "{{      \"NOA\": 1,\n",
    "        \"Pair\":[{{\n",
    "               \"[Analysts][James Salera]\"You've already discussed some of the trends with Quest in the category. But I was wondering if you could give us a sense for how much of the broader category growth is being driven by the expansion of products and the appeal that, that brings to expand buy rates versus consumers that are increasingly health conscious kind of engaging with these protein dense cohorts, low-calorie snacks?\",\n",
    "               \"[Executives][Geoff Tanner]\":\"Yes. No, it's a good question. I don't have that information at a category level. As we look at our brands, we certainly see a balance across both household penetration and buy rate. And as I said, again, to Matt's -- with Matt's question, this category largely grew up as bars and shakes. And over time, has expanded well beyond that new format, new usage occasions, new dayparts.\"\n",
    "               }},]\n",
    "         \"Quantity\": Lack of Info,\n",
    "        \"Quantity\": 4,    \n",
    "        \"Relevance\": 9,\n",
    "        \"Clarity\": 8\n",
    "}}\n",
    "\"\"\""
   ]
  },
  {
   "cell_type": "code",
   "execution_count": 12,
   "id": "ee562b98",
   "metadata": {},
   "outputs": [
    {
     "name": "stdout",
     "output_type": "stream",
     "text": [
      "The provided document is a conversation between an analyst and a manager during a company's earnings call.\n",
      "The types of speakers are shown in square brackets as ['Speaker Type'], followed by the content of the speech of corresponding speakers.\n",
      "You have three tasks:\n",
      "\n",
      "Task 1 - Identify Non-Response Q&A Exchanges:\n",
      "\t-\tExtract Q&A exchanges where managers explicitly refused to answer the analyst's question, using responses such as “I can't answer” or “I don't know.”\n",
      "\t-\tExtract Q&A exchanges where managers provided answers that were irrelevant and did not address the analyst's question.\n",
      "\t-\tExclude Q&A exchanges where managers sought clarification of the question, got disconnected and et al.\n",
      " \n",
      "\n",
      "Task2 - Classify the non-responses\n",
      "   -  If any non-responses were identified in Task1, classify it into one of the five categories:\n",
      "      Refusal: if managers directly refuse to answer the question without giving any justifications\n",
      "      Lack of Info: if managers indicate their lack of relevant information to answer the question \n",
      "      Legal Affairs: managers can't provide answers due to legal restrictions\n",
      "      Recall: if managers indicate they will get back to the question sometime in the future\n",
      "      Irrelevant: if managers give irrelevant answers\n",
      "   -   If you didn't identify any non-responses in Task1, return Null for this task.\n",
      "\n",
      "\n",
      "Task 3 - Evaluate and rate managers' overall responses on a scale of 0-10 from three aspects: quantity, relevance, and clarity. \n",
      "Please note 0 means least informative, relevant and clear, while 10 indicates most informative, relevant and clear.\n",
      "\t-\tQuantity: rate managers' responses according to the amount of incremental information provided in their answers.\n",
      "\t-\tRelevance: rate managers' responses based on the relevance of their answers to the analyst's questions.\n",
      "\t-\tClarity: rate managers' responses based on the clarity of their answers.\n",
      "\n",
      "After finishing the two tasks, output your response in following JSON format:\n",
      "{\n",
      "    \"NOA\": 1, If any Non-Response Q&A Exchanges were identified; 0, if no Non-Response Q&A Exchanges were identified,\n",
      "    \"Pair\": [{Store both the question and the answer in the list if any Non-response Q&A Exchanges were identified},or write Null, if not any pairs identified] \n",
      "    \"Category\": Store the result from Task2\n",
      "    \"Quantity\": Score of quantity,\n",
      "    \"Relevance\": Score of relevance,\n",
      "    \"Clarity\": Score of clarity\n",
      "}\n",
      "    \n",
      "Here are two examples for your references:\n",
      "[Example1]:\n",
      "Statement= \n",
      "        ......\n",
      "        [Analyst]And the Dubai client, are they a financially distressed client? Just kind of characterize how you feel about being able to ultimately collect from them. \n",
      "        [Manager]Yes. No. So we have no knowledge that the client has any financial issue or is unable to pay. The reserve was really a function of the aging of the receivables and the inability for us, along with the client to agree upon a revised payment plan. And really, at that point, we felt it was appropriate to take the reserve. But it has nothing to do with any knowledge or understanding of an inability to pay. \n",
      "        ......\n",
      "        \n",
      "Responses = \n",
      "{{      \"NOA\": 1,\n",
      "        \"Pair\": [{{\n",
      "                \"[Analyst]\":\"And the Dubai client, are they a financially distressed client? Just kind of characterize how you feel about being able to ultimately collect from them.\", \n",
      "                \"[Manager]\":\"Yes. No. So we have no knowledge that the client has any financial issue or is unable to pay. The reserve was really a function of the aging of the receivables and the inability for us, along with the client to agree upon a revised payment plan. And really, at that point, we felt it was appropriate to take the reserve. But it has nothing to do with any knowledge or understanding of an inability to pay.\"\n",
      "                }},]\n",
      "        \"Quantity\": Lack of Info,\n",
      "        \"Quantity\": 3,    \n",
      "        \"Relevance\": 10,\n",
      "        \"Clarity\": 10\n",
      "}}\n",
      "\n",
      "\n",
      "[Example2]:\n",
      "Statement=\n",
      "        ......\n",
      "        \"[Analysts]\"[James Salera]You've already discussed some of the trends with Quest in the category. But I was wondering if you could give us a sense for how much of the broader category growth is being driven by the expansion of products and the appeal that, that brings to expand buy rates versus consumers that are increasingly health conscious kind of engaging with these protein dense cohorts, low-calorie snacks?\n",
      "        [Executives][Geoff Tanner]Yes. No, it's a good question. I don't have that information at a category level. As we look at our brands, we certainly see a balance across both household penetration and buy rate. And as I said, again, to Matt's -- with Matt's question, this category largely grew up as bars and shakes. And over time, has expanded well beyond that new format, new usage occasions, new dayparts.\n",
      "        ......\n",
      "        \n",
      "Responses = \n",
      "{{      \"NOA\": 1,\n",
      "        \"Pair\":[{{\n",
      "               \"[Analysts][James Salera]\"You've already discussed some of the trends with Quest in the category. But I was wondering if you could give us a sense for how much of the broader category growth is being driven by the expansion of products and the appeal that, that brings to expand buy rates versus consumers that are increasingly health conscious kind of engaging with these protein dense cohorts, low-calorie snacks?\",\n",
      "               \"[Executives][Geoff Tanner]\":\"Yes. No, it's a good question. I don't have that information at a category level. As we look at our brands, we certainly see a balance across both household penetration and buy rate. And as I said, again, to Matt's -- with Matt's question, this category largely grew up as bars and shakes. And over time, has expanded well beyond that new format, new usage occasions, new dayparts.\"\n",
      "               }},]\n",
      "         \"Quantity\": Lack of Info,\n",
      "        \"Quantity\": 4,    \n",
      "        \"Relevance\": 9,\n",
      "        \"Clarity\": 8\n",
      "}}\n",
      "\n",
      "\n",
      "\n",
      "**Important Rules: **\n",
      "- Strictly adhere to the output formats as provided above.\n",
      "- For every transcript, there should be only one library being output.\n",
      "- If there are more than one pair of exchanges which have no responses, store all of them as value for \"Pair\" separated by \",\" in the list.\n",
      "- For Task3, you should generate the scores based on the managers' overall responses.\n",
      "\n",
      "\n",
      "Begin the analysis now.\n",
      "Statement=[Analysts][Andrew Lazar]Tom, I think you mentioned a couple of times about the potential opportunity to service some of the export demand that potentially some of the European suppliers might be less able to do. And I'm just curious if the potential size or magnitude of that opportunity is, I guess, is enough to continue to impact the tightness of the U.S. or North American marketplace such that, that helps keep that marketplace reasonably tight even as we head into a period of time where there is expected to be some additional industry capacity coming online.\n",
      "[Executives][Thomas Werner]Yes, Andrew. It's still early with respect to how the difficulty with the European crop's going to play out. And I will tell you right now, I anticipate in the next couple of months that it's going to start to really -- from an industry perspective, in a couple of months, it's going to start moving around in terms of the overall crop availability in Europe. We haven't seen anything right now that indicates there's going to be some big movement in volume in terms of European availability versus U.S. support. We've taken actions within our business to help support our Lamb Weston/Meijer joint venture with some material volume that we moved to the U.S. My experience with this kind of situation in the past is it takes time. And I think in the next couple of months, we'll start seeing some impact of volume movement with customers, but it's always -- the interesting thing in these situations, it always comes down to like the fourth quarter of a football game where the customers will realize that the impact and the availability of volume, they won't have an idea until the end of the crop year. So it's going to take a couple of more months to play out. I think that we're going to have opportunities that are going to come our way, but it's going to be one-offs as this situation plays out.\n",
      "[Analysts][Andrew Lazar]Yes. Got it. And then on some of the previous calls, you've given us kind of an overall perspective a little bit around what you're seeing from a trend perspective in the overall sort of key QSR sort of space with respect to consumption and takeaway and things of that nature. I'm curious if you've got just an updated view on how some of those trends look at some of your key strategic end customers.\n",
      "[Executives][Thomas Werner]Yes, Andrew. It's a mixed bag right now. I think the last 2, 3 quarters, the data we look at, the QSRs have -- the traffic's been up, check's been up, so that's a great trend. You go down the line and you look at the fast casual/midscale, they're still down, but they're not down as pronounced as they have been. So we see it in our numbers. Obviously, we've got a broad customer mix within our portfolio. But right now, the past 2, 3 quarters, the QSRs has been pretty positive overall and we can see it in our trends and our numbers. And obviously, our quarterly report today, you see that our global business unit volume has been up. So it's -- we're watching it closely. There's a lot of mixed indicators. But right now, everything looks positive for us.\n",
      "Responses =\n"
     ]
    }
   ],
   "source": [
    "prompt = prompt_template.format(**{\n",
    "    \"statement\" : statement,\n",
    "    \"statement1\" : statement1,\n",
    "    \"statement2\" : statement2,\n",
    "    \"response1\" : response1,\n",
    "    \"response2\" : response2\n",
    "})\n",
    "print(prompt)"
   ]
  },
  {
   "cell_type": "markdown",
   "id": "342f65fe-b307-4460-96cd-3ff300233c20",
   "metadata": {},
   "source": [
    "### How many tokens will this use?"
   ]
  },
  {
   "cell_type": "code",
   "execution_count": 13,
   "id": "892ce801",
   "metadata": {},
   "outputs": [],
   "source": [
    "encoder = tiktoken.encoding_for_model(\"gpt-4-32k\")"
   ]
  },
  {
   "cell_type": "code",
   "execution_count": 14,
   "id": "4810fd6d-349c-49c2-a6b2-cfdc225b0817",
   "metadata": {},
   "outputs": [
    {
     "data": {
      "text/markdown": [
       "**Prompt:**\n",
       "```\n",
       "The provided document is a conversation between an analyst and a manager during a company's earnings call.\n",
       "The types of speakers are shown in square brackets as ['Speaker Type'], followed by the content of the speech of corresponding speakers.\n",
       "You have three tasks:\n",
       "\n",
       "Task 1 - Identify Non-Response Q&A Exchanges:\n",
       "\t-\tExtract Q&A exchanges where managers explicitly refused to answer the analyst's question, using responses such as “I can't answer” or “I don't know.”\n",
       "\t-\tExtract Q&A exchanges where managers provided answers that were irrelevant and did not address the analyst's question.\n",
       "\t-\tExclude Q&A exchanges where managers sought clarification of the question, got disconnected and et al.\n",
       " \n",
       "\n",
       "Task2 - Classify the non-responses\n",
       "   -  If any non-responses were identified in Task1, classify it into one of the five categories:\n",
       "      Refusal: if managers directly refuse to answer the question without giving any justifications\n",
       "      Lack of Info: if managers indicate their lack of relevant information to answer the question \n",
       "      Legal Affairs: managers can't provide answers due to legal restrictions\n",
       "      Recall: if managers indicate they will get back to the question sometime in the future\n",
       "      Irrelevant: if managers give irrelevant answers\n",
       "   -   If you didn't identify any non-responses in Task1, return Null for this task.\n",
       "\n",
       "\n",
       "Task 3 - Evaluate and rate managers' overall responses on a scale of 0-10 from three aspects: quantity, relevance, and clarity. \n",
       "Please note 0 means least informative, relevant and clear, while 10 indicates most informative, relevant and clear.\n",
       "\t-\tQuantity: rate managers' responses according to the amount of incremental information provided in their answers.\n",
       "\t-\tRelevance: rate managers' responses based on the relevance of their answers to the analyst's questions.\n",
       "\t-\tClarity: rate managers' responses based on the clarity of their answers.\n",
       "\n",
       "After finishing the two tasks, output your response in following JSON format:\n",
       "{\n",
       "    \"NOA\": 1, If any Non-Response Q&A Exchanges were identified; 0, if no Non-Response Q&A Exchanges were identified,\n",
       "    \"Pair\": [{Store both the question and the answer in the list if any Non-response Q&A Exchanges were identified},or write Null, if not any pairs identified] \n",
       "    \"Category\": Store the result from Task2\n",
       "    \"Quantity\": Score of quantity,\n",
       "    \"Relevance\": Score of relevance,\n",
       "    \"Clarity\": Score of clarity\n",
       "}\n",
       "    \n",
       "Here are two examples for your references:\n",
       "[Example1]:\n",
       "Statement= \n",
       "        ......\n",
       "        [Analyst]And the Dubai client, are they a financially distressed client? Just kind of characterize how you feel about being able to ultimately collect from them. \n",
       "        [Manager]Yes. No. So we have no knowledge that the client has any financial issue or is unable to pay. The reserve was really a function of the aging of the receivables and the inability for us, along with the client to agree upon a revised payment plan. And really, at that point, we felt it was appropriate to take the reserve. But it has nothing to do with any knowledge or understanding of an inability to pay. \n",
       "        ......\n",
       "        \n",
       "Responses = \n",
       "{{      \"NOA\": 1,\n",
       "        \"Pair\": [{{\n",
       "                \"[Analyst]\":\"And the Dubai client, are they a financially distressed client? Just kind of characterize how you feel about being able to ultimately collect from them.\", \n",
       "                \"[Manager]\":\"Yes. No. So we have no knowledge that the client has any financial issue or is unable to pay. The reserve was really a function of the aging of the receivables and the inability for us, along with the client to agree upon a revised payment plan. And really, at that point, we felt it was appropriate to take the reserve. But it has nothing to do with any knowledge or understanding of an inability to pay.\"\n",
       "                }},]\n",
       "        \"Quantity\": Lack of Info,\n",
       "        \"Quantity\": 3,    \n",
       "        \"Relevance\": 10,\n",
       "        \"Clarity\": 10\n",
       "}}\n",
       "\n",
       "\n",
       "[Example2]:\n",
       "Statement=\n",
       "        ......\n",
       "        \"[Analysts]\"[James Salera]You've already discussed some of the trends with Quest in the category. But I was wondering if you could give us a sense for how much of the broader category growth is being driven by the expansion of products and the appeal that, that brings to expand buy rates versus consumers that are increasingly health conscious kind of engaging with these protein dense cohorts, low-calorie snacks?\n",
       "        [Executives][Geoff Tanner]Yes. No, it's a good question. I don't have that information at a category level. As we look at our brands, we certainly see a balance across both household penetration and buy rate. And as I said, again, to Matt's -- with Matt's question, this category largely grew up as bars and shakes. And over time, has expanded well beyond that new format, new usage occasions, new dayparts.\n",
       "        ......\n",
       "        \n",
       "Responses = \n",
       "{{      \"NOA\": 1,\n",
       "        \"Pair\":[{{\n",
       "               \"[Analysts][James Salera]\"You've already discussed some of the trends with Quest in the category. But I was wondering if you could give us a sense for how much of the broader category growth is being driven by the expansion of products and the appeal that, that brings to expand buy rates versus consumers that are increasingly health conscious kind of engaging with these protein dense cohorts, low-calorie snacks?\",\n",
       "               \"[Executives][Geoff Tanner]\":\"Yes. No, it's a good question. I don't have that information at a category level. As we look at our brands, we certainly see a balance across both household penetration and buy rate. And as I said, again, to Matt's -- with Matt's question, this category largely grew up as bars and shakes. And over time, has expanded well beyond that new format, new usage occasions, new dayparts.\"\n",
       "               }},]\n",
       "         \"Quantity\": Lack of Info,\n",
       "        \"Quantity\": 4,    \n",
       "        \"Relevance\": 9,\n",
       "        \"Clarity\": 8\n",
       "}}\n",
       "\n",
       "\n",
       "\n",
       "**Important Rules: **\n",
       "- Strictly adhere to the output formats as provided above.\n",
       "- For every transcript, there should be only one library being output.\n",
       "- If there are more than one pair of exchanges which have no responses, store all of them as value for \"Pair\" separated by \",\" in the list.\n",
       "- For Task3, you should generate the scores based on the managers' overall responses.\n",
       "\n",
       "\n",
       "Begin the analysis now.\n",
       "Statement=[Analysts][Andrew Lazar]Tom, I think you mentioned a couple of times about the potential opportunity to service some of the export demand that potentially some of the European suppliers might be less able to do. And I'm just curious if the potential size or magnitude of that opportunity is, I guess, is enough to continue to impact the tightness of the U.S. or North American marketplace such that, that helps keep that marketplace reasonably tight even as we head into a period of time where there is expected to be some additional industry capacity coming online.\n",
       "[Executives][Thomas Werner]Yes, Andrew. It's still early with respect to how the difficulty with the European crop's going to play out. And I will tell you right now, I anticipate in the next couple of months that it's going to start to really -- from an industry perspective, in a couple of months, it's going to start moving around in terms of the overall crop availability in Europe. We haven't seen anything right now that indicates there's going to be some big movement in volume in terms of European availability versus U.S. support. We've taken actions within our business to help support our Lamb Weston/Meijer joint venture with some material volume that we moved to the U.S. My experience with this kind of situation in the past is it takes time. And I think in the next couple of months, we'll start seeing some impact of volume movement with customers, but it's always -- the interesting thing in these situations, it always comes down to like the fourth quarter of a football game where the customers will realize that the impact and the availability of volume, they won't have an idea until the end of the crop year. So it's going to take a couple of more months to play out. I think that we're going to have opportunities that are going to come our way, but it's going to be one-offs as this situation plays out.\n",
       "[Analysts][Andrew Lazar]Yes. Got it. And then on some of the previous calls, you've given us kind of an overall perspective a little bit around what you're seeing from a trend perspective in the overall sort of key QSR sort of space with respect to consumption and takeaway and things of that nature. I'm curious if you've got just an updated view on how some of those trends look at some of your key strategic end customers.\n",
       "[Executives][Thomas Werner]Yes, Andrew. It's a mixed bag right now. I think the last 2, 3 quarters, the data we look at, the QSRs have -- the traffic's been up, check's been up, so that's a great trend. You go down the line and you look at the fast casual/midscale, they're still down, but they're not down as pronounced as they have been. So we see it in our numbers. Obviously, we've got a broad customer mix within our portfolio. But right now, the past 2, 3 quarters, the QSRs has been pretty positive overall and we can see it in our trends and our numbers. And obviously, our quarterly report today, you see that our global business unit volume has been up. So it's -- we're watching it closely. There's a lot of mixed indicators. But right now, everything looks positive for us.\n",
       "Responses =\n",
       "```\n",
       "<br>\n",
       "\n",
       "**Number of tokens:**\n",
       "`2,050`"
      ],
      "text/plain": [
       "<IPython.core.display.Markdown object>"
      ]
     },
     "metadata": {},
     "output_type": "display_data"
    }
   ],
   "source": [
    "mprint(f\"\"\"\n",
    "**Prompt:**\n",
    "```\n",
    "{prompt}\n",
    "```\n",
    "<br>\n",
    "\n",
    "**Number of tokens:**\n",
    "`{len(encoder.encode(prompt)):,}`\n",
    "\"\"\".strip())"
   ]
  },
  {
   "cell_type": "markdown",
   "id": "9fa6682f-faa4-4b4c-9b39-bcb383aede60",
   "metadata": {},
   "source": [
    "---\n",
    "## Set up OpenAI\n",
    "---"
   ]
  },
  {
   "cell_type": "markdown",
   "id": "5853aba4-baea-4589-b18c-e64427f5c0f1",
   "metadata": {},
   "source": [
    "There are roughly three ways to interact with the OpenAI API through Python:\n",
    "\n",
    "- Directly using `requests`   \n",
    "- Using the official `openai` Python library   \n",
    "- Through a higher level library such as `langchain`\n",
    "\n",
    "To use the OpenAI API you will need an API key. If you don't have one, follow these steps:   \n",
    "\n",
    "1. Create an OpenAI account --> https://platform.openai.com   \n",
    "2. Create an OpenAI API key --> https://platform.openai.com/account/api-keys   \n",
    "3. You will get \\\\$5 in free credits if you create a new account. If you've used that up, you will need to add a payment method. The code in this notebook will cost less than a dollar to run.\n",
    "\n",
    "Once you have your OpenAI Key, you can set it as the `OPENAI_API_KEY` environment variable (recommended) or enter it directly below."
   ]
  },
  {
   "cell_type": "markdown",
   "id": "02130891-f719-4954-a843-e99d057c40ae",
   "metadata": {},
   "source": [
    "---\n",
    "## Generate prediction\n",
    "---"
   ]
  },
  {
   "cell_type": "markdown",
   "id": "80646895-fca6-4953-ad30-75de12c95367",
   "metadata": {},
   "source": [
    "##### Basic parameters"
   ]
  },
  {
   "cell_type": "markdown",
   "id": "38e6cd69-114c-416c-bbba-0079f062c8ff",
   "metadata": {},
   "source": [
    "##### Set the system message\n",
    "\n",
    "The chat models, `gpt-3.5-turbo` and `gpt-4` also accept a so-called system message. These models are specifically trained to follow the role that is explained to them in this system message. The `gpt-3.5-turbo` message does not always pay strong attention to this system message, however, GPT-4 does. \n",
    "\n",
    "The default system message is \"You are a helpful assistant.\"\n",
    "\n",
    "For more details, see: https://platform.openai.com/docs/guides/chat/introduction"
   ]
  },
  {
   "cell_type": "markdown",
   "id": "f2a0d0b8-25b5-47e3-a394-0dee9a015202",
   "metadata": {},
   "source": [
    "### Make generation"
   ]
  },
  {
   "cell_type": "code",
   "execution_count": 15,
   "id": "d0d72b91",
   "metadata": {},
   "outputs": [],
   "source": [
    "#parameters settings\n",
    "\n",
    "openai.api_type = \"azure\"\n",
    "openai.api_base = \"https://dsrsllm.openai.azure.com/\"\n",
    "openai.api_version = \"2023-07-01-preview\"\n",
    "client=openai.api_key = \"90b52610c37146e6948803d566da7304\"\n",
    "dsrs_engine = \"test32\" ## use test32 for chat-gpt4-32k\n",
    "model = \"turno\"\n",
    "temperature=0\n",
    "max_tokens=5000   #most words in a transcript are questions and answers\n",
    "engine=dsrs_engine\n",
    "system_message=\"You are a helpful research assistant who helps with accounting research\"\n",
    "#top_p=1\n",
    "seed=12345\n",
    "frequency_penalty=0\n",
    "presence_penalty=0\n"
   ]
  },
  {
   "cell_type": "code",
   "execution_count": 16,
   "id": "faa00924",
   "metadata": {},
   "outputs": [],
   "source": [
    "completion = openai.ChatCompletion.create(\n",
    "    engine=engine,\n",
    "    messages=[\n",
    "        {\"role\": \"system\", \"content\": \"system_message\"},\n",
    "        {\"role\": \"user\", \"content\": prompt},\n",
    "    ], \n",
    "    temperature=temperature,\n",
    "    max_tokens=max_tokens,\n",
    "    frequency_penalty=frequency_penalty,\n",
    "    presence_penalty=presence_penalty,\n",
    "    stop=None\n",
    ")\n",
    "reply = completion['choices'][0]['message']['content']\n",
    "   "
   ]
  },
  {
   "cell_type": "markdown",
   "id": "0ec6215e-7143-47c0-b5d5-daf1dee971cb",
   "metadata": {},
   "source": [
    "### The result"
   ]
  },
  {
   "cell_type": "code",
   "execution_count": 17,
   "id": "c85fdd20-a110-4962-85e7-1cdc9d8153c5",
   "metadata": {},
   "outputs": [
    {
     "data": {
      "text/plain": [
       "dict_keys(['choices', 'created', 'id', 'model', 'object', 'prompt_filter_results', 'system_fingerprint', 'usage'])"
      ]
     },
     "execution_count": 17,
     "metadata": {},
     "output_type": "execute_result"
    }
   ],
   "source": [
    "completion.keys()"
   ]
  },
  {
   "cell_type": "markdown",
   "id": "ef498e54-86ce-40cf-8329-13ce796ecba5",
   "metadata": {},
   "source": [
    "**How many tokens did we just use?**"
   ]
  },
  {
   "cell_type": "code",
   "execution_count": 18,
   "id": "6335e205-75b3-47a5-8b95-29aa5be8fd89",
   "metadata": {},
   "outputs": [
    {
     "data": {
      "text/plain": [
       "{'completion_tokens': 45, 'prompt_tokens': 2063, 'total_tokens': 2108}"
      ]
     },
     "execution_count": 18,
     "metadata": {},
     "output_type": "execute_result"
    }
   ],
   "source": [
    "dict(completion.usage) ## Higher than our estimate because of chat token overhead"
   ]
  },
  {
   "cell_type": "markdown",
   "id": "b3e8f905-fa85-4e23-a136-e84de8df4496",
   "metadata": {},
   "source": [
    "**Did it work?**"
   ]
  },
  {
   "cell_type": "code",
   "execution_count": 19,
   "id": "0cf5d513-f325-4541-860b-35503eb1686f",
   "metadata": {},
   "outputs": [
    {
     "name": "stdout",
     "output_type": "stream",
     "text": [
      "{\n",
      "    \"NOA\": 0,\n",
      "    \"Pair\": null,\n",
      "    \"Category\": null,\n",
      "    \"Quantity\": 8,\n",
      "    \"Relevance\": 10,\n",
      "    \"Clarity\": 9\n",
      "}\n"
     ]
    }
   ],
   "source": [
    "result = dict(completion[\"choices\"][0][\"message\"])\n",
    "\n",
    "content = result['content']\n",
    "print(content)"
   ]
  },
  {
   "cell_type": "code",
   "execution_count": 20,
   "id": "dafb927c",
   "metadata": {},
   "outputs": [
    {
     "name": "stdout",
     "output_type": "stream",
     "text": [
      "{'NOA': 0, 'Pair': None, 'Category': None, 'Quantity': 8, 'Relevance': 10, 'Clarity': 9}\n"
     ]
    }
   ],
   "source": [
    "xxx=json.loads(content) \n",
    "print(xxx)"
   ]
  },
  {
   "cell_type": "markdown",
   "id": "1116c98f-281d-4a71-b310-0363a8d25a8b",
   "metadata": {},
   "source": [
    "---\n",
    "# Function demonstration\n",
    "---"
   ]
  },
  {
   "cell_type": "markdown",
   "id": "b45f908a-2205-4c5c-99cc-4a05067fe2cf",
   "metadata": {},
   "source": [
    "## Let's wrap that up into some functions\n",
    "\n",
    "We can wrap the above logic up into a function so that we can scale thing more easily."
   ]
  },
  {
   "cell_type": "code",
   "execution_count": 21,
   "id": "cd2fe5cd",
   "metadata": {},
   "outputs": [
    {
     "name": "stdout",
     "output_type": "stream",
     "text": [
      "Help on class ChatCompletion in module openai.api_resources.chat_completion:\n",
      "\n",
      "class ChatCompletion(openai.api_resources.abstract.engine_api_resource.EngineAPIResource)\n",
      " |  ChatCompletion(engine: Optional[str] = None, **kwargs)\n",
      " |  \n",
      " |  Method resolution order:\n",
      " |      ChatCompletion\n",
      " |      openai.api_resources.abstract.engine_api_resource.EngineAPIResource\n",
      " |      openai.api_resources.abstract.api_resource.APIResource\n",
      " |      openai.openai_object.OpenAIObject\n",
      " |      builtins.dict\n",
      " |      builtins.object\n",
      " |  \n",
      " |  Class methods defined here:\n",
      " |  \n",
      " |  async acreate(*args, **kwargs) from builtins.type\n",
      " |      Creates a new chat completion for the provided messages and parameters.\n",
      " |      \n",
      " |      See https://platform.openai.com/docs/api-reference/chat/create\n",
      " |      for a list of valid parameters.\n",
      " |  \n",
      " |  create(*args, **kwargs) from builtins.type\n",
      " |      Creates a new chat completion for the provided messages and parameters.\n",
      " |      \n",
      " |      See https://platform.openai.com/docs/api-reference/chat/create\n",
      " |      for a list of valid parameters.\n",
      " |  \n",
      " |  ----------------------------------------------------------------------\n",
      " |  Data and other attributes defined here:\n",
      " |  \n",
      " |  OBJECT_NAME = 'chat.completions'\n",
      " |  \n",
      " |  engine_required = False\n",
      " |  \n",
      " |  ----------------------------------------------------------------------\n",
      " |  Methods inherited from openai.api_resources.abstract.engine_api_resource.EngineAPIResource:\n",
      " |  \n",
      " |  __init__(self, engine: Optional[str] = None, **kwargs)\n",
      " |      Initialize self.  See help(type(self)) for accurate signature.\n",
      " |  \n",
      " |  async await_(self, timeout=None)\n",
      " |      Async version of `EngineApiResource.wait`\n",
      " |  \n",
      " |  instance_url(self)\n",
      " |  \n",
      " |  wait(self, timeout=None)\n",
      " |  \n",
      " |  ----------------------------------------------------------------------\n",
      " |  Class methods inherited from openai.api_resources.abstract.engine_api_resource.EngineAPIResource:\n",
      " |  \n",
      " |  class_url(engine: Optional[str] = None, api_type: Optional[str] = None, api_version: Optional[str] = None) from builtins.type\n",
      " |  \n",
      " |  ----------------------------------------------------------------------\n",
      " |  Data and other attributes inherited from openai.api_resources.abstract.engine_api_resource.EngineAPIResource:\n",
      " |  \n",
      " |  plain_old_data = False\n",
      " |  \n",
      " |  ----------------------------------------------------------------------\n",
      " |  Methods inherited from openai.api_resources.abstract.api_resource.APIResource:\n",
      " |  \n",
      " |  async arefresh(self, request_id=None, request_timeout=None)\n",
      " |  \n",
      " |  refresh(self, request_id=None, request_timeout=None)\n",
      " |  \n",
      " |  ----------------------------------------------------------------------\n",
      " |  Class methods inherited from openai.api_resources.abstract.api_resource.APIResource:\n",
      " |  \n",
      " |  aretrieve(id, api_key=None, request_id=None, request_timeout=None, **params) from builtins.type\n",
      " |  \n",
      " |  retrieve(id, api_key=None, request_id=None, request_timeout=None, **params) from builtins.type\n",
      " |  \n",
      " |  ----------------------------------------------------------------------\n",
      " |  Data and other attributes inherited from openai.api_resources.abstract.api_resource.APIResource:\n",
      " |  \n",
      " |  api_prefix = ''\n",
      " |  \n",
      " |  azure_api_prefix = 'openai'\n",
      " |  \n",
      " |  azure_deployments_prefix = 'deployments'\n",
      " |  \n",
      " |  ----------------------------------------------------------------------\n",
      " |  Methods inherited from openai.openai_object.OpenAIObject:\n",
      " |  \n",
      " |  __copy__(self)\n",
      " |      # This class overrides __setitem__ to throw exceptions on inputs that it\n",
      " |      # doesn't like. This can cause problems when we try to copy an object\n",
      " |      # wholesale because some data that's returned from the API may not be valid\n",
      " |      # if it was set to be set manually. Here we override the class' copy\n",
      " |      # arguments so that we can bypass these possible exceptions on __setitem__.\n",
      " |  \n",
      " |  __deepcopy__(self, memo)\n",
      " |      # This class overrides __setitem__ to throw exceptions on inputs that it\n",
      " |      # doesn't like. This can cause problems when we try to copy an object\n",
      " |      # wholesale because some data that's returned from the API may not be valid\n",
      " |      # if it was set to be set manually. Here we override the class' copy\n",
      " |      # arguments so that we can bypass these possible exceptions on __setitem__.\n",
      " |  \n",
      " |  __delattr__(self, k)\n",
      " |      Implement delattr(self, name).\n",
      " |  \n",
      " |  __delitem__(self, k)\n",
      " |      Delete self[key].\n",
      " |  \n",
      " |  __getattr__(self, k)\n",
      " |  \n",
      " |  __reduce__(self)\n",
      " |      Helper for pickle.\n",
      " |  \n",
      " |  __repr__(self)\n",
      " |      Return repr(self).\n",
      " |  \n",
      " |  __setattr__(self, k, v)\n",
      " |      Implement setattr(self, name, value).\n",
      " |  \n",
      " |  __setitem__(self, k, v)\n",
      " |      Set self[key] to value.\n",
      " |  \n",
      " |  __setstate__(self, state)\n",
      " |      # Custom unpickling method that uses `update` to update the dictionary\n",
      " |      # without calling __setitem__, which would fail if any value is an empty\n",
      " |      # string\n",
      " |  \n",
      " |  __str__(self)\n",
      " |      Return str(self).\n",
      " |  \n",
      " |  async arequest(self, method, url, params=None, headers=None, stream=False, plain_old_data=False, request_id: Optional[str] = None, request_timeout: Union[float, Tuple[float, float], NoneType] = None)\n",
      " |  \n",
      " |  refresh_from(self, values, api_key=None, api_version=None, api_type=None, organization=None, response_ms: Optional[int] = None)\n",
      " |  \n",
      " |  request(self, method, url, params=None, headers=None, stream=False, plain_old_data=False, request_id: Optional[str] = None, request_timeout: Union[float, Tuple[float, float], NoneType] = None)\n",
      " |  \n",
      " |  to_dict(self)\n",
      " |  \n",
      " |  to_dict_recursive(self)\n",
      " |  \n",
      " |  ----------------------------------------------------------------------\n",
      " |  Class methods inherited from openai.openai_object.OpenAIObject:\n",
      " |  \n",
      " |  api_base() from builtins.type\n",
      " |  \n",
      " |  construct_from(values, api_key: Optional[str] = None, api_version=None, organization=None, engine=None, response_ms: Optional[int] = None) from builtins.type\n",
      " |  \n",
      " |  ----------------------------------------------------------------------\n",
      " |  Readonly properties inherited from openai.openai_object.OpenAIObject:\n",
      " |  \n",
      " |  openai_id\n",
      " |  \n",
      " |  response_ms\n",
      " |  \n",
      " |  typed_api_type\n",
      " |  \n",
      " |  ----------------------------------------------------------------------\n",
      " |  Data descriptors inherited from openai.openai_object.OpenAIObject:\n",
      " |  \n",
      " |  __dict__\n",
      " |      dictionary for instance variables (if defined)\n",
      " |  \n",
      " |  __weakref__\n",
      " |      list of weak references to the object (if defined)\n",
      " |  \n",
      " |  ----------------------------------------------------------------------\n",
      " |  Data and other attributes inherited from openai.openai_object.OpenAIObject:\n",
      " |  \n",
      " |  api_base_override = None\n",
      " |  \n",
      " |  ----------------------------------------------------------------------\n",
      " |  Methods inherited from builtins.dict:\n",
      " |  \n",
      " |  __contains__(self, key, /)\n",
      " |      True if the dictionary has the specified key, else False.\n",
      " |  \n",
      " |  __eq__(self, value, /)\n",
      " |      Return self==value.\n",
      " |  \n",
      " |  __ge__(self, value, /)\n",
      " |      Return self>=value.\n",
      " |  \n",
      " |  __getattribute__(self, name, /)\n",
      " |      Return getattr(self, name).\n",
      " |  \n",
      " |  __getitem__(...)\n",
      " |      x.__getitem__(y) <==> x[y]\n",
      " |  \n",
      " |  __gt__(self, value, /)\n",
      " |      Return self>value.\n",
      " |  \n",
      " |  __ior__(self, value, /)\n",
      " |      Return self|=value.\n",
      " |  \n",
      " |  __iter__(self, /)\n",
      " |      Implement iter(self).\n",
      " |  \n",
      " |  __le__(self, value, /)\n",
      " |      Return self<=value.\n",
      " |  \n",
      " |  __len__(self, /)\n",
      " |      Return len(self).\n",
      " |  \n",
      " |  __lt__(self, value, /)\n",
      " |      Return self<value.\n",
      " |  \n",
      " |  __ne__(self, value, /)\n",
      " |      Return self!=value.\n",
      " |  \n",
      " |  __or__(self, value, /)\n",
      " |      Return self|value.\n",
      " |  \n",
      " |  __reversed__(self, /)\n",
      " |      Return a reverse iterator over the dict keys.\n",
      " |  \n",
      " |  __ror__(self, value, /)\n",
      " |      Return value|self.\n",
      " |  \n",
      " |  __sizeof__(...)\n",
      " |      D.__sizeof__() -> size of D in memory, in bytes\n",
      " |  \n",
      " |  clear(...)\n",
      " |      D.clear() -> None.  Remove all items from D.\n",
      " |  \n",
      " |  copy(...)\n",
      " |      D.copy() -> a shallow copy of D\n",
      " |  \n",
      " |  get(self, key, default=None, /)\n",
      " |      Return the value for key if key is in the dictionary, else default.\n",
      " |  \n",
      " |  items(...)\n",
      " |      D.items() -> a set-like object providing a view on D's items\n",
      " |  \n",
      " |  keys(...)\n",
      " |      D.keys() -> a set-like object providing a view on D's keys\n",
      " |  \n",
      " |  pop(...)\n",
      " |      D.pop(k[,d]) -> v, remove specified key and return the corresponding value.\n",
      " |      \n",
      " |      If the key is not found, return the default if given; otherwise,\n",
      " |      raise a KeyError.\n",
      " |  \n",
      " |  popitem(self, /)\n",
      " |      Remove and return a (key, value) pair as a 2-tuple.\n",
      " |      \n",
      " |      Pairs are returned in LIFO (last-in, first-out) order.\n",
      " |      Raises KeyError if the dict is empty.\n",
      " |  \n",
      " |  setdefault(self, key, default=None, /)\n",
      " |      Insert key with a value of default if key is not in the dictionary.\n",
      " |      \n",
      " |      Return the value for key if key is in the dictionary, else default.\n",
      " |  \n",
      " |  update(...)\n",
      " |      D.update([E, ]**F) -> None.  Update D from dict/iterable E and F.\n",
      " |      If E is present and has a .keys() method, then does:  for k in E: D[k] = E[k]\n",
      " |      If E is present and lacks a .keys() method, then does:  for k, v in E: D[k] = v\n",
      " |      In either case, this is followed by: for k in F:  D[k] = F[k]\n",
      " |  \n",
      " |  values(...)\n",
      " |      D.values() -> an object providing a view on D's values\n",
      " |  \n",
      " |  ----------------------------------------------------------------------\n",
      " |  Class methods inherited from builtins.dict:\n",
      " |  \n",
      " |  __class_getitem__(...) from builtins.type\n",
      " |      See PEP 585\n",
      " |  \n",
      " |  fromkeys(iterable, value=None, /) from builtins.type\n",
      " |      Create a new dictionary with keys from iterable and values set to value.\n",
      " |  \n",
      " |  ----------------------------------------------------------------------\n",
      " |  Static methods inherited from builtins.dict:\n",
      " |  \n",
      " |  __new__(*args, **kwargs) from builtins.type\n",
      " |      Create and return a new object.  See help(type) for accurate signature.\n",
      " |  \n",
      " |  ----------------------------------------------------------------------\n",
      " |  Data and other attributes inherited from builtins.dict:\n",
      " |  \n",
      " |  __hash__ = None\n",
      "\n"
     ]
    }
   ],
   "source": [
    "help(openai.ChatCompletion)"
   ]
  },
  {
   "cell_type": "code",
   "execution_count": 22,
   "id": "2b04b1e7",
   "metadata": {},
   "outputs": [],
   "source": [
    "def make_prediction(\n",
    "    prompt, \n",
    "    ):\n",
    "    completion = openai.ChatCompletion.create(\n",
    "        engine=engine,\n",
    "        messages=[\n",
    "            {\"role\": \"system\", \"content\": \"system_message\"},\n",
    "            {\"role\": \"user\", \"content\": prompt},\n",
    "        ], \n",
    "        temperature=temperature,\n",
    "        max_tokens=max_tokens,\n",
    "        #top_p=top_p,\n",
    "        seed=seed,\n",
    "        frequency_penalty=frequency_penalty,\n",
    "        presence_penalty=presence_penalty,\n",
    "        stop=None\n",
    "    )\n",
    "    result = dict(completion[\"choices\"][0][\"message\"])\n",
    "    content=result['content']  \n",
    "    return content\n"
   ]
  },
  {
   "cell_type": "code",
   "execution_count": 23,
   "id": "36b87caf",
   "metadata": {},
   "outputs": [
    {
     "name": "stdout",
     "output_type": "stream",
     "text": [
      "[Analysts][Andrew Lazar]Tom, I think you mentioned a couple of times about the potential opportunity to service some of the export demand that potentially some of the European suppliers might be less able to do. And I'm just curious if the potential size or magnitude of that opportunity is, I guess, is enough to continue to impact the tightness of the U.S. or North American marketplace such that, that helps keep that marketplace reasonably tight even as we head into a period of time where there is expected to be some additional industry capacity coming online.\n",
      "[Executives][Thomas Werner]Yes, Andrew. It's still early with respect to how the difficulty with the European crop's going to play out. And I will tell you right now, I anticipate in the next couple of months that it's going to start to really -- from an industry perspective, in a couple of months, it's going to start moving around in terms of the overall crop availability in Europe. We haven't seen anything right now that indicates there's going to be some big movement in volume in terms of European availability versus U.S. support. We've taken actions within our business to help support our Lamb Weston/Meijer joint venture with some material volume that we moved to the U.S. My experience with this kind of situation in the past is it takes time. And I think in the next couple of months, we'll start seeing some impact of volume movement with customers, but it's always -- the interesting thing in these situations, it always comes down to like the fourth quarter of a football game where the customers will realize that the impact and the availability of volume, they won't have an idea until the end of the crop year. So it's going to take a couple of more months to play out. I think that we're going to have opportunities that are going to come our way, but it's going to be one-offs as this situation plays out.\n",
      "[Analysts][Andrew Lazar]Yes. Got it. And then on some of the previous calls, you've given us kind of an overall perspective a little bit around what you're seeing from a trend perspective in the overall sort of key QSR sort of space with respect to consumption and takeaway and things of that nature. I'm curious if you've got just an updated view on how some of those trends look at some of your key strategic end customers.\n",
      "[Executives][Thomas Werner]Yes, Andrew. It's a mixed bag right now. I think the last 2, 3 quarters, the data we look at, the QSRs have -- the traffic's been up, check's been up, so that's a great trend. You go down the line and you look at the fast casual/midscale, they're still down, but they're not down as pronounced as they have been. So we see it in our numbers. Obviously, we've got a broad customer mix within our portfolio. But right now, the past 2, 3 quarters, the QSRs has been pretty positive overall and we can see it in our trends and our numbers. And obviously, our quarterly report today, you see that our global business unit volume has been up. So it's -- we're watching it closely. There's a lot of mixed indicators. But right now, everything looks positive for us.\n"
     ]
    }
   ],
   "source": [
    "statement_1 = statement_df.iloc[0].joint_qa\n",
    "# statement_1 = statement_1.replace('\\n', '')\n",
    "\n",
    "print(statement_1)"
   ]
  },
  {
   "cell_type": "code",
   "execution_count": 24,
   "id": "320b181f",
   "metadata": {},
   "outputs": [],
   "source": [
    "example=make_prediction(prompt)"
   ]
  },
  {
   "cell_type": "code",
   "execution_count": 25,
   "id": "faa035e5",
   "metadata": {},
   "outputs": [
    {
     "name": "stdout",
     "output_type": "stream",
     "text": [
      "{\n",
      "    \"NOA\": 0,\n",
      "    \"Pair\": null,\n",
      "    \"Category\": null,\n",
      "    \"Quantity\": 8,\n",
      "    \"Relevance\": 9,\n",
      "    \"Clarity\": 8\n",
      "}\n"
     ]
    }
   ],
   "source": [
    "print(example)"
   ]
  },
  {
   "cell_type": "code",
   "execution_count": 26,
   "id": "619ed568",
   "metadata": {},
   "outputs": [],
   "source": [
    "results=json.loads(example)"
   ]
  },
  {
   "cell_type": "code",
   "execution_count": 27,
   "id": "0b1fb972",
   "metadata": {},
   "outputs": [],
   "source": [
    "def generate_prompt(data, prompt_template):\n",
    "    prompt = prompt_template.format(**{\n",
    "        \"statement1\": statement1,\n",
    "        \"statement2\": statement2,\n",
    "        \"response1\": response1,\n",
    "        \"response2\": response2,\n",
    "        \"statement\" : data[\"joint_qa\"].strip()\n",
    "    })\n",
    "    return prompt "
   ]
  },
  {
   "cell_type": "markdown",
   "id": "64d5b123",
   "metadata": {},
   "source": [
    "# Output EXCEL file"
   ]
  },
  {
   "cell_type": "code",
   "execution_count": null,
   "id": "6167d222",
   "metadata": {},
   "outputs": [
    {
     "name": "stderr",
     "output_type": "stream",
     "text": [
      "Processing Rows:   0%|          | 0/19986 [00:00<?, ?it/s]"
     ]
    },
    {
     "name": "stdout",
     "output_type": "stream",
     "text": [
      "Processing index: 4000, Transcript ID: 1668305, Conversation ID: 16683054001\n"
     ]
    },
    {
     "name": "stderr",
     "output_type": "stream",
     "text": [
      "Processing Rows:   0%|          | 1/19986 [00:18<104:04:55, 18.75s/it]"
     ]
    },
    {
     "name": "stdout",
     "output_type": "stream",
     "text": [
      "Processing index: 4001, Transcript ID: 1668305, Conversation ID: 16683054002\n"
     ]
    },
    {
     "name": "stderr",
     "output_type": "stream",
     "text": [
      "Processing Rows:   0%|          | 2/19986 [00:35<97:53:57, 17.64s/it] "
     ]
    },
    {
     "name": "stdout",
     "output_type": "stream",
     "text": [
      "Processing index: 4002, Transcript ID: 1668305, Conversation ID: 16683054003\n"
     ]
    },
    {
     "name": "stderr",
     "output_type": "stream",
     "text": [
      "Processing Rows:   0%|          | 3/19986 [00:52<94:56:07, 17.10s/it]"
     ]
    },
    {
     "name": "stdout",
     "output_type": "stream",
     "text": [
      "Processing index: 4003, Transcript ID: 1668305, Conversation ID: 16683054004\n"
     ]
    },
    {
     "name": "stderr",
     "output_type": "stream",
     "text": [
      "Processing Rows:   0%|          | 4/19986 [01:09<94:36:19, 17.04s/it]"
     ]
    },
    {
     "name": "stdout",
     "output_type": "stream",
     "text": [
      "Processing index: 4004, Transcript ID: 1668305, Conversation ID: 16683054005\n"
     ]
    },
    {
     "name": "stderr",
     "output_type": "stream",
     "text": [
      "Processing Rows:   0%|          | 5/19986 [01:26<94:29:20, 17.02s/it]"
     ]
    },
    {
     "name": "stdout",
     "output_type": "stream",
     "text": [
      "Processing index: 4005, Transcript ID: 1668305, Conversation ID: 16683054006\n"
     ]
    },
    {
     "name": "stderr",
     "output_type": "stream",
     "text": [
      "Processing Rows:   0%|          | 6/19986 [01:43<94:44:36, 17.07s/it]"
     ]
    },
    {
     "name": "stdout",
     "output_type": "stream",
     "text": [
      "Processing index: 4006, Transcript ID: 1668305, Conversation ID: 16683054007\n"
     ]
    },
    {
     "name": "stderr",
     "output_type": "stream",
     "text": [
      "Processing Rows:   0%|          | 7/19986 [02:01<96:55:31, 17.46s/it]"
     ]
    },
    {
     "name": "stdout",
     "output_type": "stream",
     "text": [
      "Processing index: 4007, Transcript ID: 1668317, Conversation ID: 16683174008\n"
     ]
    },
    {
     "name": "stderr",
     "output_type": "stream",
     "text": [
      "Processing Rows:   0%|          | 8/19986 [02:18<95:54:25, 17.28s/it]"
     ]
    },
    {
     "name": "stdout",
     "output_type": "stream",
     "text": [
      "Processing index: 4008, Transcript ID: 1668317, Conversation ID: 16683174009\n"
     ]
    },
    {
     "name": "stderr",
     "output_type": "stream",
     "text": [
      "Processing Rows:   0%|          | 9/19986 [02:48<117:25:58, 21.16s/it]"
     ]
    },
    {
     "name": "stdout",
     "output_type": "stream",
     "text": [
      "Processing index: 4009, Transcript ID: 1668317, Conversation ID: 16683174010\n"
     ]
    },
    {
     "name": "stderr",
     "output_type": "stream",
     "text": [
      "Processing Rows:   0%|          | 10/19986 [03:17<132:24:15, 23.86s/it]"
     ]
    },
    {
     "name": "stdout",
     "output_type": "stream",
     "text": [
      "Processing index: 4010, Transcript ID: 1668317, Conversation ID: 16683174011\n"
     ]
    },
    {
     "name": "stderr",
     "output_type": "stream",
     "text": [
      "Processing Rows:   0%|          | 11/19986 [03:35<122:18:20, 22.04s/it]"
     ]
    },
    {
     "name": "stdout",
     "output_type": "stream",
     "text": [
      "Processing index: 4011, Transcript ID: 1668317, Conversation ID: 16683174012\n"
     ]
    },
    {
     "name": "stderr",
     "output_type": "stream",
     "text": [
      "Processing Rows:   0%|          | 12/19986 [04:00<127:26:21, 22.97s/it]"
     ]
    },
    {
     "name": "stdout",
     "output_type": "stream",
     "text": [
      "Processing index: 4012, Transcript ID: 1668317, Conversation ID: 16683174013\n"
     ]
    },
    {
     "name": "stderr",
     "output_type": "stream",
     "text": [
      "Processing Rows:   0%|          | 13/19986 [04:25<129:23:51, 23.32s/it]"
     ]
    },
    {
     "name": "stdout",
     "output_type": "stream",
     "text": [
      "Processing index: 4013, Transcript ID: 1668317, Conversation ID: 16683174014\n"
     ]
    },
    {
     "name": "stderr",
     "output_type": "stream",
     "text": [
      "Processing Rows:   0%|          | 14/19986 [04:41<118:32:29, 21.37s/it]"
     ]
    },
    {
     "name": "stdout",
     "output_type": "stream",
     "text": [
      "Processing index: 4014, Transcript ID: 1668317, Conversation ID: 16683174015\n"
     ]
    },
    {
     "name": "stderr",
     "output_type": "stream",
     "text": [
      "Processing Rows:   0%|          | 15/19986 [04:58<110:30:32, 19.92s/it]"
     ]
    },
    {
     "name": "stdout",
     "output_type": "stream",
     "text": [
      "Processing index: 4015, Transcript ID: 1668317, Conversation ID: 16683174016\n"
     ]
    },
    {
     "name": "stderr",
     "output_type": "stream",
     "text": [
      "Processing Rows:   0%|          | 16/19986 [05:23<118:56:56, 21.44s/it]"
     ]
    },
    {
     "name": "stdout",
     "output_type": "stream",
     "text": [
      "Processing index: 4016, Transcript ID: 1668317, Conversation ID: 16683174017\n"
     ]
    },
    {
     "name": "stderr",
     "output_type": "stream",
     "text": [
      "Processing Rows:   0%|          | 17/19986 [05:40<111:24:09, 20.08s/it]"
     ]
    },
    {
     "name": "stdout",
     "output_type": "stream",
     "text": [
      "Processing index: 4017, Transcript ID: 1668317, Conversation ID: 16683174018\n"
     ]
    },
    {
     "name": "stderr",
     "output_type": "stream",
     "text": [
      "Processing Rows:   0%|          | 18/19986 [06:11<128:55:01, 23.24s/it]"
     ]
    },
    {
     "name": "stdout",
     "output_type": "stream",
     "text": [
      "Processing index: 4018, Transcript ID: 1668317, Conversation ID: 16683174019\n"
     ]
    },
    {
     "name": "stderr",
     "output_type": "stream",
     "text": [
      "Processing Rows:   0%|          | 19/19986 [06:29<120:25:11, 21.71s/it]"
     ]
    },
    {
     "name": "stdout",
     "output_type": "stream",
     "text": [
      "Processing index: 4019, Transcript ID: 1668317, Conversation ID: 16683174020\n"
     ]
    },
    {
     "name": "stderr",
     "output_type": "stream",
     "text": [
      "Processing Rows:   0%|          | 20/19986 [06:46<113:12:40, 20.41s/it]"
     ]
    },
    {
     "name": "stdout",
     "output_type": "stream",
     "text": [
      "Processing index: 4020, Transcript ID: 1669166, Conversation ID: 16691664021\n"
     ]
    },
    {
     "name": "stderr",
     "output_type": "stream",
     "text": [
      "Processing Rows:   0%|          | 21/19986 [07:03<107:10:27, 19.33s/it]"
     ]
    },
    {
     "name": "stdout",
     "output_type": "stream",
     "text": [
      "Processing index: 4021, Transcript ID: 1669166, Conversation ID: 16691664022\n"
     ]
    },
    {
     "name": "stderr",
     "output_type": "stream",
     "text": [
      "Processing Rows:   0%|          | 22/19986 [07:20<104:19:23, 18.81s/it]"
     ]
    },
    {
     "name": "stdout",
     "output_type": "stream",
     "text": [
      "Processing index: 4022, Transcript ID: 1669166, Conversation ID: 16691664023\n"
     ]
    },
    {
     "name": "stderr",
     "output_type": "stream",
     "text": [
      "Processing Rows:   0%|          | 23/19986 [07:46<114:55:27, 20.72s/it]"
     ]
    },
    {
     "name": "stdout",
     "output_type": "stream",
     "text": [
      "Processing index: 4023, Transcript ID: 1669166, Conversation ID: 16691664024\n"
     ]
    },
    {
     "name": "stderr",
     "output_type": "stream",
     "text": [
      "Processing Rows:   0%|          | 24/19986 [08:22<140:25:09, 25.32s/it]"
     ]
    },
    {
     "name": "stdout",
     "output_type": "stream",
     "text": [
      "Processing index: 4024, Transcript ID: 1669166, Conversation ID: 16691664025\n"
     ]
    },
    {
     "name": "stderr",
     "output_type": "stream",
     "text": [
      "Processing Rows:   0%|          | 25/19986 [08:41<130:44:10, 23.58s/it]"
     ]
    },
    {
     "name": "stdout",
     "output_type": "stream",
     "text": [
      "Processing index: 4025, Transcript ID: 1669166, Conversation ID: 16691664026\n"
     ]
    },
    {
     "name": "stderr",
     "output_type": "stream",
     "text": [
      "Processing Rows:   0%|          | 26/19986 [08:59<121:14:06, 21.87s/it]"
     ]
    },
    {
     "name": "stdout",
     "output_type": "stream",
     "text": [
      "Processing index: 4026, Transcript ID: 1669733, Conversation ID: 16697334027\n"
     ]
    },
    {
     "name": "stderr",
     "output_type": "stream",
     "text": [
      "Processing Rows:   0%|          | 27/19986 [09:16<112:33:14, 20.30s/it]"
     ]
    },
    {
     "name": "stdout",
     "output_type": "stream",
     "text": [
      "Processing index: 4027, Transcript ID: 1669733, Conversation ID: 16697334028\n"
     ]
    },
    {
     "name": "stderr",
     "output_type": "stream",
     "text": [
      "Processing Rows:   0%|          | 28/19986 [09:33<108:01:34, 19.49s/it]"
     ]
    },
    {
     "name": "stdout",
     "output_type": "stream",
     "text": [
      "Processing index: 4028, Transcript ID: 1669733, Conversation ID: 16697334029\n"
     ]
    },
    {
     "name": "stderr",
     "output_type": "stream",
     "text": [
      "Processing Rows:   0%|          | 29/19986 [09:52<106:22:47, 19.19s/it]"
     ]
    },
    {
     "name": "stdout",
     "output_type": "stream",
     "text": [
      "Processing index: 4029, Transcript ID: 1669733, Conversation ID: 16697334030\n"
     ]
    },
    {
     "name": "stderr",
     "output_type": "stream",
     "text": [
      "Processing Rows:   0%|          | 30/19986 [10:09<102:33:02, 18.50s/it]"
     ]
    },
    {
     "name": "stdout",
     "output_type": "stream",
     "text": [
      "Processing index: 4030, Transcript ID: 1669733, Conversation ID: 16697334031\n"
     ]
    },
    {
     "name": "stderr",
     "output_type": "stream",
     "text": [
      "Processing Rows:   0%|          | 31/19986 [10:25<99:29:08, 17.95s/it] "
     ]
    },
    {
     "name": "stdout",
     "output_type": "stream",
     "text": [
      "Processing index: 4031, Transcript ID: 1669733, Conversation ID: 16697334032\n"
     ]
    },
    {
     "name": "stderr",
     "output_type": "stream",
     "text": [
      "Processing Rows:   0%|          | 32/19986 [10:48<106:50:38, 19.28s/it]"
     ]
    },
    {
     "name": "stdout",
     "output_type": "stream",
     "text": [
      "Processing index: 4032, Transcript ID: 1671049, Conversation ID: 16710494033\n"
     ]
    },
    {
     "name": "stderr",
     "output_type": "stream",
     "text": [
      "Processing Rows:   0%|          | 33/19986 [11:04<102:13:26, 18.44s/it]"
     ]
    },
    {
     "name": "stdout",
     "output_type": "stream",
     "text": [
      "Processing index: 4033, Transcript ID: 1671049, Conversation ID: 16710494034\n"
     ]
    },
    {
     "name": "stderr",
     "output_type": "stream",
     "text": [
      "Processing Rows:   0%|          | 34/19986 [11:21<99:31:22, 17.96s/it] "
     ]
    },
    {
     "name": "stdout",
     "output_type": "stream",
     "text": [
      "Processing index: 4034, Transcript ID: 1671049, Conversation ID: 16710494035\n"
     ]
    },
    {
     "name": "stderr",
     "output_type": "stream",
     "text": [
      "Processing Rows:   0%|          | 35/19986 [11:38<98:09:56, 17.71s/it]"
     ]
    },
    {
     "name": "stdout",
     "output_type": "stream",
     "text": [
      "Processing index: 4035, Transcript ID: 1671049, Conversation ID: 16710494036\n"
     ]
    },
    {
     "name": "stderr",
     "output_type": "stream",
     "text": [
      "Processing Rows:   0%|          | 36/19986 [11:55<95:51:51, 17.30s/it]"
     ]
    },
    {
     "name": "stdout",
     "output_type": "stream",
     "text": [
      "Processing index: 4036, Transcript ID: 1671049, Conversation ID: 16710494037\n"
     ]
    },
    {
     "name": "stderr",
     "output_type": "stream",
     "text": [
      "Processing Rows:   0%|          | 37/19986 [12:11<95:05:27, 17.16s/it]"
     ]
    },
    {
     "name": "stdout",
     "output_type": "stream",
     "text": [
      "Processing index: 4037, Transcript ID: 1671049, Conversation ID: 16710494038\n"
     ]
    },
    {
     "name": "stderr",
     "output_type": "stream",
     "text": [
      "Processing Rows:   0%|          | 38/19986 [12:28<93:57:45, 16.96s/it]"
     ]
    },
    {
     "name": "stdout",
     "output_type": "stream",
     "text": [
      "Processing index: 4038, Transcript ID: 1671064, Conversation ID: 16710644039\n"
     ]
    },
    {
     "name": "stderr",
     "output_type": "stream",
     "text": [
      "Processing Rows:   0%|          | 39/19986 [12:44<93:19:12, 16.84s/it]"
     ]
    },
    {
     "name": "stdout",
     "output_type": "stream",
     "text": [
      "Processing index: 4039, Transcript ID: 1671064, Conversation ID: 16710644040\n"
     ]
    },
    {
     "name": "stderr",
     "output_type": "stream",
     "text": [
      "Processing Rows:   0%|          | 40/19986 [13:01<93:43:16, 16.92s/it]"
     ]
    },
    {
     "name": "stdout",
     "output_type": "stream",
     "text": [
      "Processing index: 4040, Transcript ID: 1671064, Conversation ID: 16710644041\n"
     ]
    },
    {
     "name": "stderr",
     "output_type": "stream",
     "text": [
      "Processing Rows:   0%|          | 41/19986 [13:19<94:26:04, 17.05s/it]"
     ]
    },
    {
     "name": "stdout",
     "output_type": "stream",
     "text": [
      "Processing index: 4041, Transcript ID: 1671064, Conversation ID: 16710644042\n"
     ]
    },
    {
     "name": "stderr",
     "output_type": "stream",
     "text": [
      "Processing Rows:   0%|          | 42/19986 [13:36<93:52:40, 16.95s/it]"
     ]
    },
    {
     "name": "stdout",
     "output_type": "stream",
     "text": [
      "Processing index: 4042, Transcript ID: 1671064, Conversation ID: 16710644043\n"
     ]
    },
    {
     "name": "stderr",
     "output_type": "stream",
     "text": [
      "Processing Rows:   0%|          | 43/19986 [13:53<94:05:50, 16.99s/it]"
     ]
    },
    {
     "name": "stdout",
     "output_type": "stream",
     "text": [
      "Processing index: 4043, Transcript ID: 1671064, Conversation ID: 16710644044\n"
     ]
    },
    {
     "name": "stderr",
     "output_type": "stream",
     "text": [
      "Processing Rows:   0%|          | 44/19986 [14:09<93:38:05, 16.90s/it]"
     ]
    },
    {
     "name": "stdout",
     "output_type": "stream",
     "text": [
      "Processing index: 4044, Transcript ID: 1671064, Conversation ID: 16710644045\n"
     ]
    },
    {
     "name": "stderr",
     "output_type": "stream",
     "text": [
      "Processing Rows:   0%|          | 45/19986 [14:32<103:47:46, 18.74s/it]"
     ]
    },
    {
     "name": "stdout",
     "output_type": "stream",
     "text": [
      "Processing index: 4045, Transcript ID: 1671064, Conversation ID: 16710644046\n"
     ]
    },
    {
     "name": "stderr",
     "output_type": "stream",
     "text": [
      "Processing Rows:   0%|          | 46/19986 [14:49<100:33:00, 18.15s/it]"
     ]
    },
    {
     "name": "stdout",
     "output_type": "stream",
     "text": [
      "Processing index: 4046, Transcript ID: 1671092, Conversation ID: 16710924047\n"
     ]
    },
    {
     "name": "stderr",
     "output_type": "stream",
     "text": [
      "Processing Rows:   0%|          | 47/19986 [15:06<98:47:22, 17.84s/it] "
     ]
    },
    {
     "name": "stdout",
     "output_type": "stream",
     "text": [
      "Processing index: 4047, Transcript ID: 1671092, Conversation ID: 16710924048\n"
     ]
    },
    {
     "name": "stderr",
     "output_type": "stream",
     "text": [
      "Processing Rows:   0%|          | 48/19986 [15:24<98:13:57, 17.74s/it]"
     ]
    },
    {
     "name": "stdout",
     "output_type": "stream",
     "text": [
      "Processing index: 4048, Transcript ID: 1671092, Conversation ID: 16710924049\n"
     ]
    },
    {
     "name": "stderr",
     "output_type": "stream",
     "text": [
      "Processing Rows:   0%|          | 49/19986 [15:42<98:54:25, 17.86s/it]"
     ]
    },
    {
     "name": "stdout",
     "output_type": "stream",
     "text": [
      "Processing index: 4049, Transcript ID: 1671092, Conversation ID: 16710924050\n"
     ]
    },
    {
     "name": "stderr",
     "output_type": "stream",
     "text": [
      "Processing Rows:   0%|          | 50/19986 [15:59<98:01:37, 17.70s/it]"
     ]
    },
    {
     "name": "stdout",
     "output_type": "stream",
     "text": [
      "Processing index: 4050, Transcript ID: 1671092, Conversation ID: 16710924051\n"
     ]
    },
    {
     "name": "stderr",
     "output_type": "stream",
     "text": [
      "Processing Rows:   0%|          | 51/19986 [16:17<98:09:19, 17.73s/it]"
     ]
    },
    {
     "name": "stdout",
     "output_type": "stream",
     "text": [
      "Processing index: 4051, Transcript ID: 1671092, Conversation ID: 16710924052\n"
     ]
    },
    {
     "name": "stderr",
     "output_type": "stream",
     "text": [
      "Processing Rows:   0%|          | 52/19986 [16:36<99:25:14, 17.95s/it]"
     ]
    },
    {
     "name": "stdout",
     "output_type": "stream",
     "text": [
      "Processing index: 4052, Transcript ID: 1671092, Conversation ID: 16710924053\n"
     ]
    },
    {
     "name": "stderr",
     "output_type": "stream",
     "text": [
      "Processing Rows:   0%|          | 53/19986 [16:53<98:20:59, 17.76s/it]"
     ]
    },
    {
     "name": "stdout",
     "output_type": "stream",
     "text": [
      "Processing index: 4053, Transcript ID: 1671092, Conversation ID: 16710924054\n"
     ]
    },
    {
     "name": "stderr",
     "output_type": "stream",
     "text": [
      "Processing Rows:   0%|          | 54/19986 [17:10<97:27:48, 17.60s/it]"
     ]
    },
    {
     "name": "stdout",
     "output_type": "stream",
     "text": [
      "Processing index: 4054, Transcript ID: 1671092, Conversation ID: 16710924055\n"
     ]
    },
    {
     "name": "stderr",
     "output_type": "stream",
     "text": [
      "Processing Rows:   0%|          | 55/19986 [17:27<95:35:26, 17.27s/it]"
     ]
    },
    {
     "name": "stdout",
     "output_type": "stream",
     "text": [
      "Processing index: 4055, Transcript ID: 1671092, Conversation ID: 16710924056\n"
     ]
    },
    {
     "name": "stderr",
     "output_type": "stream",
     "text": [
      "Processing Rows:   0%|          | 56/19986 [17:43<94:48:44, 17.13s/it]"
     ]
    },
    {
     "name": "stdout",
     "output_type": "stream",
     "text": [
      "Processing index: 4056, Transcript ID: 1671092, Conversation ID: 16710924057\n"
     ]
    },
    {
     "name": "stderr",
     "output_type": "stream",
     "text": [
      "Processing Rows:   0%|          | 57/19986 [18:00<94:05:11, 17.00s/it]"
     ]
    },
    {
     "name": "stdout",
     "output_type": "stream",
     "text": [
      "Processing index: 4057, Transcript ID: 1671092, Conversation ID: 16710924058\n"
     ]
    },
    {
     "name": "stderr",
     "output_type": "stream",
     "text": [
      "Processing Rows:   0%|          | 58/19986 [18:17<93:54:38, 16.96s/it]"
     ]
    },
    {
     "name": "stdout",
     "output_type": "stream",
     "text": [
      "Processing index: 4058, Transcript ID: 1671092, Conversation ID: 16710924059\n"
     ]
    },
    {
     "name": "stderr",
     "output_type": "stream",
     "text": [
      "Processing Rows:   0%|          | 59/19986 [18:34<93:48:18, 16.95s/it]"
     ]
    },
    {
     "name": "stdout",
     "output_type": "stream",
     "text": [
      "Processing index: 4059, Transcript ID: 1671638, Conversation ID: 16716384060\n"
     ]
    },
    {
     "name": "stderr",
     "output_type": "stream",
     "text": [
      "Processing Rows:   0%|          | 60/19986 [18:51<93:28:34, 16.89s/it]"
     ]
    },
    {
     "name": "stdout",
     "output_type": "stream",
     "text": [
      "Processing index: 4060, Transcript ID: 1671638, Conversation ID: 16716384061\n"
     ]
    },
    {
     "name": "stderr",
     "output_type": "stream",
     "text": [
      "Processing Rows:   0%|          | 61/19986 [19:08<93:43:09, 16.93s/it]"
     ]
    },
    {
     "name": "stdout",
     "output_type": "stream",
     "text": [
      "Processing index: 4061, Transcript ID: 1671638, Conversation ID: 16716384062\n"
     ]
    },
    {
     "name": "stderr",
     "output_type": "stream",
     "text": [
      "Processing Rows:   0%|          | 62/19986 [19:25<94:31:52, 17.08s/it]"
     ]
    },
    {
     "name": "stdout",
     "output_type": "stream",
     "text": [
      "Processing index: 4062, Transcript ID: 1671638, Conversation ID: 16716384063\n"
     ]
    },
    {
     "name": "stderr",
     "output_type": "stream",
     "text": [
      "Processing Rows:   0%|          | 63/19986 [19:44<98:28:50, 17.80s/it]"
     ]
    },
    {
     "name": "stdout",
     "output_type": "stream",
     "text": [
      "Processing index: 4063, Transcript ID: 1671638, Conversation ID: 16716384064\n"
     ]
    },
    {
     "name": "stderr",
     "output_type": "stream",
     "text": [
      "Processing Rows:   0%|          | 64/19986 [20:03<100:09:03, 18.10s/it]"
     ]
    },
    {
     "name": "stdout",
     "output_type": "stream",
     "text": [
      "Processing index: 4064, Transcript ID: 1671638, Conversation ID: 16716384065\n"
     ]
    },
    {
     "name": "stderr",
     "output_type": "stream",
     "text": [
      "Processing Rows:   0%|          | 65/19986 [20:20<98:01:13, 17.71s/it] "
     ]
    },
    {
     "name": "stdout",
     "output_type": "stream",
     "text": [
      "Processing index: 4065, Transcript ID: 1671638, Conversation ID: 16716384066\n"
     ]
    },
    {
     "name": "stderr",
     "output_type": "stream",
     "text": [
      "Processing Rows:   0%|          | 66/19986 [20:38<97:45:47, 17.67s/it]"
     ]
    },
    {
     "name": "stdout",
     "output_type": "stream",
     "text": [
      "Processing index: 4066, Transcript ID: 1671640, Conversation ID: 16716404067\n"
     ]
    },
    {
     "name": "stderr",
     "output_type": "stream",
     "text": [
      "Processing Rows:   0%|          | 67/19986 [20:55<97:58:20, 17.71s/it]"
     ]
    },
    {
     "name": "stdout",
     "output_type": "stream",
     "text": [
      "Processing index: 4067, Transcript ID: 1671640, Conversation ID: 16716404068\n"
     ]
    },
    {
     "name": "stderr",
     "output_type": "stream",
     "text": [
      "Processing Rows:   0%|          | 68/19986 [21:13<97:27:35, 17.62s/it]"
     ]
    },
    {
     "name": "stdout",
     "output_type": "stream",
     "text": [
      "Processing index: 4068, Transcript ID: 1671640, Conversation ID: 16716404069\n"
     ]
    },
    {
     "name": "stderr",
     "output_type": "stream",
     "text": [
      "Processing Rows:   0%|          | 69/19986 [21:31<97:43:47, 17.66s/it]"
     ]
    },
    {
     "name": "stdout",
     "output_type": "stream",
     "text": [
      "Processing index: 4069, Transcript ID: 1671640, Conversation ID: 16716404070\n"
     ]
    },
    {
     "name": "stderr",
     "output_type": "stream",
     "text": [
      "Processing Rows:   0%|          | 70/19986 [21:48<97:18:39, 17.59s/it]"
     ]
    },
    {
     "name": "stdout",
     "output_type": "stream",
     "text": [
      "Processing index: 4070, Transcript ID: 1671640, Conversation ID: 16716404071\n"
     ]
    },
    {
     "name": "stderr",
     "output_type": "stream",
     "text": [
      "Processing Rows:   0%|          | 71/19986 [22:07<99:09:41, 17.93s/it]"
     ]
    },
    {
     "name": "stdout",
     "output_type": "stream",
     "text": [
      "Processing index: 4071, Transcript ID: 1671640, Conversation ID: 16716404072\n"
     ]
    },
    {
     "name": "stderr",
     "output_type": "stream",
     "text": [
      "Processing Rows:   0%|          | 72/19986 [22:24<98:20:20, 17.78s/it]"
     ]
    },
    {
     "name": "stdout",
     "output_type": "stream",
     "text": [
      "Processing index: 4072, Transcript ID: 1671640, Conversation ID: 16716404073\n"
     ]
    },
    {
     "name": "stderr",
     "output_type": "stream",
     "text": [
      "Processing Rows:   0%|          | 73/19986 [22:42<98:03:29, 17.73s/it]"
     ]
    },
    {
     "name": "stdout",
     "output_type": "stream",
     "text": [
      "Processing index: 4073, Transcript ID: 1671640, Conversation ID: 16716404074\n"
     ]
    },
    {
     "name": "stderr",
     "output_type": "stream",
     "text": [
      "Processing Rows:   0%|          | 74/19986 [22:59<96:27:48, 17.44s/it]"
     ]
    },
    {
     "name": "stdout",
     "output_type": "stream",
     "text": [
      "Processing index: 4074, Transcript ID: 1671640, Conversation ID: 16716404075\n"
     ]
    },
    {
     "name": "stderr",
     "output_type": "stream",
     "text": [
      "Processing Rows:   0%|          | 75/19986 [23:17<97:16:33, 17.59s/it]"
     ]
    },
    {
     "name": "stdout",
     "output_type": "stream",
     "text": [
      "Processing index: 4075, Transcript ID: 1671640, Conversation ID: 16716404076\n"
     ]
    },
    {
     "name": "stderr",
     "output_type": "stream",
     "text": [
      "Processing Rows:   0%|          | 76/19986 [23:34<97:01:37, 17.54s/it]"
     ]
    },
    {
     "name": "stdout",
     "output_type": "stream",
     "text": [
      "Processing index: 4076, Transcript ID: 1671640, Conversation ID: 16716404077\n"
     ]
    },
    {
     "name": "stderr",
     "output_type": "stream",
     "text": [
      "Processing Rows:   0%|          | 77/19986 [23:51<95:28:08, 17.26s/it]"
     ]
    },
    {
     "name": "stdout",
     "output_type": "stream",
     "text": [
      "Processing index: 4077, Transcript ID: 1671640, Conversation ID: 16716404078\n"
     ]
    },
    {
     "name": "stderr",
     "output_type": "stream",
     "text": [
      "Processing Rows:   0%|          | 78/19986 [24:08<95:25:09, 17.25s/it]"
     ]
    },
    {
     "name": "stdout",
     "output_type": "stream",
     "text": [
      "Processing index: 4078, Transcript ID: 1671936, Conversation ID: 16719364079\n"
     ]
    },
    {
     "name": "stderr",
     "output_type": "stream",
     "text": [
      "Processing Rows:   0%|          | 79/19986 [24:25<95:01:35, 17.18s/it]"
     ]
    },
    {
     "name": "stdout",
     "output_type": "stream",
     "text": [
      "Processing index: 4079, Transcript ID: 1671936, Conversation ID: 16719364080\n"
     ]
    },
    {
     "name": "stderr",
     "output_type": "stream",
     "text": [
      "Processing Rows:   0%|          | 80/19986 [24:42<94:42:26, 17.13s/it]"
     ]
    },
    {
     "name": "stdout",
     "output_type": "stream",
     "text": [
      "Processing index: 4080, Transcript ID: 1671936, Conversation ID: 16719364081\n"
     ]
    },
    {
     "name": "stderr",
     "output_type": "stream",
     "text": [
      "Processing Rows:   0%|          | 81/19986 [25:12<116:13:54, 21.02s/it]"
     ]
    },
    {
     "name": "stdout",
     "output_type": "stream",
     "text": [
      "Processing index: 4081, Transcript ID: 1671936, Conversation ID: 16719364082\n"
     ]
    },
    {
     "name": "stderr",
     "output_type": "stream",
     "text": [
      "Processing Rows:   0%|          | 82/19986 [25:30<111:30:26, 20.17s/it]"
     ]
    },
    {
     "name": "stdout",
     "output_type": "stream",
     "text": [
      "Processing index: 4082, Transcript ID: 1671936, Conversation ID: 16719364083\n"
     ]
    },
    {
     "name": "stderr",
     "output_type": "stream",
     "text": [
      "Processing Rows:   0%|          | 83/19986 [25:48<107:15:05, 19.40s/it]"
     ]
    },
    {
     "name": "stdout",
     "output_type": "stream",
     "text": [
      "Processing index: 4083, Transcript ID: 1671936, Conversation ID: 16719364084\n"
     ]
    },
    {
     "name": "stderr",
     "output_type": "stream",
     "text": [
      "Processing Rows:   0%|          | 84/19986 [26:09<110:20:04, 19.96s/it]"
     ]
    },
    {
     "name": "stdout",
     "output_type": "stream",
     "text": [
      "Processing index: 4084, Transcript ID: 1671936, Conversation ID: 16719364085\n"
     ]
    },
    {
     "name": "stderr",
     "output_type": "stream",
     "text": [
      "Processing Rows:   0%|          | 85/19986 [26:37<123:36:48, 22.36s/it]"
     ]
    },
    {
     "name": "stdout",
     "output_type": "stream",
     "text": [
      "Processing index: 4085, Transcript ID: 1671936, Conversation ID: 16719364086\n"
     ]
    },
    {
     "name": "stderr",
     "output_type": "stream",
     "text": [
      "Processing Rows:   0%|          | 86/19986 [26:55<115:57:21, 20.98s/it]"
     ]
    },
    {
     "name": "stdout",
     "output_type": "stream",
     "text": [
      "Processing index: 4086, Transcript ID: 1671936, Conversation ID: 16719364087\n"
     ]
    },
    {
     "name": "stderr",
     "output_type": "stream",
     "text": [
      "Processing Rows:   0%|          | 87/19986 [27:12<109:26:30, 19.80s/it]"
     ]
    },
    {
     "name": "stdout",
     "output_type": "stream",
     "text": [
      "Processing index: 4087, Transcript ID: 1671936, Conversation ID: 16719364088\n"
     ]
    },
    {
     "name": "stderr",
     "output_type": "stream",
     "text": [
      "Processing Rows:   0%|          | 88/19986 [27:28<104:22:12, 18.88s/it]"
     ]
    },
    {
     "name": "stdout",
     "output_type": "stream",
     "text": [
      "Processing index: 4088, Transcript ID: 1671936, Conversation ID: 16719364089\n"
     ]
    },
    {
     "name": "stderr",
     "output_type": "stream",
     "text": [
      "Processing Rows:   0%|          | 89/19986 [27:45<101:14:58, 18.32s/it]"
     ]
    },
    {
     "name": "stdout",
     "output_type": "stream",
     "text": [
      "Processing index: 4089, Transcript ID: 1671936, Conversation ID: 16719364090\n"
     ]
    },
    {
     "name": "stderr",
     "output_type": "stream",
     "text": [
      "Processing Rows:   0%|          | 90/19986 [28:03<100:06:38, 18.11s/it]"
     ]
    },
    {
     "name": "stdout",
     "output_type": "stream",
     "text": [
      "Processing index: 4090, Transcript ID: 1671936, Conversation ID: 16719364091\n"
     ]
    },
    {
     "name": "stderr",
     "output_type": "stream",
     "text": [
      "Processing Rows:   0%|          | 91/19986 [28:20<98:13:31, 17.77s/it] "
     ]
    },
    {
     "name": "stdout",
     "output_type": "stream",
     "text": [
      "Processing index: 4091, Transcript ID: 1671953, Conversation ID: 16719534092\n"
     ]
    },
    {
     "name": "stderr",
     "output_type": "stream",
     "text": [
      "Processing Rows:   0%|          | 92/19986 [28:38<98:17:30, 17.79s/it]"
     ]
    },
    {
     "name": "stdout",
     "output_type": "stream",
     "text": [
      "Processing index: 4092, Transcript ID: 1671953, Conversation ID: 16719534093\n"
     ]
    },
    {
     "name": "stderr",
     "output_type": "stream",
     "text": [
      "Processing Rows:   0%|          | 93/19986 [28:56<98:50:35, 17.89s/it]"
     ]
    },
    {
     "name": "stdout",
     "output_type": "stream",
     "text": [
      "Processing index: 4093, Transcript ID: 1671953, Conversation ID: 16719534094\n"
     ]
    },
    {
     "name": "stderr",
     "output_type": "stream",
     "text": [
      "Processing Rows:   0%|          | 94/19986 [29:13<97:01:52, 17.56s/it]"
     ]
    },
    {
     "name": "stdout",
     "output_type": "stream",
     "text": [
      "Processing index: 4094, Transcript ID: 1671953, Conversation ID: 16719534095\n"
     ]
    },
    {
     "name": "stderr",
     "output_type": "stream",
     "text": [
      "Processing Rows:   0%|          | 95/19986 [29:31<97:16:25, 17.61s/it]"
     ]
    },
    {
     "name": "stdout",
     "output_type": "stream",
     "text": [
      "Processing index: 4095, Transcript ID: 1671953, Conversation ID: 16719534096\n"
     ]
    },
    {
     "name": "stderr",
     "output_type": "stream",
     "text": [
      "Processing Rows:   0%|          | 96/19986 [29:48<96:26:40, 17.46s/it]"
     ]
    },
    {
     "name": "stdout",
     "output_type": "stream",
     "text": [
      "Processing index: 4096, Transcript ID: 1671953, Conversation ID: 16719534097\n"
     ]
    },
    {
     "name": "stderr",
     "output_type": "stream",
     "text": [
      "Processing Rows:   0%|          | 97/19986 [30:06<97:27:05, 17.64s/it]"
     ]
    },
    {
     "name": "stdout",
     "output_type": "stream",
     "text": [
      "Processing index: 4097, Transcript ID: 1671953, Conversation ID: 16719534098\n"
     ]
    },
    {
     "name": "stderr",
     "output_type": "stream",
     "text": [
      "Processing Rows:   0%|          | 98/19986 [30:22<95:27:49, 17.28s/it]"
     ]
    },
    {
     "name": "stdout",
     "output_type": "stream",
     "text": [
      "Processing index: 4098, Transcript ID: 1671953, Conversation ID: 16719534099\n"
     ]
    },
    {
     "name": "stderr",
     "output_type": "stream",
     "text": [
      "Processing Rows:   0%|          | 99/19986 [30:39<95:14:10, 17.24s/it]"
     ]
    },
    {
     "name": "stdout",
     "output_type": "stream",
     "text": [
      "Processing index: 4099, Transcript ID: 1671953, Conversation ID: 16719534100\n"
     ]
    },
    {
     "name": "stderr",
     "output_type": "stream",
     "text": [
      "Processing Rows:   1%|          | 100/19986 [30:57<96:06:45, 17.40s/it]"
     ]
    },
    {
     "name": "stdout",
     "output_type": "stream",
     "text": [
      "Processing index: 4100, Transcript ID: 1672189, Conversation ID: 16721894101\n"
     ]
    },
    {
     "name": "stderr",
     "output_type": "stream",
     "text": [
      "Processing Rows:   1%|          | 101/19986 [31:14<95:57:53, 17.37s/it]"
     ]
    },
    {
     "name": "stdout",
     "output_type": "stream",
     "text": [
      "Processing index: 4101, Transcript ID: 1672189, Conversation ID: 16721894102\n"
     ]
    },
    {
     "name": "stderr",
     "output_type": "stream",
     "text": [
      "Processing Rows:   1%|          | 102/19986 [31:32<95:38:45, 17.32s/it]"
     ]
    },
    {
     "name": "stdout",
     "output_type": "stream",
     "text": [
      "Processing index: 4102, Transcript ID: 1672189, Conversation ID: 16721894103\n"
     ]
    },
    {
     "name": "stderr",
     "output_type": "stream",
     "text": [
      "Processing Rows:   1%|          | 103/19986 [31:48<94:44:37, 17.15s/it]"
     ]
    },
    {
     "name": "stdout",
     "output_type": "stream",
     "text": [
      "Processing index: 4103, Transcript ID: 1672189, Conversation ID: 16721894104\n"
     ]
    },
    {
     "name": "stderr",
     "output_type": "stream",
     "text": [
      "Processing Rows:   1%|          | 104/19986 [32:06<95:22:25, 17.27s/it]"
     ]
    },
    {
     "name": "stdout",
     "output_type": "stream",
     "text": [
      "Processing index: 4104, Transcript ID: 1672189, Conversation ID: 16721894105\n"
     ]
    },
    {
     "name": "stderr",
     "output_type": "stream",
     "text": [
      "Processing Rows:   1%|          | 105/19986 [32:23<94:55:12, 17.19s/it]"
     ]
    },
    {
     "name": "stdout",
     "output_type": "stream",
     "text": [
      "Processing index: 4105, Transcript ID: 1672189, Conversation ID: 16721894106\n"
     ]
    },
    {
     "name": "stderr",
     "output_type": "stream",
     "text": [
      "Processing Rows:   1%|          | 106/19986 [32:40<94:21:23, 17.09s/it]"
     ]
    },
    {
     "name": "stdout",
     "output_type": "stream",
     "text": [
      "Processing index: 4106, Transcript ID: 1672189, Conversation ID: 16721894107\n"
     ]
    },
    {
     "name": "stderr",
     "output_type": "stream",
     "text": [
      "Processing Rows:   1%|          | 107/19986 [32:57<94:38:25, 17.14s/it]"
     ]
    },
    {
     "name": "stdout",
     "output_type": "stream",
     "text": [
      "Processing index: 4107, Transcript ID: 1672189, Conversation ID: 16721894108\n"
     ]
    },
    {
     "name": "stderr",
     "output_type": "stream",
     "text": [
      "Processing Rows:   1%|          | 108/19986 [33:15<95:14:43, 17.25s/it]"
     ]
    },
    {
     "name": "stdout",
     "output_type": "stream",
     "text": [
      "Processing index: 4108, Transcript ID: 1672189, Conversation ID: 16721894109\n"
     ]
    },
    {
     "name": "stderr",
     "output_type": "stream",
     "text": [
      "Processing Rows:   1%|          | 109/19986 [33:31<94:23:06, 17.09s/it]"
     ]
    },
    {
     "name": "stdout",
     "output_type": "stream",
     "text": [
      "Processing index: 4109, Transcript ID: 1672189, Conversation ID: 16721894110\n"
     ]
    },
    {
     "name": "stderr",
     "output_type": "stream",
     "text": [
      "Processing Rows:   1%|          | 110/19986 [33:56<106:58:02, 19.37s/it]"
     ]
    },
    {
     "name": "stdout",
     "output_type": "stream",
     "text": [
      "Processing index: 4110, Transcript ID: 1672202, Conversation ID: 16722024111\n"
     ]
    },
    {
     "name": "stderr",
     "output_type": "stream",
     "text": [
      "Processing Rows:   1%|          | 111/19986 [34:13<103:15:22, 18.70s/it]"
     ]
    },
    {
     "name": "stdout",
     "output_type": "stream",
     "text": [
      "Processing index: 4111, Transcript ID: 1672202, Conversation ID: 16722024112\n"
     ]
    },
    {
     "name": "stderr",
     "output_type": "stream",
     "text": [
      "Processing Rows:   1%|          | 112/19986 [34:30<100:51:06, 18.27s/it]"
     ]
    },
    {
     "name": "stdout",
     "output_type": "stream",
     "text": [
      "Processing index: 4112, Transcript ID: 1672202, Conversation ID: 16722024113\n"
     ]
    },
    {
     "name": "stderr",
     "output_type": "stream",
     "text": [
      "Processing Rows:   1%|          | 113/19986 [34:50<103:45:28, 18.80s/it]"
     ]
    },
    {
     "name": "stdout",
     "output_type": "stream",
     "text": [
      "Processing index: 4113, Transcript ID: 1672202, Conversation ID: 16722024114\n"
     ]
    },
    {
     "name": "stderr",
     "output_type": "stream",
     "text": [
      "Processing Rows:   1%|          | 114/19986 [35:20<121:42:10, 22.05s/it]"
     ]
    },
    {
     "name": "stdout",
     "output_type": "stream",
     "text": [
      "Error occurred at index 4113: Invalid control character at: line 5 column 686 (char 1269)\n",
      "Processing index: 4114, Transcript ID: 1672202, Conversation ID: 16722024115\n"
     ]
    },
    {
     "name": "stderr",
     "output_type": "stream",
     "text": [
      "Processing Rows:   1%|          | 115/19986 [35:37<113:04:42, 20.49s/it]"
     ]
    },
    {
     "name": "stdout",
     "output_type": "stream",
     "text": [
      "Processing index: 4115, Transcript ID: 1672202, Conversation ID: 16722024116\n"
     ]
    },
    {
     "name": "stderr",
     "output_type": "stream",
     "text": [
      "Processing Rows:   1%|          | 116/19986 [35:54<107:21:42, 19.45s/it]"
     ]
    },
    {
     "name": "stdout",
     "output_type": "stream",
     "text": [
      "Processing index: 4116, Transcript ID: 1672202, Conversation ID: 16722024117\n"
     ]
    },
    {
     "name": "stderr",
     "output_type": "stream",
     "text": [
      "Processing Rows:   1%|          | 117/19986 [36:13<106:18:27, 19.26s/it]"
     ]
    },
    {
     "name": "stdout",
     "output_type": "stream",
     "text": [
      "Processing index: 4117, Transcript ID: 1672202, Conversation ID: 16722024118\n"
     ]
    },
    {
     "name": "stderr",
     "output_type": "stream",
     "text": [
      "Processing Rows:   1%|          | 118/19986 [36:30<102:17:20, 18.53s/it]"
     ]
    },
    {
     "name": "stdout",
     "output_type": "stream",
     "text": [
      "Processing index: 4118, Transcript ID: 1672202, Conversation ID: 16722024119\n"
     ]
    },
    {
     "name": "stderr",
     "output_type": "stream",
     "text": [
      "Processing Rows:   1%|          | 119/19986 [36:46<99:08:06, 17.96s/it] "
     ]
    },
    {
     "name": "stdout",
     "output_type": "stream",
     "text": [
      "Processing index: 4119, Transcript ID: 1672467, Conversation ID: 16724674120\n"
     ]
    },
    {
     "name": "stderr",
     "output_type": "stream",
     "text": [
      "Processing Rows:   1%|          | 120/19986 [37:03<96:42:47, 17.53s/it]"
     ]
    },
    {
     "name": "stdout",
     "output_type": "stream",
     "text": [
      "Processing index: 4120, Transcript ID: 1672467, Conversation ID: 16724674121\n"
     ]
    },
    {
     "name": "stderr",
     "output_type": "stream",
     "text": [
      "Processing Rows:   1%|          | 121/19986 [37:19<95:19:03, 17.27s/it]"
     ]
    },
    {
     "name": "stdout",
     "output_type": "stream",
     "text": [
      "Processing index: 4121, Transcript ID: 1672467, Conversation ID: 16724674122\n"
     ]
    },
    {
     "name": "stderr",
     "output_type": "stream",
     "text": [
      "Processing Rows:   1%|          | 122/19986 [37:37<95:53:07, 17.38s/it]"
     ]
    },
    {
     "name": "stdout",
     "output_type": "stream",
     "text": [
      "Processing index: 4122, Transcript ID: 1672467, Conversation ID: 16724674123\n"
     ]
    },
    {
     "name": "stderr",
     "output_type": "stream",
     "text": [
      "Processing Rows:   1%|          | 123/19986 [37:53<94:16:14, 17.09s/it]"
     ]
    },
    {
     "name": "stdout",
     "output_type": "stream",
     "text": [
      "Processing index: 4123, Transcript ID: 1672467, Conversation ID: 16724674124\n"
     ]
    },
    {
     "name": "stderr",
     "output_type": "stream",
     "text": [
      "Processing Rows:   1%|          | 124/19986 [38:11<95:15:16, 17.26s/it]"
     ]
    },
    {
     "name": "stdout",
     "output_type": "stream",
     "text": [
      "Processing index: 4124, Transcript ID: 1672467, Conversation ID: 16724674125\n"
     ]
    },
    {
     "name": "stderr",
     "output_type": "stream",
     "text": [
      "Processing Rows:   1%|          | 125/19986 [38:28<94:08:39, 17.06s/it]"
     ]
    },
    {
     "name": "stdout",
     "output_type": "stream",
     "text": [
      "Processing index: 4125, Transcript ID: 1672467, Conversation ID: 16724674126\n"
     ]
    },
    {
     "name": "stderr",
     "output_type": "stream",
     "text": [
      "Processing Rows:   1%|          | 126/19986 [38:46<95:41:43, 17.35s/it]"
     ]
    },
    {
     "name": "stdout",
     "output_type": "stream",
     "text": [
      "Processing index: 4126, Transcript ID: 1672467, Conversation ID: 16724674127\n"
     ]
    },
    {
     "name": "stderr",
     "output_type": "stream",
     "text": [
      "Processing Rows:   1%|          | 127/19986 [39:05<99:15:37, 17.99s/it]"
     ]
    },
    {
     "name": "stdout",
     "output_type": "stream",
     "text": [
      "Processing index: 4127, Transcript ID: 1672467, Conversation ID: 16724674128\n"
     ]
    },
    {
     "name": "stderr",
     "output_type": "stream",
     "text": [
      "Processing Rows:   1%|          | 128/19986 [39:22<97:24:03, 17.66s/it]"
     ]
    },
    {
     "name": "stdout",
     "output_type": "stream",
     "text": [
      "Processing index: 4128, Transcript ID: 1672468, Conversation ID: 16724684129\n"
     ]
    },
    {
     "name": "stderr",
     "output_type": "stream",
     "text": [
      "Processing Rows:   1%|          | 129/19986 [39:39<96:14:37, 17.45s/it]"
     ]
    },
    {
     "name": "stdout",
     "output_type": "stream",
     "text": [
      "Processing index: 4129, Transcript ID: 1672468, Conversation ID: 16724684130\n"
     ]
    },
    {
     "name": "stderr",
     "output_type": "stream",
     "text": [
      "Processing Rows:   1%|          | 130/19986 [40:09<116:13:54, 21.07s/it]"
     ]
    },
    {
     "name": "stdout",
     "output_type": "stream",
     "text": [
      "Processing index: 4130, Transcript ID: 1672468, Conversation ID: 16724684131\n"
     ]
    },
    {
     "name": "stderr",
     "output_type": "stream",
     "text": [
      "Processing Rows:   1%|          | 131/19986 [40:26<110:19:19, 20.00s/it]"
     ]
    },
    {
     "name": "stdout",
     "output_type": "stream",
     "text": [
      "Processing index: 4131, Transcript ID: 1672468, Conversation ID: 16724684132\n"
     ]
    },
    {
     "name": "stderr",
     "output_type": "stream",
     "text": [
      "Processing Rows:   1%|          | 132/19986 [40:44<107:32:20, 19.50s/it]"
     ]
    },
    {
     "name": "stdout",
     "output_type": "stream",
     "text": [
      "Processing index: 4132, Transcript ID: 1672468, Conversation ID: 16724684133\n"
     ]
    },
    {
     "name": "stderr",
     "output_type": "stream",
     "text": [
      "Processing Rows:   1%|          | 133/19986 [41:01<102:57:20, 18.67s/it]"
     ]
    },
    {
     "name": "stdout",
     "output_type": "stream",
     "text": [
      "Processing index: 4133, Transcript ID: 1672468, Conversation ID: 16724684134\n"
     ]
    },
    {
     "name": "stderr",
     "output_type": "stream",
     "text": [
      "Processing Rows:   1%|          | 134/19986 [41:18<99:56:53, 18.12s/it] "
     ]
    },
    {
     "name": "stdout",
     "output_type": "stream",
     "text": [
      "Processing index: 4134, Transcript ID: 1672468, Conversation ID: 16724684135\n"
     ]
    },
    {
     "name": "stderr",
     "output_type": "stream",
     "text": [
      "Processing Rows:   1%|          | 135/19986 [41:43<111:25:57, 20.21s/it]"
     ]
    },
    {
     "name": "stdout",
     "output_type": "stream",
     "text": [
      "Processing index: 4135, Transcript ID: 1673349, Conversation ID: 16733494136\n"
     ]
    },
    {
     "name": "stderr",
     "output_type": "stream",
     "text": [
      "Processing Rows:   1%|          | 136/19986 [42:00<105:31:51, 19.14s/it]"
     ]
    },
    {
     "name": "stdout",
     "output_type": "stream",
     "text": [
      "Processing index: 4136, Transcript ID: 1673349, Conversation ID: 16733494137\n"
     ]
    },
    {
     "name": "stderr",
     "output_type": "stream",
     "text": [
      "Processing Rows:   1%|          | 137/19986 [42:17<102:16:12, 18.55s/it]"
     ]
    },
    {
     "name": "stdout",
     "output_type": "stream",
     "text": [
      "Processing index: 4137, Transcript ID: 1673349, Conversation ID: 16733494138\n"
     ]
    },
    {
     "name": "stderr",
     "output_type": "stream",
     "text": [
      "Processing Rows:   1%|          | 138/19986 [42:34<99:20:22, 18.02s/it] "
     ]
    },
    {
     "name": "stdout",
     "output_type": "stream",
     "text": [
      "Processing index: 4138, Transcript ID: 1673349, Conversation ID: 16733494139\n"
     ]
    },
    {
     "name": "stderr",
     "output_type": "stream",
     "text": [
      "Processing Rows:   1%|          | 139/19986 [42:51<97:36:59, 17.71s/it]"
     ]
    },
    {
     "name": "stdout",
     "output_type": "stream",
     "text": [
      "Processing index: 4139, Transcript ID: 1673349, Conversation ID: 16733494140\n"
     ]
    },
    {
     "name": "stderr",
     "output_type": "stream",
     "text": [
      "Processing Rows:   1%|          | 140/19986 [43:08<97:00:17, 17.60s/it]"
     ]
    },
    {
     "name": "stdout",
     "output_type": "stream",
     "text": [
      "Processing index: 4140, Transcript ID: 1673349, Conversation ID: 16733494141\n"
     ]
    },
    {
     "name": "stderr",
     "output_type": "stream",
     "text": [
      "Processing Rows:   1%|          | 141/19986 [43:25<96:47:12, 17.56s/it]"
     ]
    },
    {
     "name": "stdout",
     "output_type": "stream",
     "text": [
      "Processing index: 4141, Transcript ID: 1673349, Conversation ID: 16733494142\n"
     ]
    },
    {
     "name": "stderr",
     "output_type": "stream",
     "text": [
      "Processing Rows:   1%|          | 142/19986 [44:02<127:57:38, 23.21s/it]"
     ]
    },
    {
     "name": "stdout",
     "output_type": "stream",
     "text": [
      "Processing index: 4142, Transcript ID: 1673349, Conversation ID: 16733494143\n"
     ]
    },
    {
     "name": "stderr",
     "output_type": "stream",
     "text": [
      "Processing Rows:   1%|          | 143/19986 [44:20<119:55:00, 21.76s/it]"
     ]
    },
    {
     "name": "stdout",
     "output_type": "stream",
     "text": [
      "Processing index: 4143, Transcript ID: 1673349, Conversation ID: 16733494144\n"
     ]
    },
    {
     "name": "stderr",
     "output_type": "stream",
     "text": [
      "Processing Rows:   1%|          | 144/19986 [44:38<112:39:35, 20.44s/it]"
     ]
    },
    {
     "name": "stdout",
     "output_type": "stream",
     "text": [
      "Processing index: 4144, Transcript ID: 1673349, Conversation ID: 16733494145\n"
     ]
    },
    {
     "name": "stderr",
     "output_type": "stream",
     "text": [
      "Processing Rows:   1%|          | 145/19986 [44:55<107:15:55, 19.46s/it]"
     ]
    },
    {
     "name": "stdout",
     "output_type": "stream",
     "text": [
      "Processing index: 4145, Transcript ID: 1673349, Conversation ID: 16733494146\n"
     ]
    },
    {
     "name": "stderr",
     "output_type": "stream",
     "text": [
      "Processing Rows:   1%|          | 146/19986 [45:12<104:10:42, 18.90s/it]"
     ]
    },
    {
     "name": "stdout",
     "output_type": "stream",
     "text": [
      "Processing index: 4146, Transcript ID: 1673349, Conversation ID: 16733494147\n"
     ]
    },
    {
     "name": "stderr",
     "output_type": "stream",
     "text": [
      "Processing Rows:   1%|          | 147/19986 [45:30<101:21:48, 18.39s/it]"
     ]
    },
    {
     "name": "stdout",
     "output_type": "stream",
     "text": [
      "Processing index: 4147, Transcript ID: 1673349, Conversation ID: 16733494148\n"
     ]
    },
    {
     "name": "stderr",
     "output_type": "stream",
     "text": [
      "Processing Rows:   1%|          | 148/19986 [45:47<100:04:49, 18.16s/it]"
     ]
    },
    {
     "name": "stdout",
     "output_type": "stream",
     "text": [
      "Processing index: 4148, Transcript ID: 1673349, Conversation ID: 16733494149\n"
     ]
    },
    {
     "name": "stderr",
     "output_type": "stream",
     "text": [
      "Processing Rows:   1%|          | 149/19986 [46:04<97:28:20, 17.69s/it] "
     ]
    },
    {
     "name": "stdout",
     "output_type": "stream",
     "text": [
      "Processing index: 4149, Transcript ID: 1674358, Conversation ID: 16743584150\n"
     ]
    },
    {
     "name": "stderr",
     "output_type": "stream",
     "text": [
      "Processing Rows:   1%|          | 150/19986 [46:21<96:12:24, 17.46s/it]"
     ]
    },
    {
     "name": "stdout",
     "output_type": "stream",
     "text": [
      "Processing index: 4150, Transcript ID: 1674358, Conversation ID: 16743584151\n"
     ]
    },
    {
     "name": "stderr",
     "output_type": "stream",
     "text": [
      "Processing Rows:   1%|          | 151/19986 [46:38<96:03:50, 17.44s/it]"
     ]
    },
    {
     "name": "stdout",
     "output_type": "stream",
     "text": [
      "Processing index: 4151, Transcript ID: 1674358, Conversation ID: 16743584152\n"
     ]
    },
    {
     "name": "stderr",
     "output_type": "stream",
     "text": [
      "Processing Rows:   1%|          | 152/19986 [46:55<94:39:13, 17.18s/it]"
     ]
    },
    {
     "name": "stdout",
     "output_type": "stream",
     "text": [
      "Processing index: 4152, Transcript ID: 1674358, Conversation ID: 16743584153\n"
     ]
    },
    {
     "name": "stderr",
     "output_type": "stream",
     "text": [
      "Processing Rows:   1%|          | 153/19986 [47:12<94:32:16, 17.16s/it]"
     ]
    },
    {
     "name": "stdout",
     "output_type": "stream",
     "text": [
      "Processing index: 4153, Transcript ID: 1674358, Conversation ID: 16743584154\n"
     ]
    },
    {
     "name": "stderr",
     "output_type": "stream",
     "text": [
      "Processing Rows:   1%|          | 154/19986 [47:29<95:17:58, 17.30s/it]"
     ]
    },
    {
     "name": "stdout",
     "output_type": "stream",
     "text": [
      "Processing index: 4154, Transcript ID: 1674358, Conversation ID: 16743584155\n"
     ]
    },
    {
     "name": "stderr",
     "output_type": "stream",
     "text": [
      "Processing Rows:   1%|          | 155/19986 [47:46<95:00:32, 17.25s/it]"
     ]
    },
    {
     "name": "stdout",
     "output_type": "stream",
     "text": [
      "Processing index: 4155, Transcript ID: 1674358, Conversation ID: 16743584156\n"
     ]
    },
    {
     "name": "stderr",
     "output_type": "stream",
     "text": [
      "Processing Rows:   1%|          | 156/19986 [48:03<94:10:38, 17.10s/it]"
     ]
    },
    {
     "name": "stdout",
     "output_type": "stream",
     "text": [
      "Processing index: 4156, Transcript ID: 1674358, Conversation ID: 16743584157\n"
     ]
    },
    {
     "name": "stderr",
     "output_type": "stream",
     "text": [
      "Processing Rows:   1%|          | 157/19986 [48:20<92:52:00, 16.86s/it]"
     ]
    },
    {
     "name": "stdout",
     "output_type": "stream",
     "text": [
      "Processing index: 4157, Transcript ID: 1674450, Conversation ID: 16744504158\n"
     ]
    },
    {
     "name": "stderr",
     "output_type": "stream",
     "text": [
      "Processing Rows:   1%|          | 158/19986 [48:36<92:23:53, 16.78s/it]"
     ]
    },
    {
     "name": "stdout",
     "output_type": "stream",
     "text": [
      "Processing index: 4158, Transcript ID: 1674450, Conversation ID: 16744504159\n"
     ]
    },
    {
     "name": "stderr",
     "output_type": "stream",
     "text": [
      "Processing Rows:   1%|          | 159/19986 [48:53<93:07:46, 16.91s/it]"
     ]
    },
    {
     "name": "stdout",
     "output_type": "stream",
     "text": [
      "Processing index: 4159, Transcript ID: 1674450, Conversation ID: 16744504160\n"
     ]
    },
    {
     "name": "stderr",
     "output_type": "stream",
     "text": [
      "Processing Rows:   1%|          | 160/19986 [49:10<92:32:41, 16.80s/it]"
     ]
    },
    {
     "name": "stdout",
     "output_type": "stream",
     "text": [
      "Processing index: 4160, Transcript ID: 1674450, Conversation ID: 16744504161\n"
     ]
    },
    {
     "name": "stderr",
     "output_type": "stream",
     "text": [
      "Processing Rows:   1%|          | 161/19986 [49:27<92:20:38, 16.77s/it]"
     ]
    },
    {
     "name": "stdout",
     "output_type": "stream",
     "text": [
      "Processing index: 4161, Transcript ID: 1674450, Conversation ID: 16744504162\n"
     ]
    },
    {
     "name": "stderr",
     "output_type": "stream",
     "text": [
      "Processing Rows:   1%|          | 162/19986 [49:44<93:35:04, 16.99s/it]"
     ]
    },
    {
     "name": "stdout",
     "output_type": "stream",
     "text": [
      "Processing index: 4162, Transcript ID: 1674450, Conversation ID: 16744504163\n"
     ]
    },
    {
     "name": "stderr",
     "output_type": "stream",
     "text": [
      "Processing Rows:   1%|          | 163/19986 [50:01<92:52:45, 16.87s/it]"
     ]
    },
    {
     "name": "stdout",
     "output_type": "stream",
     "text": [
      "Processing index: 4163, Transcript ID: 1674450, Conversation ID: 16744504164\n"
     ]
    },
    {
     "name": "stderr",
     "output_type": "stream",
     "text": [
      "Processing Rows:   1%|          | 164/19986 [50:17<92:44:41, 16.84s/it]"
     ]
    },
    {
     "name": "stdout",
     "output_type": "stream",
     "text": [
      "Processing index: 4164, Transcript ID: 1674450, Conversation ID: 16744504165\n"
     ]
    },
    {
     "name": "stderr",
     "output_type": "stream",
     "text": [
      "Processing Rows:   1%|          | 165/19986 [50:35<94:04:51, 17.09s/it]"
     ]
    },
    {
     "name": "stdout",
     "output_type": "stream",
     "text": [
      "Processing index: 4165, Transcript ID: 1674450, Conversation ID: 16744504166\n"
     ]
    },
    {
     "name": "stderr",
     "output_type": "stream",
     "text": [
      "Processing Rows:   1%|          | 166/19986 [51:15<131:17:45, 23.85s/it]"
     ]
    },
    {
     "name": "stdout",
     "output_type": "stream",
     "text": [
      "Processing index: 4166, Transcript ID: 1674450, Conversation ID: 16744504167\n"
     ]
    },
    {
     "name": "stderr",
     "output_type": "stream",
     "text": [
      "Processing Rows:   1%|          | 167/19986 [51:31<119:16:57, 21.67s/it]"
     ]
    },
    {
     "name": "stdout",
     "output_type": "stream",
     "text": [
      "Processing index: 4167, Transcript ID: 1675518, Conversation ID: 16755184168\n"
     ]
    },
    {
     "name": "stderr",
     "output_type": "stream",
     "text": [
      "Processing Rows:   1%|          | 168/19986 [51:49<112:04:30, 20.36s/it]"
     ]
    },
    {
     "name": "stdout",
     "output_type": "stream",
     "text": [
      "Processing index: 4168, Transcript ID: 1675518, Conversation ID: 16755184169\n"
     ]
    },
    {
     "name": "stderr",
     "output_type": "stream",
     "text": [
      "Processing Rows:   1%|          | 169/19986 [52:17<126:02:37, 22.90s/it]"
     ]
    },
    {
     "name": "stdout",
     "output_type": "stream",
     "text": [
      "Processing index: 4169, Transcript ID: 1675518, Conversation ID: 16755184170\n"
     ]
    },
    {
     "name": "stderr",
     "output_type": "stream",
     "text": [
      "Processing Rows:   1%|          | 170/19986 [52:43<129:44:55, 23.57s/it]"
     ]
    },
    {
     "name": "stdout",
     "output_type": "stream",
     "text": [
      "Processing index: 4170, Transcript ID: 1675518, Conversation ID: 16755184171\n"
     ]
    },
    {
     "name": "stderr",
     "output_type": "stream",
     "text": [
      "Processing Rows:   1%|          | 171/19986 [53:06<130:15:22, 23.67s/it]"
     ]
    },
    {
     "name": "stdout",
     "output_type": "stream",
     "text": [
      "Processing index: 4171, Transcript ID: 1675518, Conversation ID: 16755184172\n"
     ]
    },
    {
     "name": "stderr",
     "output_type": "stream",
     "text": [
      "Processing Rows:   1%|          | 172/19986 [53:23<119:01:32, 21.63s/it]"
     ]
    },
    {
     "name": "stdout",
     "output_type": "stream",
     "text": [
      "Processing index: 4172, Transcript ID: 1675518, Conversation ID: 16755184173\n"
     ]
    },
    {
     "name": "stderr",
     "output_type": "stream",
     "text": [
      "Processing Rows:   1%|          | 173/19986 [53:50<126:57:34, 23.07s/it]"
     ]
    },
    {
     "name": "stdout",
     "output_type": "stream",
     "text": [
      "Processing index: 4173, Transcript ID: 1675536, Conversation ID: 16755364174\n"
     ]
    },
    {
     "name": "stderr",
     "output_type": "stream",
     "text": [
      "Processing Rows:   1%|          | 174/19986 [54:06<116:24:50, 21.15s/it]"
     ]
    },
    {
     "name": "stdout",
     "output_type": "stream",
     "text": [
      "Processing index: 4174, Transcript ID: 1675536, Conversation ID: 16755364175\n"
     ]
    },
    {
     "name": "stderr",
     "output_type": "stream",
     "text": [
      "Processing Rows:   1%|          | 175/19986 [54:24<109:53:28, 19.97s/it]"
     ]
    },
    {
     "name": "stdout",
     "output_type": "stream",
     "text": [
      "Processing index: 4175, Transcript ID: 1675536, Conversation ID: 16755364176\n"
     ]
    },
    {
     "name": "stderr",
     "output_type": "stream",
     "text": [
      "Processing Rows:   1%|          | 176/19986 [54:40<104:21:29, 18.96s/it]"
     ]
    },
    {
     "name": "stdout",
     "output_type": "stream",
     "text": [
      "Processing index: 4176, Transcript ID: 1675536, Conversation ID: 16755364177\n"
     ]
    },
    {
     "name": "stderr",
     "output_type": "stream",
     "text": [
      "Processing Rows:   1%|          | 177/19986 [54:57<100:18:13, 18.23s/it]"
     ]
    },
    {
     "name": "stdout",
     "output_type": "stream",
     "text": [
      "Processing index: 4177, Transcript ID: 1675536, Conversation ID: 16755364178\n"
     ]
    },
    {
     "name": "stderr",
     "output_type": "stream",
     "text": [
      "Processing Rows:   1%|          | 178/19986 [55:13<97:29:32, 17.72s/it] "
     ]
    },
    {
     "name": "stdout",
     "output_type": "stream",
     "text": [
      "Processing index: 4178, Transcript ID: 1675536, Conversation ID: 16755364179\n"
     ]
    },
    {
     "name": "stderr",
     "output_type": "stream",
     "text": [
      "Processing Rows:   1%|          | 179/19986 [55:31<97:10:10, 17.66s/it]"
     ]
    },
    {
     "name": "stdout",
     "output_type": "stream",
     "text": [
      "Processing index: 4179, Transcript ID: 1675536, Conversation ID: 16755364180\n"
     ]
    },
    {
     "name": "stderr",
     "output_type": "stream",
     "text": [
      "Processing Rows:   1%|          | 180/19986 [55:48<95:54:18, 17.43s/it]"
     ]
    },
    {
     "name": "stdout",
     "output_type": "stream",
     "text": [
      "Processing index: 4180, Transcript ID: 1675536, Conversation ID: 16755364181\n"
     ]
    },
    {
     "name": "stderr",
     "output_type": "stream",
     "text": [
      "Processing Rows:   1%|          | 181/19986 [56:24<127:40:35, 23.21s/it]"
     ]
    },
    {
     "name": "stdout",
     "output_type": "stream",
     "text": [
      "Error occurred at index 4180: Expecting ',' delimiter: line 5 column 2077 (char 2341)\n",
      "Processing index: 4181, Transcript ID: 1675536, Conversation ID: 16755364182\n"
     ]
    },
    {
     "name": "stderr",
     "output_type": "stream",
     "text": [
      "Processing Rows:   1%|          | 182/19986 [56:55<140:20:24, 25.51s/it]"
     ]
    },
    {
     "name": "stdout",
     "output_type": "stream",
     "text": [
      "Processing index: 4182, Transcript ID: 1675536, Conversation ID: 16755364183\n"
     ]
    },
    {
     "name": "stderr",
     "output_type": "stream",
     "text": [
      "Processing Rows:   1%|          | 183/19986 [57:15<131:14:17, 23.86s/it]"
     ]
    },
    {
     "name": "stdout",
     "output_type": "stream",
     "text": [
      "Processing index: 4183, Transcript ID: 1675536, Conversation ID: 16755364184\n"
     ]
    },
    {
     "name": "stderr",
     "output_type": "stream",
     "text": [
      "Processing Rows:   1%|          | 184/19986 [57:36<125:19:16, 22.78s/it]"
     ]
    },
    {
     "name": "stdout",
     "output_type": "stream",
     "text": [
      "Processing index: 4184, Transcript ID: 1675536, Conversation ID: 16755364185\n"
     ]
    },
    {
     "name": "stderr",
     "output_type": "stream",
     "text": [
      "Processing Rows:   1%|          | 185/19986 [57:52<115:19:21, 20.97s/it]"
     ]
    },
    {
     "name": "stdout",
     "output_type": "stream",
     "text": [
      "Processing index: 4185, Transcript ID: 1675536, Conversation ID: 16755364186\n"
     ]
    },
    {
     "name": "stderr",
     "output_type": "stream",
     "text": [
      "Processing Rows:   1%|          | 186/19986 [58:14<116:30:52, 21.18s/it]"
     ]
    },
    {
     "name": "stdout",
     "output_type": "stream",
     "text": [
      "Processing index: 4186, Transcript ID: 1675536, Conversation ID: 16755364187\n"
     ]
    },
    {
     "name": "stderr",
     "output_type": "stream",
     "text": [
      "Processing Rows:   1%|          | 187/19986 [58:31<109:09:02, 19.85s/it]"
     ]
    },
    {
     "name": "stdout",
     "output_type": "stream",
     "text": [
      "Processing index: 4187, Transcript ID: 1675536, Conversation ID: 16755364188\n"
     ]
    },
    {
     "name": "stderr",
     "output_type": "stream",
     "text": [
      "Processing Rows:   1%|          | 188/19986 [58:48<105:29:27, 19.18s/it]"
     ]
    },
    {
     "name": "stdout",
     "output_type": "stream",
     "text": [
      "Processing index: 4188, Transcript ID: 1675536, Conversation ID: 16755364189\n"
     ]
    },
    {
     "name": "stderr",
     "output_type": "stream",
     "text": [
      "Processing Rows:   1%|          | 189/19986 [59:06<103:14:16, 18.77s/it]"
     ]
    },
    {
     "name": "stdout",
     "output_type": "stream",
     "text": [
      "Processing index: 4189, Transcript ID: 1675550, Conversation ID: 16755504190\n"
     ]
    },
    {
     "name": "stderr",
     "output_type": "stream",
     "text": [
      "Processing Rows:   1%|          | 190/19986 [59:23<99:22:39, 18.07s/it] "
     ]
    },
    {
     "name": "stdout",
     "output_type": "stream",
     "text": [
      "Processing index: 4190, Transcript ID: 1675550, Conversation ID: 16755504191\n"
     ]
    },
    {
     "name": "stderr",
     "output_type": "stream",
     "text": [
      "Processing Rows:   1%|          | 191/19986 [59:40<97:44:00, 17.77s/it]"
     ]
    },
    {
     "name": "stdout",
     "output_type": "stream",
     "text": [
      "Processing index: 4191, Transcript ID: 1675550, Conversation ID: 16755504192\n"
     ]
    },
    {
     "name": "stderr",
     "output_type": "stream",
     "text": [
      "Processing Rows:   1%|          | 192/19986 [59:57<96:07:33, 17.48s/it]"
     ]
    },
    {
     "name": "stdout",
     "output_type": "stream",
     "text": [
      "Processing index: 4192, Transcript ID: 1675550, Conversation ID: 16755504193\n"
     ]
    },
    {
     "name": "stderr",
     "output_type": "stream",
     "text": [
      "Processing Rows:   1%|          | 193/19986 [1:00:13<94:56:11, 17.27s/it]"
     ]
    },
    {
     "name": "stdout",
     "output_type": "stream",
     "text": [
      "Processing index: 4193, Transcript ID: 1675550, Conversation ID: 16755504194\n"
     ]
    },
    {
     "name": "stderr",
     "output_type": "stream",
     "text": [
      "Processing Rows:   1%|          | 194/19986 [1:00:30<94:28:45, 17.19s/it]"
     ]
    },
    {
     "name": "stdout",
     "output_type": "stream",
     "text": [
      "Processing index: 4194, Transcript ID: 1675550, Conversation ID: 16755504195\n"
     ]
    },
    {
     "name": "stderr",
     "output_type": "stream",
     "text": [
      "Processing Rows:   1%|          | 195/19986 [1:00:47<94:09:20, 17.13s/it]"
     ]
    },
    {
     "name": "stdout",
     "output_type": "stream",
     "text": [
      "Processing index: 4195, Transcript ID: 1675550, Conversation ID: 16755504196\n"
     ]
    },
    {
     "name": "stderr",
     "output_type": "stream",
     "text": [
      "Processing Rows:   1%|          | 196/19986 [1:01:08<100:11:09, 18.22s/it]"
     ]
    },
    {
     "name": "stdout",
     "output_type": "stream",
     "text": [
      "Processing index: 4196, Transcript ID: 1675550, Conversation ID: 16755504197\n"
     ]
    },
    {
     "name": "stderr",
     "output_type": "stream",
     "text": [
      "Processing Rows:   1%|          | 197/19986 [1:01:25<98:24:38, 17.90s/it] "
     ]
    },
    {
     "name": "stdout",
     "output_type": "stream",
     "text": [
      "Processing index: 4197, Transcript ID: 1675796, Conversation ID: 16757964198\n"
     ]
    },
    {
     "name": "stderr",
     "output_type": "stream",
     "text": [
      "Processing Rows:   1%|          | 198/19986 [1:01:44<100:06:57, 18.21s/it]"
     ]
    },
    {
     "name": "stdout",
     "output_type": "stream",
     "text": [
      "Processing index: 4198, Transcript ID: 1675796, Conversation ID: 16757964199\n"
     ]
    },
    {
     "name": "stderr",
     "output_type": "stream",
     "text": [
      "Processing Rows:   1%|          | 199/19986 [1:02:02<99:22:43, 18.08s/it] "
     ]
    },
    {
     "name": "stdout",
     "output_type": "stream",
     "text": [
      "Processing index: 4199, Transcript ID: 1675796, Conversation ID: 16757964200\n"
     ]
    },
    {
     "name": "stderr",
     "output_type": "stream",
     "text": [
      "Processing Rows:   1%|          | 200/19986 [1:02:19<97:25:54, 17.73s/it]"
     ]
    },
    {
     "name": "stdout",
     "output_type": "stream",
     "text": [
      "Processing index: 4200, Transcript ID: 1675796, Conversation ID: 16757964201\n"
     ]
    },
    {
     "name": "stderr",
     "output_type": "stream",
     "text": [
      "Processing Rows:   1%|          | 201/19986 [1:02:36<96:50:06, 17.62s/it]"
     ]
    },
    {
     "name": "stdout",
     "output_type": "stream",
     "text": [
      "Processing index: 4201, Transcript ID: 1675796, Conversation ID: 16757964202\n"
     ]
    },
    {
     "name": "stderr",
     "output_type": "stream",
     "text": [
      "Processing Rows:   1%|          | 202/19986 [1:02:53<95:40:37, 17.41s/it]"
     ]
    },
    {
     "name": "stdout",
     "output_type": "stream",
     "text": [
      "Processing index: 4202, Transcript ID: 1675796, Conversation ID: 16757964203\n"
     ]
    },
    {
     "name": "stderr",
     "output_type": "stream",
     "text": [
      "Processing Rows:   1%|          | 203/19986 [1:03:11<95:55:02, 17.45s/it]"
     ]
    },
    {
     "name": "stdout",
     "output_type": "stream",
     "text": [
      "Processing index: 4203, Transcript ID: 1675796, Conversation ID: 16757964204\n"
     ]
    },
    {
     "name": "stderr",
     "output_type": "stream",
     "text": [
      "Processing Rows:   1%|          | 204/19986 [1:03:28<95:01:18, 17.29s/it]"
     ]
    },
    {
     "name": "stdout",
     "output_type": "stream",
     "text": [
      "Processing index: 4204, Transcript ID: 1675796, Conversation ID: 16757964205\n"
     ]
    },
    {
     "name": "stderr",
     "output_type": "stream",
     "text": [
      "Processing Rows:   1%|          | 205/19986 [1:03:45<95:12:16, 17.33s/it]"
     ]
    },
    {
     "name": "stdout",
     "output_type": "stream",
     "text": [
      "Processing index: 4205, Transcript ID: 1675796, Conversation ID: 16757964206\n"
     ]
    },
    {
     "name": "stderr",
     "output_type": "stream",
     "text": [
      "Processing Rows:   1%|          | 206/19986 [1:04:02<95:15:55, 17.34s/it]"
     ]
    },
    {
     "name": "stdout",
     "output_type": "stream",
     "text": [
      "Processing index: 4206, Transcript ID: 1675796, Conversation ID: 16757964207\n"
     ]
    },
    {
     "name": "stderr",
     "output_type": "stream",
     "text": [
      "Processing Rows:   1%|          | 207/19986 [1:04:19<94:10:31, 17.14s/it]"
     ]
    },
    {
     "name": "stdout",
     "output_type": "stream",
     "text": [
      "Processing index: 4207, Transcript ID: 1675796, Conversation ID: 16757964208\n"
     ]
    },
    {
     "name": "stderr",
     "output_type": "stream",
     "text": [
      "Processing Rows:   1%|          | 208/19986 [1:04:45<108:19:12, 19.72s/it]"
     ]
    },
    {
     "name": "stdout",
     "output_type": "stream",
     "text": [
      "Processing index: 4208, Transcript ID: 1675796, Conversation ID: 16757964209\n"
     ]
    },
    {
     "name": "stderr",
     "output_type": "stream",
     "text": [
      "Processing Rows:   1%|          | 209/19986 [1:05:08<114:39:50, 20.87s/it]"
     ]
    },
    {
     "name": "stdout",
     "output_type": "stream",
     "text": [
      "Processing index: 4209, Transcript ID: 1675906, Conversation ID: 16759064210\n"
     ]
    },
    {
     "name": "stderr",
     "output_type": "stream",
     "text": [
      "Processing Rows:   1%|          | 210/19986 [1:05:25<108:13:32, 19.70s/it]"
     ]
    },
    {
     "name": "stdout",
     "output_type": "stream",
     "text": [
      "Processing index: 4210, Transcript ID: 1675906, Conversation ID: 16759064211\n"
     ]
    },
    {
     "name": "stderr",
     "output_type": "stream",
     "text": [
      "Processing Rows:   1%|          | 211/19986 [1:05:42<103:15:14, 18.80s/it]"
     ]
    },
    {
     "name": "stdout",
     "output_type": "stream",
     "text": [
      "Processing index: 4211, Transcript ID: 1675906, Conversation ID: 16759064212\n"
     ]
    },
    {
     "name": "stderr",
     "output_type": "stream",
     "text": [
      "Processing Rows:   1%|          | 212/19986 [1:05:59<99:40:09, 18.15s/it] "
     ]
    },
    {
     "name": "stdout",
     "output_type": "stream",
     "text": [
      "Processing index: 4212, Transcript ID: 1675906, Conversation ID: 16759064213\n"
     ]
    },
    {
     "name": "stderr",
     "output_type": "stream",
     "text": [
      "Processing Rows:   1%|          | 213/19986 [1:06:16<99:02:39, 18.03s/it]"
     ]
    },
    {
     "name": "stdout",
     "output_type": "stream",
     "text": [
      "Processing index: 4213, Transcript ID: 1675906, Conversation ID: 16759064214\n"
     ]
    },
    {
     "name": "stderr",
     "output_type": "stream",
     "text": [
      "Processing Rows:   1%|          | 214/19986 [1:06:33<96:39:14, 17.60s/it]"
     ]
    },
    {
     "name": "stdout",
     "output_type": "stream",
     "text": [
      "Processing index: 4214, Transcript ID: 1675906, Conversation ID: 16759064215\n"
     ]
    },
    {
     "name": "stderr",
     "output_type": "stream",
     "text": [
      "Processing Rows:   1%|          | 215/19986 [1:06:55<103:12:55, 18.79s/it]"
     ]
    },
    {
     "name": "stdout",
     "output_type": "stream",
     "text": [
      "Processing index: 4215, Transcript ID: 1675906, Conversation ID: 16759064216\n"
     ]
    },
    {
     "name": "stderr",
     "output_type": "stream",
     "text": [
      "Processing Rows:   1%|          | 216/19986 [1:07:11<100:03:24, 18.22s/it]"
     ]
    },
    {
     "name": "stdout",
     "output_type": "stream",
     "text": [
      "Processing index: 4216, Transcript ID: 1675906, Conversation ID: 16759064217\n"
     ]
    },
    {
     "name": "stderr",
     "output_type": "stream",
     "text": [
      "Processing Rows:   1%|          | 217/19986 [1:07:28<97:24:10, 17.74s/it] "
     ]
    },
    {
     "name": "stdout",
     "output_type": "stream",
     "text": [
      "Processing index: 4217, Transcript ID: 1676050, Conversation ID: 16760504218\n"
     ]
    },
    {
     "name": "stderr",
     "output_type": "stream",
     "text": [
      "Processing Rows:   1%|          | 218/19986 [1:07:45<96:17:49, 17.54s/it]"
     ]
    },
    {
     "name": "stdout",
     "output_type": "stream",
     "text": [
      "Processing index: 4218, Transcript ID: 1676050, Conversation ID: 16760504219\n"
     ]
    },
    {
     "name": "stderr",
     "output_type": "stream",
     "text": [
      "Processing Rows:   1%|          | 219/19986 [1:08:03<97:37:03, 17.78s/it]"
     ]
    },
    {
     "name": "stdout",
     "output_type": "stream",
     "text": [
      "Processing index: 4219, Transcript ID: 1676050, Conversation ID: 16760504220\n"
     ]
    },
    {
     "name": "stderr",
     "output_type": "stream",
     "text": [
      "Processing Rows:   1%|          | 220/19986 [1:08:20<95:52:05, 17.46s/it]"
     ]
    },
    {
     "name": "stdout",
     "output_type": "stream",
     "text": [
      "Processing index: 4220, Transcript ID: 1676050, Conversation ID: 16760504221\n"
     ]
    },
    {
     "name": "stderr",
     "output_type": "stream",
     "text": [
      "Processing Rows:   1%|          | 221/19986 [1:08:44<106:27:48, 19.39s/it]"
     ]
    },
    {
     "name": "stdout",
     "output_type": "stream",
     "text": [
      "Processing index: 4221, Transcript ID: 1676050, Conversation ID: 16760504222\n"
     ]
    },
    {
     "name": "stderr",
     "output_type": "stream",
     "text": [
      "Processing Rows:   1%|          | 222/19986 [1:09:05<108:55:09, 19.84s/it]"
     ]
    },
    {
     "name": "stdout",
     "output_type": "stream",
     "text": [
      "Processing index: 4222, Transcript ID: 1676050, Conversation ID: 16760504223\n"
     ]
    },
    {
     "name": "stderr",
     "output_type": "stream",
     "text": [
      "Processing Rows:   1%|          | 223/19986 [1:09:30<117:41:25, 21.44s/it]"
     ]
    },
    {
     "name": "stdout",
     "output_type": "stream",
     "text": [
      "Processing index: 4223, Transcript ID: 1676050, Conversation ID: 16760504224\n"
     ]
    },
    {
     "name": "stderr",
     "output_type": "stream",
     "text": [
      "Processing Rows:   1%|          | 224/19986 [1:09:48<112:36:32, 20.51s/it]"
     ]
    },
    {
     "name": "stdout",
     "output_type": "stream",
     "text": [
      "Processing index: 4224, Transcript ID: 1676050, Conversation ID: 16760504225\n"
     ]
    },
    {
     "name": "stderr",
     "output_type": "stream",
     "text": [
      "Processing Rows:   1%|          | 225/19986 [1:10:06<107:00:33, 19.49s/it]"
     ]
    },
    {
     "name": "stdout",
     "output_type": "stream",
     "text": [
      "Processing index: 4225, Transcript ID: 1676116, Conversation ID: 16761164226\n"
     ]
    },
    {
     "name": "stderr",
     "output_type": "stream",
     "text": [
      "Processing Rows:   1%|          | 226/19986 [1:10:22<102:42:05, 18.71s/it]"
     ]
    },
    {
     "name": "stdout",
     "output_type": "stream",
     "text": [
      "Processing index: 4226, Transcript ID: 1676116, Conversation ID: 16761164227\n"
     ]
    },
    {
     "name": "stderr",
     "output_type": "stream",
     "text": [
      "Processing Rows:   1%|          | 227/19986 [1:10:40<100:57:47, 18.40s/it]"
     ]
    },
    {
     "name": "stdout",
     "output_type": "stream",
     "text": [
      "Processing index: 4227, Transcript ID: 1676116, Conversation ID: 16761164228\n"
     ]
    },
    {
     "name": "stderr",
     "output_type": "stream",
     "text": [
      "Processing Rows:   1%|          | 228/19986 [1:11:12<122:50:34, 22.38s/it]"
     ]
    },
    {
     "name": "stdout",
     "output_type": "stream",
     "text": [
      "Processing index: 4228, Transcript ID: 1676116, Conversation ID: 16761164229\n"
     ]
    },
    {
     "name": "stderr",
     "output_type": "stream",
     "text": [
      "Processing Rows:   1%|          | 229/19986 [1:11:29<114:25:45, 20.85s/it]"
     ]
    },
    {
     "name": "stdout",
     "output_type": "stream",
     "text": [
      "Processing index: 4229, Transcript ID: 1676116, Conversation ID: 16761164230\n"
     ]
    },
    {
     "name": "stderr",
     "output_type": "stream",
     "text": [
      "Processing Rows:   1%|          | 230/19986 [1:11:46<108:36:42, 19.79s/it]"
     ]
    },
    {
     "name": "stdout",
     "output_type": "stream",
     "text": [
      "Processing index: 4230, Transcript ID: 1676116, Conversation ID: 16761164231\n"
     ]
    },
    {
     "name": "stderr",
     "output_type": "stream",
     "text": [
      "Processing Rows:   1%|          | 231/19986 [1:12:10<114:39:58, 20.90s/it]"
     ]
    },
    {
     "name": "stdout",
     "output_type": "stream",
     "text": [
      "Processing index: 4231, Transcript ID: 1676116, Conversation ID: 16761164232\n"
     ]
    },
    {
     "name": "stderr",
     "output_type": "stream",
     "text": [
      "Processing Rows:   1%|          | 232/19986 [1:12:28<109:34:02, 19.97s/it]"
     ]
    },
    {
     "name": "stdout",
     "output_type": "stream",
     "text": [
      "Processing index: 4232, Transcript ID: 1676116, Conversation ID: 16761164233\n"
     ]
    },
    {
     "name": "stderr",
     "output_type": "stream",
     "text": [
      "Processing Rows:   1%|          | 233/19986 [1:13:04<136:33:23, 24.89s/it]"
     ]
    },
    {
     "name": "stdout",
     "output_type": "stream",
     "text": [
      "Processing index: 4233, Transcript ID: 1676592, Conversation ID: 16765924234\n"
     ]
    },
    {
     "name": "stderr",
     "output_type": "stream",
     "text": [
      "Processing Rows:   1%|          | 234/19986 [1:13:41<155:59:25, 28.43s/it]"
     ]
    },
    {
     "name": "stdout",
     "output_type": "stream",
     "text": [
      "Processing index: 4234, Transcript ID: 1676592, Conversation ID: 16765924235\n"
     ]
    },
    {
     "name": "stderr",
     "output_type": "stream",
     "text": [
      "Processing Rows:   1%|          | 235/19986 [1:13:59<138:56:03, 25.32s/it]"
     ]
    },
    {
     "name": "stdout",
     "output_type": "stream",
     "text": [
      "Processing index: 4235, Transcript ID: 1676592, Conversation ID: 16765924236\n"
     ]
    },
    {
     "name": "stderr",
     "output_type": "stream",
     "text": [
      "Processing Rows:   1%|          | 236/19986 [1:14:16<125:02:57, 22.79s/it]"
     ]
    },
    {
     "name": "stdout",
     "output_type": "stream",
     "text": [
      "Processing index: 4236, Transcript ID: 1676592, Conversation ID: 16765924237\n"
     ]
    },
    {
     "name": "stderr",
     "output_type": "stream",
     "text": [
      "Processing Rows:   1%|          | 237/19986 [1:14:59<158:43:42, 28.93s/it]"
     ]
    },
    {
     "name": "stdout",
     "output_type": "stream",
     "text": [
      "Processing index: 4237, Transcript ID: 1676592, Conversation ID: 16765924238\n"
     ]
    },
    {
     "name": "stderr",
     "output_type": "stream",
     "text": [
      "Processing Rows:   1%|          | 238/19986 [1:15:23<150:29:56, 27.44s/it]"
     ]
    },
    {
     "name": "stdout",
     "output_type": "stream",
     "text": [
      "Processing index: 4238, Transcript ID: 1676592, Conversation ID: 16765924239\n"
     ]
    },
    {
     "name": "stderr",
     "output_type": "stream",
     "text": [
      "Processing Rows:   1%|          | 239/19986 [1:16:23<204:01:41, 37.20s/it]"
     ]
    },
    {
     "name": "stdout",
     "output_type": "stream",
     "text": [
      "Processing index: 4239, Transcript ID: 1676592, Conversation ID: 16765924240\n"
     ]
    },
    {
     "name": "stderr",
     "output_type": "stream",
     "text": [
      "Processing Rows:   1%|          | 240/19986 [1:16:41<172:04:30, 31.37s/it]"
     ]
    },
    {
     "name": "stdout",
     "output_type": "stream",
     "text": [
      "Processing index: 4240, Transcript ID: 1676592, Conversation ID: 16765924241\n"
     ]
    },
    {
     "name": "stderr",
     "output_type": "stream",
     "text": [
      "Processing Rows:   1%|          | 241/19986 [1:17:25<193:34:00, 35.29s/it]"
     ]
    },
    {
     "name": "stdout",
     "output_type": "stream",
     "text": [
      "Processing index: 4241, Transcript ID: 1676592, Conversation ID: 16765924242\n"
     ]
    },
    {
     "name": "stderr",
     "output_type": "stream",
     "text": [
      "Processing Rows:   1%|          | 242/19986 [1:17:41<162:24:22, 29.61s/it]"
     ]
    },
    {
     "name": "stdout",
     "output_type": "stream",
     "text": [
      "Processing index: 4242, Transcript ID: 1676592, Conversation ID: 16765924243\n"
     ]
    },
    {
     "name": "stderr",
     "output_type": "stream",
     "text": [
      "Processing Rows:   1%|          | 243/19986 [1:18:22<180:53:46, 32.99s/it]"
     ]
    },
    {
     "name": "stdout",
     "output_type": "stream",
     "text": [
      "Processing index: 4243, Transcript ID: 1676621, Conversation ID: 16766214244\n"
     ]
    },
    {
     "name": "stderr",
     "output_type": "stream",
     "text": [
      "Processing Rows:   1%|          | 244/19986 [1:18:40<155:06:24, 28.28s/it]"
     ]
    },
    {
     "name": "stdout",
     "output_type": "stream",
     "text": [
      "Processing index: 4244, Transcript ID: 1676621, Conversation ID: 16766214245\n"
     ]
    },
    {
     "name": "stderr",
     "output_type": "stream",
     "text": [
      "Processing Rows:   1%|          | 245/19986 [1:18:57<137:22:50, 25.05s/it]"
     ]
    },
    {
     "name": "stdout",
     "output_type": "stream",
     "text": [
      "Processing index: 4245, Transcript ID: 1676621, Conversation ID: 16766214246\n"
     ]
    },
    {
     "name": "stderr",
     "output_type": "stream",
     "text": [
      "Processing Rows:   1%|          | 246/19986 [1:19:14<123:56:36, 22.60s/it]"
     ]
    },
    {
     "name": "stdout",
     "output_type": "stream",
     "text": [
      "Processing index: 4246, Transcript ID: 1676621, Conversation ID: 16766214247\n"
     ]
    },
    {
     "name": "stderr",
     "output_type": "stream",
     "text": [
      "Processing Rows:   1%|          | 247/19986 [1:19:32<115:34:16, 21.08s/it]"
     ]
    },
    {
     "name": "stdout",
     "output_type": "stream",
     "text": [
      "Processing index: 4247, Transcript ID: 1676621, Conversation ID: 16766214248\n"
     ]
    },
    {
     "name": "stderr",
     "output_type": "stream",
     "text": [
      "Processing Rows:   1%|          | 248/19986 [1:19:54<118:12:08, 21.56s/it]"
     ]
    },
    {
     "name": "stdout",
     "output_type": "stream",
     "text": [
      "Processing index: 4248, Transcript ID: 1676621, Conversation ID: 16766214249\n"
     ]
    },
    {
     "name": "stderr",
     "output_type": "stream",
     "text": [
      "Processing Rows:   1%|          | 249/19986 [1:20:22<128:28:04, 23.43s/it]"
     ]
    },
    {
     "name": "stdout",
     "output_type": "stream",
     "text": [
      "Processing index: 4249, Transcript ID: 1676709, Conversation ID: 16767094250\n"
     ]
    },
    {
     "name": "stderr",
     "output_type": "stream",
     "text": [
      "Processing Rows:   1%|▏         | 250/19986 [1:20:39<117:22:06, 21.41s/it]"
     ]
    },
    {
     "name": "stdout",
     "output_type": "stream",
     "text": [
      "Processing index: 4250, Transcript ID: 1676709, Conversation ID: 16767094251\n"
     ]
    },
    {
     "name": "stderr",
     "output_type": "stream",
     "text": [
      "Processing Rows:   1%|▏         | 251/19986 [1:20:56<110:07:00, 20.09s/it]"
     ]
    },
    {
     "name": "stdout",
     "output_type": "stream",
     "text": [
      "Processing index: 4251, Transcript ID: 1676709, Conversation ID: 16767094252\n"
     ]
    },
    {
     "name": "stderr",
     "output_type": "stream",
     "text": [
      "Processing Rows:   1%|▏         | 252/19986 [1:21:13<105:16:12, 19.20s/it]"
     ]
    },
    {
     "name": "stdout",
     "output_type": "stream",
     "text": [
      "Processing index: 4252, Transcript ID: 1676709, Conversation ID: 16767094253\n"
     ]
    },
    {
     "name": "stderr",
     "output_type": "stream",
     "text": [
      "Processing Rows:   1%|▏         | 253/19986 [1:21:30<101:03:55, 18.44s/it]"
     ]
    },
    {
     "name": "stdout",
     "output_type": "stream",
     "text": [
      "Processing index: 4253, Transcript ID: 1676709, Conversation ID: 16767094254\n"
     ]
    },
    {
     "name": "stderr",
     "output_type": "stream",
     "text": [
      "Processing Rows:   1%|▏         | 254/19986 [1:21:47<99:34:23, 18.17s/it] "
     ]
    },
    {
     "name": "stdout",
     "output_type": "stream",
     "text": [
      "Processing index: 4254, Transcript ID: 1676709, Conversation ID: 16767094255\n"
     ]
    },
    {
     "name": "stderr",
     "output_type": "stream",
     "text": [
      "Processing Rows:   1%|▏         | 255/19986 [1:22:06<100:07:41, 18.27s/it]"
     ]
    },
    {
     "name": "stdout",
     "output_type": "stream",
     "text": [
      "Processing index: 4255, Transcript ID: 1676709, Conversation ID: 16767094256\n"
     ]
    },
    {
     "name": "stderr",
     "output_type": "stream",
     "text": [
      "Processing Rows:   1%|▏         | 256/19986 [1:22:23<98:52:05, 18.04s/it] "
     ]
    },
    {
     "name": "stdout",
     "output_type": "stream",
     "text": [
      "Processing index: 4256, Transcript ID: 1676709, Conversation ID: 16767094257\n"
     ]
    },
    {
     "name": "stderr",
     "output_type": "stream",
     "text": [
      "Processing Rows:   1%|▏         | 257/19986 [1:22:40<96:20:04, 17.58s/it]"
     ]
    },
    {
     "name": "stdout",
     "output_type": "stream",
     "text": [
      "Processing index: 4257, Transcript ID: 1676709, Conversation ID: 16767094258\n"
     ]
    },
    {
     "name": "stderr",
     "output_type": "stream",
     "text": [
      "Processing Rows:   1%|▏         | 258/19986 [1:22:57<95:33:52, 17.44s/it]"
     ]
    },
    {
     "name": "stdout",
     "output_type": "stream",
     "text": [
      "Processing index: 4258, Transcript ID: 1676809, Conversation ID: 16768094259\n"
     ]
    },
    {
     "name": "stderr",
     "output_type": "stream",
     "text": [
      "Processing Rows:   1%|▏         | 259/19986 [1:23:16<97:49:43, 17.85s/it]"
     ]
    },
    {
     "name": "stdout",
     "output_type": "stream",
     "text": [
      "Processing index: 4259, Transcript ID: 1676809, Conversation ID: 16768094260\n"
     ]
    },
    {
     "name": "stderr",
     "output_type": "stream",
     "text": [
      "Processing Rows:   1%|▏         | 260/19986 [1:23:55<133:07:58, 24.30s/it]"
     ]
    },
    {
     "name": "stdout",
     "output_type": "stream",
     "text": [
      "Processing index: 4260, Transcript ID: 1676809, Conversation ID: 16768094261\n"
     ]
    },
    {
     "name": "stderr",
     "output_type": "stream",
     "text": [
      "Processing Rows:   1%|▏         | 261/19986 [1:24:14<124:17:21, 22.68s/it]"
     ]
    },
    {
     "name": "stdout",
     "output_type": "stream",
     "text": [
      "Processing index: 4261, Transcript ID: 1676809, Conversation ID: 16768094262\n"
     ]
    },
    {
     "name": "stderr",
     "output_type": "stream",
     "text": [
      "Processing Rows:   1%|▏         | 262/19986 [1:24:35<121:33:23, 22.19s/it]"
     ]
    },
    {
     "name": "stdout",
     "output_type": "stream",
     "text": [
      "Processing index: 4262, Transcript ID: 1676809, Conversation ID: 16768094263\n"
     ]
    },
    {
     "name": "stderr",
     "output_type": "stream",
     "text": [
      "Processing Rows:   1%|▏         | 263/19986 [1:24:52<112:42:17, 20.57s/it]"
     ]
    },
    {
     "name": "stdout",
     "output_type": "stream",
     "text": [
      "Processing index: 4263, Transcript ID: 1676809, Conversation ID: 16768094264\n"
     ]
    },
    {
     "name": "stderr",
     "output_type": "stream",
     "text": [
      "Processing Rows:   1%|▏         | 264/19986 [1:25:16<119:18:26, 21.78s/it]"
     ]
    },
    {
     "name": "stdout",
     "output_type": "stream",
     "text": [
      "Processing index: 4264, Transcript ID: 1676809, Conversation ID: 16768094265\n"
     ]
    },
    {
     "name": "stderr",
     "output_type": "stream",
     "text": [
      "Processing Rows:   1%|▏         | 265/19986 [1:25:35<114:22:49, 20.88s/it]"
     ]
    },
    {
     "name": "stdout",
     "output_type": "stream",
     "text": [
      "Processing index: 4265, Transcript ID: 1676809, Conversation ID: 16768094266\n"
     ]
    },
    {
     "name": "stderr",
     "output_type": "stream",
     "text": [
      "Processing Rows:   1%|▏         | 266/19986 [1:25:54<111:51:54, 20.42s/it]"
     ]
    },
    {
     "name": "stdout",
     "output_type": "stream",
     "text": [
      "Processing index: 4266, Transcript ID: 1676809, Conversation ID: 16768094267\n"
     ]
    },
    {
     "name": "stderr",
     "output_type": "stream",
     "text": [
      "Processing Rows:   1%|▏         | 267/19986 [1:26:12<107:39:57, 19.66s/it]"
     ]
    },
    {
     "name": "stdout",
     "output_type": "stream",
     "text": [
      "Processing index: 4267, Transcript ID: 1676809, Conversation ID: 16768094268\n"
     ]
    },
    {
     "name": "stderr",
     "output_type": "stream",
     "text": [
      "Processing Rows:   1%|▏         | 268/19986 [1:26:35<112:58:44, 20.63s/it]"
     ]
    },
    {
     "name": "stdout",
     "output_type": "stream",
     "text": [
      "Processing index: 4268, Transcript ID: 1676809, Conversation ID: 16768094269\n"
     ]
    },
    {
     "name": "stderr",
     "output_type": "stream",
     "text": [
      "Processing Rows:   1%|▏         | 269/19986 [1:26:52<107:34:49, 19.64s/it]"
     ]
    },
    {
     "name": "stdout",
     "output_type": "stream",
     "text": [
      "Processing index: 4269, Transcript ID: 1676809, Conversation ID: 16768094270\n"
     ]
    },
    {
     "name": "stderr",
     "output_type": "stream",
     "text": [
      "Processing Rows:   1%|▏         | 270/19986 [1:27:19<118:49:17, 21.70s/it]"
     ]
    },
    {
     "name": "stdout",
     "output_type": "stream",
     "text": [
      "Processing index: 4270, Transcript ID: 1676809, Conversation ID: 16768094271\n"
     ]
    },
    {
     "name": "stderr",
     "output_type": "stream",
     "text": [
      "Processing Rows:   1%|▏         | 271/19986 [1:27:37<112:48:33, 20.60s/it]"
     ]
    },
    {
     "name": "stdout",
     "output_type": "stream",
     "text": [
      "Processing index: 4271, Transcript ID: 1676809, Conversation ID: 16768094272\n"
     ]
    },
    {
     "name": "stderr",
     "output_type": "stream",
     "text": [
      "Processing Rows:   1%|▏         | 272/19986 [1:28:18<146:33:30, 26.76s/it]"
     ]
    },
    {
     "name": "stdout",
     "output_type": "stream",
     "text": [
      "Processing index: 4272, Transcript ID: 1676809, Conversation ID: 16768094273\n"
     ]
    },
    {
     "name": "stderr",
     "output_type": "stream",
     "text": [
      "Processing Rows:   1%|▏         | 273/19986 [1:28:54<161:31:36, 29.50s/it]"
     ]
    },
    {
     "name": "stdout",
     "output_type": "stream",
     "text": [
      "Processing index: 4273, Transcript ID: 1676846, Conversation ID: 16768464274\n"
     ]
    },
    {
     "name": "stderr",
     "output_type": "stream",
     "text": [
      "Processing Rows:   1%|▏         | 274/19986 [1:29:12<142:47:43, 26.08s/it]"
     ]
    },
    {
     "name": "stdout",
     "output_type": "stream",
     "text": [
      "Processing index: 4274, Transcript ID: 1676846, Conversation ID: 16768464275\n"
     ]
    },
    {
     "name": "stderr",
     "output_type": "stream",
     "text": [
      "Processing Rows:   1%|▏         | 275/19986 [1:29:30<130:03:47, 23.75s/it]"
     ]
    },
    {
     "name": "stdout",
     "output_type": "stream",
     "text": [
      "Processing index: 4275, Transcript ID: 1676846, Conversation ID: 16768464276\n"
     ]
    },
    {
     "name": "stderr",
     "output_type": "stream",
     "text": [
      "Processing Rows:   1%|▏         | 276/19986 [1:29:52<126:11:05, 23.05s/it]"
     ]
    },
    {
     "name": "stdout",
     "output_type": "stream",
     "text": [
      "Processing index: 4276, Transcript ID: 1676846, Conversation ID: 16768464277\n"
     ]
    },
    {
     "name": "stderr",
     "output_type": "stream",
     "text": [
      "Processing Rows:   1%|▏         | 277/19986 [1:30:16<128:03:10, 23.39s/it]"
     ]
    },
    {
     "name": "stdout",
     "output_type": "stream",
     "text": [
      "Processing index: 4277, Transcript ID: 1676846, Conversation ID: 16768464278\n"
     ]
    },
    {
     "name": "stderr",
     "output_type": "stream",
     "text": [
      "Processing Rows:   1%|▏         | 278/19986 [1:30:42<131:51:31, 24.09s/it]"
     ]
    },
    {
     "name": "stdout",
     "output_type": "stream",
     "text": [
      "Processing index: 4278, Transcript ID: 1676846, Conversation ID: 16768464279\n"
     ]
    },
    {
     "name": "stderr",
     "output_type": "stream",
     "text": [
      "Processing Rows:   1%|▏         | 279/19986 [1:31:04<129:03:59, 23.58s/it]"
     ]
    },
    {
     "name": "stdout",
     "output_type": "stream",
     "text": [
      "Processing index: 4279, Transcript ID: 1676846, Conversation ID: 16768464280\n"
     ]
    },
    {
     "name": "stderr",
     "output_type": "stream",
     "text": [
      "Processing Rows:   1%|▏         | 280/19986 [1:31:44<156:09:52, 28.53s/it]"
     ]
    },
    {
     "name": "stdout",
     "output_type": "stream",
     "text": [
      "Processing index: 4280, Transcript ID: 1676846, Conversation ID: 16768464281\n"
     ]
    },
    {
     "name": "stderr",
     "output_type": "stream",
     "text": [
      "Processing Rows:   1%|▏         | 281/19986 [1:32:06<144:23:31, 26.38s/it]"
     ]
    },
    {
     "name": "stdout",
     "output_type": "stream",
     "text": [
      "Processing index: 4281, Transcript ID: 1676846, Conversation ID: 16768464282\n"
     ]
    },
    {
     "name": "stderr",
     "output_type": "stream",
     "text": [
      "Processing Rows:   1%|▏         | 282/19986 [1:32:31<142:26:22, 26.02s/it]"
     ]
    },
    {
     "name": "stdout",
     "output_type": "stream",
     "text": [
      "Processing index: 4282, Transcript ID: 1676858, Conversation ID: 16768584283\n"
     ]
    },
    {
     "name": "stderr",
     "output_type": "stream",
     "text": [
      "Processing Rows:   1%|▏         | 283/19986 [1:32:53<135:39:19, 24.79s/it]"
     ]
    },
    {
     "name": "stdout",
     "output_type": "stream",
     "text": [
      "Processing index: 4283, Transcript ID: 1676858, Conversation ID: 16768584284\n"
     ]
    },
    {
     "name": "stderr",
     "output_type": "stream",
     "text": [
      "Processing Rows:   1%|▏         | 284/19986 [1:33:13<128:29:09, 23.48s/it]"
     ]
    },
    {
     "name": "stdout",
     "output_type": "stream",
     "text": [
      "Processing index: 4284, Transcript ID: 1676858, Conversation ID: 16768584285\n"
     ]
    },
    {
     "name": "stderr",
     "output_type": "stream",
     "text": [
      "Processing Rows:   1%|▏         | 285/19986 [1:33:31<119:18:15, 21.80s/it]"
     ]
    },
    {
     "name": "stdout",
     "output_type": "stream",
     "text": [
      "Processing index: 4285, Transcript ID: 1676858, Conversation ID: 16768584286\n"
     ]
    },
    {
     "name": "stderr",
     "output_type": "stream",
     "text": [
      "Processing Rows:   1%|▏         | 286/19986 [1:33:54<121:49:10, 22.26s/it]"
     ]
    },
    {
     "name": "stdout",
     "output_type": "stream",
     "text": [
      "Processing index: 4286, Transcript ID: 1676858, Conversation ID: 16768584287\n"
     ]
    },
    {
     "name": "stderr",
     "output_type": "stream",
     "text": [
      "Processing Rows:   1%|▏         | 287/19986 [1:34:12<114:59:24, 21.01s/it]"
     ]
    },
    {
     "name": "stdout",
     "output_type": "stream",
     "text": [
      "Processing index: 4287, Transcript ID: 1676858, Conversation ID: 16768584288\n"
     ]
    },
    {
     "name": "stderr",
     "output_type": "stream",
     "text": [
      "Processing Rows:   1%|▏         | 288/19986 [1:34:31<111:37:19, 20.40s/it]"
     ]
    },
    {
     "name": "stdout",
     "output_type": "stream",
     "text": [
      "Processing index: 4288, Transcript ID: 1677020, Conversation ID: 16770204289\n"
     ]
    },
    {
     "name": "stderr",
     "output_type": "stream",
     "text": [
      "Processing Rows:   1%|▏         | 289/19986 [1:34:49<107:15:27, 19.60s/it]"
     ]
    },
    {
     "name": "stdout",
     "output_type": "stream",
     "text": [
      "Processing index: 4289, Transcript ID: 1677020, Conversation ID: 16770204290\n"
     ]
    },
    {
     "name": "stderr",
     "output_type": "stream",
     "text": [
      "Processing Rows:   1%|▏         | 290/19986 [1:35:10<109:26:30, 20.00s/it]"
     ]
    },
    {
     "name": "stdout",
     "output_type": "stream",
     "text": [
      "Processing index: 4290, Transcript ID: 1677020, Conversation ID: 16770204291\n"
     ]
    },
    {
     "name": "stderr",
     "output_type": "stream",
     "text": [
      "Processing Rows:   1%|▏         | 291/19986 [1:35:30<109:47:40, 20.07s/it]"
     ]
    },
    {
     "name": "stdout",
     "output_type": "stream",
     "text": [
      "Processing index: 4291, Transcript ID: 1677020, Conversation ID: 16770204292\n"
     ]
    },
    {
     "name": "stderr",
     "output_type": "stream",
     "text": [
      "Processing Rows:   1%|▏         | 292/19986 [1:35:52<112:07:43, 20.50s/it]"
     ]
    },
    {
     "name": "stdout",
     "output_type": "stream",
     "text": [
      "Processing index: 4292, Transcript ID: 1677020, Conversation ID: 16770204293\n"
     ]
    },
    {
     "name": "stderr",
     "output_type": "stream",
     "text": [
      "Processing Rows:   1%|▏         | 293/19986 [1:36:09<107:23:25, 19.63s/it]"
     ]
    },
    {
     "name": "stdout",
     "output_type": "stream",
     "text": [
      "Processing index: 4293, Transcript ID: 1677869, Conversation ID: 16778694294\n"
     ]
    },
    {
     "name": "stderr",
     "output_type": "stream",
     "text": [
      "Processing Rows:   1%|▏         | 294/19986 [1:36:26<103:13:52, 18.87s/it]"
     ]
    },
    {
     "name": "stdout",
     "output_type": "stream",
     "text": [
      "Processing index: 4294, Transcript ID: 1677869, Conversation ID: 16778694295\n"
     ]
    },
    {
     "name": "stderr",
     "output_type": "stream",
     "text": [
      "Processing Rows:   1%|▏         | 295/19986 [1:36:49<108:36:07, 19.86s/it]"
     ]
    },
    {
     "name": "stdout",
     "output_type": "stream",
     "text": [
      "Processing index: 4295, Transcript ID: 1677869, Conversation ID: 16778694296\n"
     ]
    },
    {
     "name": "stderr",
     "output_type": "stream",
     "text": [
      "Processing Rows:   1%|▏         | 296/19986 [1:37:09<108:43:20, 19.88s/it]"
     ]
    },
    {
     "name": "stdout",
     "output_type": "stream",
     "text": [
      "Processing index: 4296, Transcript ID: 1677869, Conversation ID: 16778694297\n"
     ]
    },
    {
     "name": "stderr",
     "output_type": "stream",
     "text": [
      "Processing Rows:   1%|▏         | 297/19986 [1:37:30<111:03:53, 20.31s/it]"
     ]
    },
    {
     "name": "stdout",
     "output_type": "stream",
     "text": [
      "Processing index: 4297, Transcript ID: 1677869, Conversation ID: 16778694298\n"
     ]
    },
    {
     "name": "stderr",
     "output_type": "stream",
     "text": [
      "Processing Rows:   1%|▏         | 298/19986 [1:37:48<107:17:44, 19.62s/it]"
     ]
    },
    {
     "name": "stdout",
     "output_type": "stream",
     "text": [
      "Processing index: 4298, Transcript ID: 1677869, Conversation ID: 16778694299\n"
     ]
    },
    {
     "name": "stderr",
     "output_type": "stream",
     "text": [
      "Processing Rows:   1%|▏         | 299/19986 [1:38:05<103:23:31, 18.91s/it]"
     ]
    },
    {
     "name": "stdout",
     "output_type": "stream",
     "text": [
      "Processing index: 4299, Transcript ID: 1677869, Conversation ID: 16778694300\n"
     ]
    },
    {
     "name": "stderr",
     "output_type": "stream",
     "text": [
      "Processing Rows:   2%|▏         | 300/19986 [1:38:26<105:55:16, 19.37s/it]"
     ]
    },
    {
     "name": "stdout",
     "output_type": "stream",
     "text": [
      "Processing index: 4300, Transcript ID: 1677869, Conversation ID: 16778694301\n"
     ]
    },
    {
     "name": "stderr",
     "output_type": "stream",
     "text": [
      "Processing Rows:   2%|▏         | 301/19986 [1:38:44<104:43:43, 19.15s/it]"
     ]
    },
    {
     "name": "stdout",
     "output_type": "stream",
     "text": [
      "Processing index: 4301, Transcript ID: 1677869, Conversation ID: 16778694302\n"
     ]
    },
    {
     "name": "stderr",
     "output_type": "stream",
     "text": [
      "Processing Rows:   2%|▏         | 302/19986 [1:39:04<105:52:45, 19.36s/it]"
     ]
    },
    {
     "name": "stdout",
     "output_type": "stream",
     "text": [
      "Processing index: 4302, Transcript ID: 1677869, Conversation ID: 16778694303\n"
     ]
    },
    {
     "name": "stderr",
     "output_type": "stream",
     "text": [
      "Processing Rows:   2%|▏         | 303/19986 [1:39:23<105:49:08, 19.35s/it]"
     ]
    },
    {
     "name": "stdout",
     "output_type": "stream",
     "text": [
      "Processing index: 4303, Transcript ID: 1677869, Conversation ID: 16778694304\n"
     ]
    },
    {
     "name": "stderr",
     "output_type": "stream",
     "text": [
      "Processing Rows:   2%|▏         | 304/19986 [1:39:44<107:20:13, 19.63s/it]"
     ]
    },
    {
     "name": "stdout",
     "output_type": "stream",
     "text": [
      "Processing index: 4304, Transcript ID: 1677869, Conversation ID: 16778694305\n"
     ]
    },
    {
     "name": "stderr",
     "output_type": "stream",
     "text": [
      "Processing Rows:   2%|▏         | 305/19986 [1:40:02<104:40:07, 19.15s/it]"
     ]
    },
    {
     "name": "stdout",
     "output_type": "stream",
     "text": [
      "Processing index: 4305, Transcript ID: 1677869, Conversation ID: 16778694306\n"
     ]
    },
    {
     "name": "stderr",
     "output_type": "stream",
     "text": [
      "Processing Rows:   2%|▏         | 306/19986 [1:40:20<102:32:25, 18.76s/it]"
     ]
    },
    {
     "name": "stdout",
     "output_type": "stream",
     "text": [
      "Processing index: 4306, Transcript ID: 1678350, Conversation ID: 16783504307\n"
     ]
    },
    {
     "name": "stderr",
     "output_type": "stream",
     "text": [
      "Processing Rows:   2%|▏         | 307/19986 [1:40:37<100:57:50, 18.47s/it]"
     ]
    },
    {
     "name": "stdout",
     "output_type": "stream",
     "text": [
      "Processing index: 4307, Transcript ID: 1678350, Conversation ID: 16783504308\n"
     ]
    },
    {
     "name": "stderr",
     "output_type": "stream",
     "text": [
      "Processing Rows:   2%|▏         | 308/19986 [1:40:55<100:20:07, 18.36s/it]"
     ]
    },
    {
     "name": "stdout",
     "output_type": "stream",
     "text": [
      "Processing index: 4308, Transcript ID: 1678350, Conversation ID: 16783504309\n"
     ]
    },
    {
     "name": "stderr",
     "output_type": "stream",
     "text": [
      "Processing Rows:   2%|▏         | 309/19986 [1:41:17<105:27:06, 19.29s/it]"
     ]
    },
    {
     "name": "stdout",
     "output_type": "stream",
     "text": [
      "Processing index: 4309, Transcript ID: 1678350, Conversation ID: 16783504310\n"
     ]
    },
    {
     "name": "stderr",
     "output_type": "stream",
     "text": [
      "Processing Rows:   2%|▏         | 310/19986 [1:41:36<105:38:31, 19.33s/it]"
     ]
    },
    {
     "name": "stdout",
     "output_type": "stream",
     "text": [
      "Processing index: 4310, Transcript ID: 1678350, Conversation ID: 16783504311\n"
     ]
    },
    {
     "name": "stderr",
     "output_type": "stream",
     "text": [
      "Processing Rows:   2%|▏         | 311/19986 [1:41:53<102:02:37, 18.67s/it]"
     ]
    },
    {
     "name": "stdout",
     "output_type": "stream",
     "text": [
      "Processing index: 4311, Transcript ID: 1678350, Conversation ID: 16783504312\n"
     ]
    },
    {
     "name": "stderr",
     "output_type": "stream",
     "text": [
      "Processing Rows:   2%|▏         | 312/19986 [1:42:12<101:05:44, 18.50s/it]"
     ]
    },
    {
     "name": "stdout",
     "output_type": "stream",
     "text": [
      "Processing index: 4312, Transcript ID: 1678350, Conversation ID: 16783504313\n"
     ]
    },
    {
     "name": "stderr",
     "output_type": "stream",
     "text": [
      "Processing Rows:   2%|▏         | 313/19986 [1:42:29<99:42:01, 18.24s/it] "
     ]
    },
    {
     "name": "stdout",
     "output_type": "stream",
     "text": [
      "Processing index: 4313, Transcript ID: 1678350, Conversation ID: 16783504314\n"
     ]
    },
    {
     "name": "stderr",
     "output_type": "stream",
     "text": [
      "Processing Rows:   2%|▏         | 314/19986 [1:42:47<99:26:34, 18.20s/it]"
     ]
    },
    {
     "name": "stdout",
     "output_type": "stream",
     "text": [
      "Processing index: 4314, Transcript ID: 1678350, Conversation ID: 16783504315\n"
     ]
    },
    {
     "name": "stderr",
     "output_type": "stream",
     "text": [
      "Processing Rows:   2%|▏         | 315/19986 [1:43:06<100:10:00, 18.33s/it]"
     ]
    },
    {
     "name": "stdout",
     "output_type": "stream",
     "text": [
      "Processing index: 4315, Transcript ID: 1678350, Conversation ID: 16783504316\n"
     ]
    },
    {
     "name": "stderr",
     "output_type": "stream",
     "text": [
      "Processing Rows:   2%|▏         | 316/19986 [1:43:24<99:31:43, 18.22s/it] "
     ]
    },
    {
     "name": "stdout",
     "output_type": "stream",
     "text": [
      "Processing index: 4316, Transcript ID: 1678350, Conversation ID: 16783504317\n"
     ]
    },
    {
     "name": "stderr",
     "output_type": "stream",
     "text": [
      "Processing Rows:   2%|▏         | 317/19986 [1:43:42<98:58:34, 18.12s/it]"
     ]
    },
    {
     "name": "stdout",
     "output_type": "stream",
     "text": [
      "Processing index: 4317, Transcript ID: 1678354, Conversation ID: 16783544318\n"
     ]
    },
    {
     "name": "stderr",
     "output_type": "stream",
     "text": [
      "Processing Rows:   2%|▏         | 318/19986 [1:43:59<98:09:06, 17.97s/it]"
     ]
    },
    {
     "name": "stdout",
     "output_type": "stream",
     "text": [
      "Processing index: 4318, Transcript ID: 1678354, Conversation ID: 16783544319\n"
     ]
    },
    {
     "name": "stderr",
     "output_type": "stream",
     "text": [
      "Processing Rows:   2%|▏         | 319/19986 [1:44:17<96:47:00, 17.72s/it]"
     ]
    },
    {
     "name": "stdout",
     "output_type": "stream",
     "text": [
      "Processing index: 4319, Transcript ID: 1678354, Conversation ID: 16783544320\n"
     ]
    },
    {
     "name": "stderr",
     "output_type": "stream",
     "text": [
      "Processing Rows:   2%|▏         | 320/19986 [1:44:34<95:45:56, 17.53s/it]"
     ]
    },
    {
     "name": "stdout",
     "output_type": "stream",
     "text": [
      "Processing index: 4320, Transcript ID: 1678354, Conversation ID: 16783544321\n"
     ]
    },
    {
     "name": "stderr",
     "output_type": "stream",
     "text": [
      "Processing Rows:   2%|▏         | 321/19986 [1:44:51<95:42:29, 17.52s/it]"
     ]
    },
    {
     "name": "stdout",
     "output_type": "stream",
     "text": [
      "Processing index: 4321, Transcript ID: 1678354, Conversation ID: 16783544322\n"
     ]
    },
    {
     "name": "stderr",
     "output_type": "stream",
     "text": [
      "Processing Rows:   2%|▏         | 322/19986 [1:45:10<98:00:04, 17.94s/it]"
     ]
    },
    {
     "name": "stdout",
     "output_type": "stream",
     "text": [
      "Processing index: 4322, Transcript ID: 1678354, Conversation ID: 16783544323\n"
     ]
    },
    {
     "name": "stderr",
     "output_type": "stream",
     "text": [
      "Processing Rows:   2%|▏         | 323/19986 [1:45:27<95:57:21, 17.57s/it]"
     ]
    },
    {
     "name": "stdout",
     "output_type": "stream",
     "text": [
      "Processing index: 4323, Transcript ID: 1678354, Conversation ID: 16783544324\n"
     ]
    },
    {
     "name": "stderr",
     "output_type": "stream",
     "text": [
      "Processing Rows:   2%|▏         | 324/19986 [1:45:53<109:47:17, 20.10s/it]"
     ]
    },
    {
     "name": "stdout",
     "output_type": "stream",
     "text": [
      "Processing index: 4324, Transcript ID: 1678354, Conversation ID: 16783544325\n"
     ]
    },
    {
     "name": "stderr",
     "output_type": "stream",
     "text": [
      "Processing Rows:   2%|▏         | 325/19986 [1:46:15<113:19:39, 20.75s/it]"
     ]
    },
    {
     "name": "stdout",
     "output_type": "stream",
     "text": [
      "Processing index: 4325, Transcript ID: 1678354, Conversation ID: 16783544326\n"
     ]
    },
    {
     "name": "stderr",
     "output_type": "stream",
     "text": [
      "Processing Rows:   2%|▏         | 326/19986 [1:46:32<107:10:43, 19.63s/it]"
     ]
    },
    {
     "name": "stdout",
     "output_type": "stream",
     "text": [
      "Processing index: 4326, Transcript ID: 1678354, Conversation ID: 16783544327\n"
     ]
    },
    {
     "name": "stderr",
     "output_type": "stream",
     "text": [
      "Processing Rows:   2%|▏         | 327/19986 [1:46:50<105:15:08, 19.27s/it]"
     ]
    },
    {
     "name": "stdout",
     "output_type": "stream",
     "text": [
      "Processing index: 4327, Transcript ID: 1678410, Conversation ID: 16784104328\n"
     ]
    },
    {
     "name": "stderr",
     "output_type": "stream",
     "text": [
      "Processing Rows:   2%|▏         | 328/19986 [1:47:07<101:11:35, 18.53s/it]"
     ]
    },
    {
     "name": "stdout",
     "output_type": "stream",
     "text": [
      "Processing index: 4328, Transcript ID: 1678410, Conversation ID: 16784104329\n"
     ]
    },
    {
     "name": "stderr",
     "output_type": "stream",
     "text": [
      "Processing Rows:   2%|▏         | 329/19986 [1:47:42<127:24:28, 23.33s/it]"
     ]
    },
    {
     "name": "stdout",
     "output_type": "stream",
     "text": [
      "Processing index: 4329, Transcript ID: 1678410, Conversation ID: 16784104330\n"
     ]
    },
    {
     "name": "stderr",
     "output_type": "stream",
     "text": [
      "Processing Rows:   2%|▏         | 330/19986 [1:47:59<117:12:57, 21.47s/it]"
     ]
    },
    {
     "name": "stdout",
     "output_type": "stream",
     "text": [
      "Processing index: 4330, Transcript ID: 1678410, Conversation ID: 16784104331\n"
     ]
    },
    {
     "name": "stderr",
     "output_type": "stream",
     "text": [
      "Processing Rows:   2%|▏         | 331/19986 [1:48:16<109:35:12, 20.07s/it]"
     ]
    },
    {
     "name": "stdout",
     "output_type": "stream",
     "text": [
      "Processing index: 4331, Transcript ID: 1678410, Conversation ID: 16784104332\n"
     ]
    },
    {
     "name": "stderr",
     "output_type": "stream",
     "text": [
      "Processing Rows:   2%|▏         | 332/19986 [1:48:37<111:42:03, 20.46s/it]"
     ]
    },
    {
     "name": "stdout",
     "output_type": "stream",
     "text": [
      "Processing index: 4332, Transcript ID: 1678410, Conversation ID: 16784104333\n"
     ]
    },
    {
     "name": "stderr",
     "output_type": "stream",
     "text": [
      "Processing Rows:   2%|▏         | 333/19986 [1:49:02<118:46:38, 21.76s/it]"
     ]
    },
    {
     "name": "stdout",
     "output_type": "stream",
     "text": [
      "Processing index: 4333, Transcript ID: 1678410, Conversation ID: 16784104334\n"
     ]
    },
    {
     "name": "stderr",
     "output_type": "stream",
     "text": [
      "Processing Rows:   2%|▏         | 334/19986 [1:49:19<110:38:25, 20.27s/it]"
     ]
    },
    {
     "name": "stdout",
     "output_type": "stream",
     "text": [
      "Processing index: 4334, Transcript ID: 1678410, Conversation ID: 16784104335\n"
     ]
    },
    {
     "name": "stderr",
     "output_type": "stream",
     "text": [
      "Processing Rows:   2%|▏         | 335/19986 [1:49:35<104:36:39, 19.16s/it]"
     ]
    },
    {
     "name": "stdout",
     "output_type": "stream",
     "text": [
      "Processing index: 4335, Transcript ID: 1678410, Conversation ID: 16784104336\n"
     ]
    },
    {
     "name": "stderr",
     "output_type": "stream",
     "text": [
      "Processing Rows:   2%|▏         | 336/19986 [1:49:54<104:28:23, 19.14s/it]"
     ]
    },
    {
     "name": "stdout",
     "output_type": "stream",
     "text": [
      "Processing index: 4336, Transcript ID: 1678785, Conversation ID: 16787854337\n"
     ]
    },
    {
     "name": "stderr",
     "output_type": "stream",
     "text": [
      "Processing Rows:   2%|▏         | 337/19986 [1:50:12<102:04:47, 18.70s/it]"
     ]
    },
    {
     "name": "stdout",
     "output_type": "stream",
     "text": [
      "Processing index: 4337, Transcript ID: 1678785, Conversation ID: 16787854338\n"
     ]
    },
    {
     "name": "stderr",
     "output_type": "stream",
     "text": [
      "Processing Rows:   2%|▏         | 338/19986 [1:50:29<98:58:56, 18.14s/it] "
     ]
    },
    {
     "name": "stdout",
     "output_type": "stream",
     "text": [
      "Processing index: 4338, Transcript ID: 1678785, Conversation ID: 16787854339\n"
     ]
    },
    {
     "name": "stderr",
     "output_type": "stream",
     "text": [
      "Processing Rows:   2%|▏         | 339/19986 [1:50:46<97:35:30, 17.88s/it]"
     ]
    },
    {
     "name": "stdout",
     "output_type": "stream",
     "text": [
      "Processing index: 4339, Transcript ID: 1678785, Conversation ID: 16787854340\n"
     ]
    },
    {
     "name": "stderr",
     "output_type": "stream",
     "text": [
      "Processing Rows:   2%|▏         | 340/19986 [1:51:10<107:42:05, 19.74s/it]"
     ]
    },
    {
     "name": "stdout",
     "output_type": "stream",
     "text": [
      "Processing index: 4340, Transcript ID: 1678785, Conversation ID: 16787854341\n"
     ]
    },
    {
     "name": "stderr",
     "output_type": "stream",
     "text": [
      "Processing Rows:   2%|▏         | 341/19986 [1:51:28<104:14:59, 19.10s/it]"
     ]
    },
    {
     "name": "stdout",
     "output_type": "stream",
     "text": [
      "Processing index: 4341, Transcript ID: 1678785, Conversation ID: 16787854342\n"
     ]
    },
    {
     "name": "stderr",
     "output_type": "stream",
     "text": [
      "Processing Rows:   2%|▏         | 342/19986 [1:51:51<110:10:01, 20.19s/it]"
     ]
    },
    {
     "name": "stdout",
     "output_type": "stream",
     "text": [
      "Processing index: 4342, Transcript ID: 1678785, Conversation ID: 16787854343\n"
     ]
    },
    {
     "name": "stderr",
     "output_type": "stream",
     "text": [
      "Processing Rows:   2%|▏         | 343/19986 [1:52:08<105:01:49, 19.25s/it]"
     ]
    },
    {
     "name": "stdout",
     "output_type": "stream",
     "text": [
      "Processing index: 4343, Transcript ID: 1678785, Conversation ID: 16787854344\n"
     ]
    },
    {
     "name": "stderr",
     "output_type": "stream",
     "text": [
      "Processing Rows:   2%|▏         | 344/19986 [1:52:25<101:24:57, 18.59s/it]"
     ]
    },
    {
     "name": "stdout",
     "output_type": "stream",
     "text": [
      "Processing index: 4344, Transcript ID: 1679419, Conversation ID: 16794194345\n"
     ]
    },
    {
     "name": "stderr",
     "output_type": "stream",
     "text": [
      "Processing Rows:   2%|▏         | 345/19986 [1:52:43<100:42:33, 18.46s/it]"
     ]
    },
    {
     "name": "stdout",
     "output_type": "stream",
     "text": [
      "Processing index: 4345, Transcript ID: 1679419, Conversation ID: 16794194346\n"
     ]
    },
    {
     "name": "stderr",
     "output_type": "stream",
     "text": [
      "Processing Rows:   2%|▏         | 346/19986 [1:53:01<100:26:17, 18.41s/it]"
     ]
    },
    {
     "name": "stdout",
     "output_type": "stream",
     "text": [
      "Processing index: 4346, Transcript ID: 1679419, Conversation ID: 16794194347\n"
     ]
    },
    {
     "name": "stderr",
     "output_type": "stream",
     "text": [
      "Processing Rows:   2%|▏         | 347/19986 [1:53:36<127:57:31, 23.46s/it]"
     ]
    },
    {
     "name": "stdout",
     "output_type": "stream",
     "text": [
      "Processing index: 4347, Transcript ID: 1679419, Conversation ID: 16794194348\n"
     ]
    },
    {
     "name": "stderr",
     "output_type": "stream",
     "text": [
      "Processing Rows:   2%|▏         | 348/19986 [1:53:53<116:37:35, 21.38s/it]"
     ]
    },
    {
     "name": "stdout",
     "output_type": "stream",
     "text": [
      "Processing index: 4348, Transcript ID: 1679419, Conversation ID: 16794194349\n"
     ]
    },
    {
     "name": "stderr",
     "output_type": "stream",
     "text": [
      "Processing Rows:   2%|▏         | 349/19986 [1:54:18<122:27:57, 22.45s/it]"
     ]
    },
    {
     "name": "stdout",
     "output_type": "stream",
     "text": [
      "Processing index: 4349, Transcript ID: 1679419, Conversation ID: 16794194350\n"
     ]
    },
    {
     "name": "stderr",
     "output_type": "stream",
     "text": [
      "Processing Rows:   2%|▏         | 350/19986 [1:54:37<116:20:33, 21.33s/it]"
     ]
    },
    {
     "name": "stdout",
     "output_type": "stream",
     "text": [
      "Processing index: 4350, Transcript ID: 1679419, Conversation ID: 16794194351\n"
     ]
    },
    {
     "name": "stderr",
     "output_type": "stream",
     "text": [
      "Processing Rows:   2%|▏         | 351/19986 [1:55:09<134:43:54, 24.70s/it]"
     ]
    },
    {
     "name": "stdout",
     "output_type": "stream",
     "text": [
      "Processing index: 4351, Transcript ID: 1679419, Conversation ID: 16794194352\n"
     ]
    },
    {
     "name": "stderr",
     "output_type": "stream",
     "text": [
      "Processing Rows:   2%|▏         | 352/19986 [1:55:26<121:36:37, 22.30s/it]"
     ]
    },
    {
     "name": "stdout",
     "output_type": "stream",
     "text": [
      "Processing index: 4352, Transcript ID: 1679419, Conversation ID: 16794194353\n"
     ]
    },
    {
     "name": "stderr",
     "output_type": "stream",
     "text": [
      "Processing Rows:   2%|▏         | 353/19986 [1:55:43<113:16:49, 20.77s/it]"
     ]
    },
    {
     "name": "stdout",
     "output_type": "stream",
     "text": [
      "Processing index: 4353, Transcript ID: 1679419, Conversation ID: 16794194354\n"
     ]
    },
    {
     "name": "stderr",
     "output_type": "stream",
     "text": [
      "Processing Rows:   2%|▏         | 354/19986 [1:56:01<108:18:25, 19.86s/it]"
     ]
    },
    {
     "name": "stdout",
     "output_type": "stream",
     "text": [
      "Processing index: 4354, Transcript ID: 1679419, Conversation ID: 16794194355\n"
     ]
    },
    {
     "name": "stderr",
     "output_type": "stream",
     "text": [
      "Processing Rows:   2%|▏         | 355/19986 [1:56:28<120:27:23, 22.09s/it]"
     ]
    },
    {
     "name": "stdout",
     "output_type": "stream",
     "text": [
      "Processing index: 4355, Transcript ID: 1679419, Conversation ID: 16794194356\n"
     ]
    },
    {
     "name": "stderr",
     "output_type": "stream",
     "text": [
      "Processing Rows:   2%|▏         | 356/19986 [1:56:46<113:10:04, 20.75s/it]"
     ]
    },
    {
     "name": "stdout",
     "output_type": "stream",
     "text": [
      "Processing index: 4356, Transcript ID: 1679474, Conversation ID: 16794744357\n"
     ]
    },
    {
     "name": "stderr",
     "output_type": "stream",
     "text": [
      "Processing Rows:   2%|▏         | 357/19986 [1:57:04<108:31:51, 19.90s/it]"
     ]
    },
    {
     "name": "stdout",
     "output_type": "stream",
     "text": [
      "Processing index: 4357, Transcript ID: 1679474, Conversation ID: 16794744358\n"
     ]
    },
    {
     "name": "stderr",
     "output_type": "stream",
     "text": [
      "Processing Rows:   2%|▏         | 358/19986 [1:57:23<107:10:28, 19.66s/it]"
     ]
    },
    {
     "name": "stdout",
     "output_type": "stream",
     "text": [
      "Processing index: 4358, Transcript ID: 1679474, Conversation ID: 16794744359\n"
     ]
    },
    {
     "name": "stderr",
     "output_type": "stream",
     "text": [
      "Processing Rows:   2%|▏         | 359/19986 [1:57:41<105:44:04, 19.39s/it]"
     ]
    },
    {
     "name": "stdout",
     "output_type": "stream",
     "text": [
      "Processing index: 4359, Transcript ID: 1679474, Conversation ID: 16794744360\n"
     ]
    },
    {
     "name": "stderr",
     "output_type": "stream",
     "text": [
      "Processing Rows:   2%|▏         | 360/19986 [1:57:59<102:01:56, 18.72s/it]"
     ]
    },
    {
     "name": "stdout",
     "output_type": "stream",
     "text": [
      "Processing index: 4360, Transcript ID: 1679474, Conversation ID: 16794744361\n"
     ]
    },
    {
     "name": "stderr",
     "output_type": "stream",
     "text": [
      "Processing Rows:   2%|▏         | 361/19986 [1:58:16<99:57:13, 18.34s/it] "
     ]
    },
    {
     "name": "stdout",
     "output_type": "stream",
     "text": [
      "Processing index: 4361, Transcript ID: 1679474, Conversation ID: 16794744362\n"
     ]
    },
    {
     "name": "stderr",
     "output_type": "stream",
     "text": [
      "Processing Rows:   2%|▏         | 362/19986 [1:58:34<99:11:57, 18.20s/it]"
     ]
    },
    {
     "name": "stdout",
     "output_type": "stream",
     "text": [
      "Processing index: 4362, Transcript ID: 1679474, Conversation ID: 16794744363\n"
     ]
    },
    {
     "name": "stderr",
     "output_type": "stream",
     "text": [
      "Processing Rows:   2%|▏         | 363/19986 [1:58:51<97:45:49, 17.94s/it]"
     ]
    },
    {
     "name": "stdout",
     "output_type": "stream",
     "text": [
      "Processing index: 4363, Transcript ID: 1679474, Conversation ID: 16794744364\n"
     ]
    },
    {
     "name": "stderr",
     "output_type": "stream",
     "text": [
      "Processing Rows:   2%|▏         | 364/19986 [1:59:08<96:22:30, 17.68s/it]"
     ]
    },
    {
     "name": "stdout",
     "output_type": "stream",
     "text": [
      "Processing index: 4364, Transcript ID: 1679637, Conversation ID: 16796374365\n"
     ]
    },
    {
     "name": "stderr",
     "output_type": "stream",
     "text": [
      "Processing Rows:   2%|▏         | 365/19986 [1:59:25<94:49:42, 17.40s/it]"
     ]
    },
    {
     "name": "stdout",
     "output_type": "stream",
     "text": [
      "Processing index: 4365, Transcript ID: 1679637, Conversation ID: 16796374366\n"
     ]
    },
    {
     "name": "stderr",
     "output_type": "stream",
     "text": [
      "Processing Rows:   2%|▏         | 366/19986 [1:59:42<93:55:05, 17.23s/it]"
     ]
    },
    {
     "name": "stdout",
     "output_type": "stream",
     "text": [
      "Processing index: 4366, Transcript ID: 1679637, Conversation ID: 16796374367\n"
     ]
    },
    {
     "name": "stderr",
     "output_type": "stream",
     "text": [
      "Processing Rows:   2%|▏         | 367/19986 [1:59:58<92:47:39, 17.03s/it]"
     ]
    },
    {
     "name": "stdout",
     "output_type": "stream",
     "text": [
      "Processing index: 4367, Transcript ID: 1679637, Conversation ID: 16796374368\n"
     ]
    },
    {
     "name": "stderr",
     "output_type": "stream",
     "text": [
      "Processing Rows:   2%|▏         | 368/19986 [2:00:15<91:55:26, 16.87s/it]"
     ]
    },
    {
     "name": "stdout",
     "output_type": "stream",
     "text": [
      "Processing index: 4368, Transcript ID: 1679637, Conversation ID: 16796374369\n"
     ]
    },
    {
     "name": "stderr",
     "output_type": "stream",
     "text": [
      "Processing Rows:   2%|▏         | 369/19986 [2:00:34<95:02:09, 17.44s/it]"
     ]
    },
    {
     "name": "stdout",
     "output_type": "stream",
     "text": [
      "Processing index: 4369, Transcript ID: 1679637, Conversation ID: 16796374370\n"
     ]
    },
    {
     "name": "stderr",
     "output_type": "stream",
     "text": [
      "Processing Rows:   2%|▏         | 370/19986 [2:00:50<93:27:23, 17.15s/it]"
     ]
    },
    {
     "name": "stdout",
     "output_type": "stream",
     "text": [
      "Processing index: 4370, Transcript ID: 1679637, Conversation ID: 16796374371\n"
     ]
    },
    {
     "name": "stderr",
     "output_type": "stream",
     "text": [
      "Processing Rows:   2%|▏         | 371/19986 [2:01:07<92:54:15, 17.05s/it]"
     ]
    },
    {
     "name": "stdout",
     "output_type": "stream",
     "text": [
      "Processing index: 4371, Transcript ID: 1679679, Conversation ID: 16796794372\n"
     ]
    },
    {
     "name": "stderr",
     "output_type": "stream",
     "text": [
      "Processing Rows:   2%|▏         | 372/19986 [2:01:24<92:57:01, 17.06s/it]"
     ]
    },
    {
     "name": "stdout",
     "output_type": "stream",
     "text": [
      "Processing index: 4372, Transcript ID: 1679679, Conversation ID: 16796794373\n"
     ]
    },
    {
     "name": "stderr",
     "output_type": "stream",
     "text": [
      "Processing Rows:   2%|▏         | 373/19986 [2:01:41<92:45:14, 17.03s/it]"
     ]
    },
    {
     "name": "stdout",
     "output_type": "stream",
     "text": [
      "Processing index: 4373, Transcript ID: 1679679, Conversation ID: 16796794374\n"
     ]
    },
    {
     "name": "stderr",
     "output_type": "stream",
     "text": [
      "Processing Rows:   2%|▏         | 374/19986 [2:01:58<93:22:16, 17.14s/it]"
     ]
    },
    {
     "name": "stdout",
     "output_type": "stream",
     "text": [
      "Processing index: 4374, Transcript ID: 1679679, Conversation ID: 16796794375\n"
     ]
    },
    {
     "name": "stderr",
     "output_type": "stream",
     "text": [
      "Processing Rows:   2%|▏         | 375/19986 [2:02:17<95:48:14, 17.59s/it]"
     ]
    },
    {
     "name": "stdout",
     "output_type": "stream",
     "text": [
      "Processing index: 4375, Transcript ID: 1679679, Conversation ID: 16796794376\n"
     ]
    },
    {
     "name": "stderr",
     "output_type": "stream",
     "text": [
      "Processing Rows:   2%|▏         | 376/19986 [2:02:36<97:33:29, 17.91s/it]"
     ]
    },
    {
     "name": "stdout",
     "output_type": "stream",
     "text": [
      "Processing index: 4376, Transcript ID: 1679679, Conversation ID: 16796794377\n"
     ]
    },
    {
     "name": "stderr",
     "output_type": "stream",
     "text": [
      "Processing Rows:   2%|▏         | 377/19986 [2:02:53<97:03:07, 17.82s/it]"
     ]
    },
    {
     "name": "stdout",
     "output_type": "stream",
     "text": [
      "Processing index: 4377, Transcript ID: 1679679, Conversation ID: 16796794378\n"
     ]
    },
    {
     "name": "stderr",
     "output_type": "stream",
     "text": [
      "Processing Rows:   2%|▏         | 378/19986 [2:03:11<96:51:21, 17.78s/it]"
     ]
    },
    {
     "name": "stdout",
     "output_type": "stream",
     "text": [
      "Processing index: 4378, Transcript ID: 1679679, Conversation ID: 16796794379\n"
     ]
    },
    {
     "name": "stderr",
     "output_type": "stream",
     "text": [
      "Processing Rows:   2%|▏         | 379/19986 [2:03:28<95:04:31, 17.46s/it]"
     ]
    },
    {
     "name": "stdout",
     "output_type": "stream",
     "text": [
      "Processing index: 4379, Transcript ID: 1679679, Conversation ID: 16796794380\n"
     ]
    },
    {
     "name": "stderr",
     "output_type": "stream",
     "text": [
      "Processing Rows:   2%|▏         | 380/19986 [2:04:03<124:19:00, 22.83s/it]"
     ]
    },
    {
     "name": "stdout",
     "output_type": "stream",
     "text": [
      "Processing index: 4380, Transcript ID: 1679730, Conversation ID: 16797304381\n"
     ]
    },
    {
     "name": "stderr",
     "output_type": "stream",
     "text": [
      "Processing Rows:   2%|▏         | 381/19986 [2:04:26<124:21:59, 22.84s/it]"
     ]
    },
    {
     "name": "stdout",
     "output_type": "stream",
     "text": [
      "Processing index: 4381, Transcript ID: 1679730, Conversation ID: 16797304382\n"
     ]
    },
    {
     "name": "stderr",
     "output_type": "stream",
     "text": [
      "Processing Rows:   2%|▏         | 382/19986 [2:04:43<114:13:51, 20.98s/it]"
     ]
    },
    {
     "name": "stdout",
     "output_type": "stream",
     "text": [
      "Processing index: 4382, Transcript ID: 1679730, Conversation ID: 16797304383\n"
     ]
    },
    {
     "name": "stderr",
     "output_type": "stream",
     "text": [
      "Processing Rows:   2%|▏         | 383/19986 [2:04:59<107:22:49, 19.72s/it]"
     ]
    },
    {
     "name": "stdout",
     "output_type": "stream",
     "text": [
      "Processing index: 4383, Transcript ID: 1679730, Conversation ID: 16797304384\n"
     ]
    },
    {
     "name": "stderr",
     "output_type": "stream",
     "text": [
      "Processing Rows:   2%|▏         | 384/19986 [2:05:17<103:17:51, 18.97s/it]"
     ]
    },
    {
     "name": "stdout",
     "output_type": "stream",
     "text": [
      "Processing index: 4384, Transcript ID: 1679730, Conversation ID: 16797304385\n"
     ]
    },
    {
     "name": "stderr",
     "output_type": "stream",
     "text": [
      "Processing Rows:   2%|▏         | 385/19986 [2:05:33<99:42:33, 18.31s/it] "
     ]
    },
    {
     "name": "stdout",
     "output_type": "stream",
     "text": [
      "Processing index: 4385, Transcript ID: 1679730, Conversation ID: 16797304386\n"
     ]
    },
    {
     "name": "stderr",
     "output_type": "stream",
     "text": [
      "Processing Rows:   2%|▏         | 386/19986 [2:05:50<97:13:33, 17.86s/it]"
     ]
    },
    {
     "name": "stdout",
     "output_type": "stream",
     "text": [
      "Processing index: 4386, Transcript ID: 1679730, Conversation ID: 16797304387\n"
     ]
    },
    {
     "name": "stderr",
     "output_type": "stream",
     "text": [
      "Processing Rows:   2%|▏         | 387/19986 [2:06:07<94:49:13, 17.42s/it]"
     ]
    },
    {
     "name": "stdout",
     "output_type": "stream",
     "text": [
      "Processing index: 4387, Transcript ID: 1679730, Conversation ID: 16797304388\n"
     ]
    },
    {
     "name": "stderr",
     "output_type": "stream",
     "text": [
      "Processing Rows:   2%|▏         | 388/19986 [2:06:24<94:04:50, 17.28s/it]"
     ]
    },
    {
     "name": "stdout",
     "output_type": "stream",
     "text": [
      "Processing index: 4388, Transcript ID: 1679738, Conversation ID: 16797384389\n"
     ]
    },
    {
     "name": "stderr",
     "output_type": "stream",
     "text": [
      "Processing Rows:   2%|▏         | 389/19986 [2:06:40<92:37:56, 17.02s/it]"
     ]
    },
    {
     "name": "stdout",
     "output_type": "stream",
     "text": [
      "Processing index: 4389, Transcript ID: 1679738, Conversation ID: 16797384390\n"
     ]
    },
    {
     "name": "stderr",
     "output_type": "stream",
     "text": [
      "Processing Rows:   2%|▏         | 390/19986 [2:06:57<92:37:49, 17.02s/it]"
     ]
    },
    {
     "name": "stdout",
     "output_type": "stream",
     "text": [
      "Processing index: 4390, Transcript ID: 1679738, Conversation ID: 16797384391\n"
     ]
    },
    {
     "name": "stderr",
     "output_type": "stream",
     "text": [
      "Processing Rows:   2%|▏         | 391/19986 [2:07:13<91:37:28, 16.83s/it]"
     ]
    },
    {
     "name": "stdout",
     "output_type": "stream",
     "text": [
      "Processing index: 4391, Transcript ID: 1679738, Conversation ID: 16797384392\n"
     ]
    },
    {
     "name": "stderr",
     "output_type": "stream",
     "text": [
      "Processing Rows:   2%|▏         | 392/19986 [2:07:30<91:23:36, 16.79s/it]"
     ]
    },
    {
     "name": "stdout",
     "output_type": "stream",
     "text": [
      "Processing index: 4392, Transcript ID: 1679738, Conversation ID: 16797384393\n"
     ]
    },
    {
     "name": "stderr",
     "output_type": "stream",
     "text": [
      "Processing Rows:   2%|▏         | 393/19986 [2:07:47<91:11:51, 16.76s/it]"
     ]
    },
    {
     "name": "stdout",
     "output_type": "stream",
     "text": [
      "Processing index: 4393, Transcript ID: 1679738, Conversation ID: 16797384394\n"
     ]
    },
    {
     "name": "stderr",
     "output_type": "stream",
     "text": [
      "Processing Rows:   2%|▏         | 394/19986 [2:08:12<105:15:59, 19.34s/it]"
     ]
    },
    {
     "name": "stdout",
     "output_type": "stream",
     "text": [
      "Processing index: 4394, Transcript ID: 1679738, Conversation ID: 16797384395\n"
     ]
    },
    {
     "name": "stderr",
     "output_type": "stream",
     "text": [
      "Processing Rows:   2%|▏         | 395/19986 [2:08:29<101:46:28, 18.70s/it]"
     ]
    },
    {
     "name": "stdout",
     "output_type": "stream",
     "text": [
      "Processing index: 4395, Transcript ID: 1679738, Conversation ID: 16797384396\n"
     ]
    },
    {
     "name": "stderr",
     "output_type": "stream",
     "text": [
      "Processing Rows:   2%|▏         | 396/19986 [2:08:47<100:12:42, 18.42s/it]"
     ]
    },
    {
     "name": "stdout",
     "output_type": "stream",
     "text": [
      "Processing index: 4396, Transcript ID: 1679738, Conversation ID: 16797384397\n"
     ]
    },
    {
     "name": "stderr",
     "output_type": "stream",
     "text": [
      "Processing Rows:   2%|▏         | 397/19986 [2:09:04<98:11:07, 18.04s/it] "
     ]
    },
    {
     "name": "stdout",
     "output_type": "stream",
     "text": [
      "Processing index: 4397, Transcript ID: 1679738, Conversation ID: 16797384398\n"
     ]
    },
    {
     "name": "stderr",
     "output_type": "stream",
     "text": [
      "Processing Rows:   2%|▏         | 398/19986 [2:09:21<96:37:43, 17.76s/it]"
     ]
    },
    {
     "name": "stdout",
     "output_type": "stream",
     "text": [
      "Processing index: 4398, Transcript ID: 1679760, Conversation ID: 16797604399\n"
     ]
    },
    {
     "name": "stderr",
     "output_type": "stream",
     "text": [
      "Processing Rows:   2%|▏         | 399/19986 [2:09:39<95:54:24, 17.63s/it]"
     ]
    },
    {
     "name": "stdout",
     "output_type": "stream",
     "text": [
      "Processing index: 4399, Transcript ID: 1679760, Conversation ID: 16797604400\n"
     ]
    },
    {
     "name": "stderr",
     "output_type": "stream",
     "text": [
      "Processing Rows:   2%|▏         | 400/19986 [2:09:55<94:33:59, 17.38s/it]"
     ]
    },
    {
     "name": "stdout",
     "output_type": "stream",
     "text": [
      "Processing index: 4400, Transcript ID: 1679760, Conversation ID: 16797604401\n"
     ]
    },
    {
     "name": "stderr",
     "output_type": "stream",
     "text": [
      "Processing Rows:   2%|▏         | 401/19986 [2:10:13<95:14:38, 17.51s/it]"
     ]
    },
    {
     "name": "stdout",
     "output_type": "stream",
     "text": [
      "Processing index: 4401, Transcript ID: 1679760, Conversation ID: 16797604402\n"
     ]
    },
    {
     "name": "stderr",
     "output_type": "stream",
     "text": [
      "Processing Rows:   2%|▏         | 402/19986 [2:10:31<95:13:31, 17.50s/it]"
     ]
    },
    {
     "name": "stdout",
     "output_type": "stream",
     "text": [
      "Processing index: 4402, Transcript ID: 1679760, Conversation ID: 16797604403\n"
     ]
    },
    {
     "name": "stderr",
     "output_type": "stream",
     "text": [
      "Processing Rows:   2%|▏         | 403/19986 [2:10:47<93:34:19, 17.20s/it]"
     ]
    },
    {
     "name": "stdout",
     "output_type": "stream",
     "text": [
      "Processing index: 4403, Transcript ID: 1679760, Conversation ID: 16797604404\n"
     ]
    },
    {
     "name": "stderr",
     "output_type": "stream",
     "text": [
      "Processing Rows:   2%|▏         | 404/19986 [2:11:04<92:46:36, 17.06s/it]"
     ]
    },
    {
     "name": "stdout",
     "output_type": "stream",
     "text": [
      "Processing index: 4404, Transcript ID: 1679760, Conversation ID: 16797604405\n"
     ]
    },
    {
     "name": "stderr",
     "output_type": "stream",
     "text": [
      "Processing Rows:   2%|▏         | 405/19986 [2:11:21<92:02:22, 16.92s/it]"
     ]
    },
    {
     "name": "stdout",
     "output_type": "stream",
     "text": [
      "Processing index: 4405, Transcript ID: 1679760, Conversation ID: 16797604406\n"
     ]
    },
    {
     "name": "stderr",
     "output_type": "stream",
     "text": [
      "Processing Rows:   2%|▏         | 406/19986 [2:11:37<91:15:08, 16.78s/it]"
     ]
    },
    {
     "name": "stdout",
     "output_type": "stream",
     "text": [
      "Processing index: 4406, Transcript ID: 1679760, Conversation ID: 16797604407\n"
     ]
    },
    {
     "name": "stderr",
     "output_type": "stream",
     "text": [
      "Processing Rows:   2%|▏         | 407/19986 [2:11:54<91:15:46, 16.78s/it]"
     ]
    },
    {
     "name": "stdout",
     "output_type": "stream",
     "text": [
      "Processing index: 4407, Transcript ID: 1679760, Conversation ID: 16797604408\n"
     ]
    },
    {
     "name": "stderr",
     "output_type": "stream",
     "text": [
      "Processing Rows:   2%|▏         | 408/19986 [2:12:10<90:59:37, 16.73s/it]"
     ]
    },
    {
     "name": "stdout",
     "output_type": "stream",
     "text": [
      "Processing index: 4408, Transcript ID: 1679760, Conversation ID: 16797604409\n"
     ]
    },
    {
     "name": "stderr",
     "output_type": "stream",
     "text": [
      "Processing Rows:   2%|▏         | 409/19986 [2:12:27<91:13:19, 16.77s/it]"
     ]
    },
    {
     "name": "stdout",
     "output_type": "stream",
     "text": [
      "Processing index: 4409, Transcript ID: 1679760, Conversation ID: 16797604410\n"
     ]
    },
    {
     "name": "stderr",
     "output_type": "stream",
     "text": [
      "Processing Rows:   2%|▏         | 410/19986 [2:12:44<90:43:25, 16.68s/it]"
     ]
    },
    {
     "name": "stdout",
     "output_type": "stream",
     "text": [
      "Processing index: 4410, Transcript ID: 1679805, Conversation ID: 16798054411\n"
     ]
    },
    {
     "name": "stderr",
     "output_type": "stream",
     "text": [
      "Processing Rows:   2%|▏         | 411/19986 [2:13:01<91:09:34, 16.77s/it]"
     ]
    },
    {
     "name": "stdout",
     "output_type": "stream",
     "text": [
      "Processing index: 4411, Transcript ID: 1679805, Conversation ID: 16798054412\n"
     ]
    },
    {
     "name": "stderr",
     "output_type": "stream",
     "text": [
      "Processing Rows:   2%|▏         | 412/19986 [2:13:18<91:30:46, 16.83s/it]"
     ]
    },
    {
     "name": "stdout",
     "output_type": "stream",
     "text": [
      "Processing index: 4412, Transcript ID: 1679805, Conversation ID: 16798054413\n"
     ]
    },
    {
     "name": "stderr",
     "output_type": "stream",
     "text": [
      "Processing Rows:   2%|▏         | 413/19986 [2:13:35<91:33:47, 16.84s/it]"
     ]
    },
    {
     "name": "stdout",
     "output_type": "stream",
     "text": [
      "Processing index: 4413, Transcript ID: 1679805, Conversation ID: 16798054414\n"
     ]
    },
    {
     "name": "stderr",
     "output_type": "stream",
     "text": [
      "Processing Rows:   2%|▏         | 414/19986 [2:13:51<90:58:05, 16.73s/it]"
     ]
    },
    {
     "name": "stdout",
     "output_type": "stream",
     "text": [
      "Processing index: 4414, Transcript ID: 1679805, Conversation ID: 16798054415\n"
     ]
    },
    {
     "name": "stderr",
     "output_type": "stream",
     "text": [
      "Processing Rows:   2%|▏         | 415/19986 [2:14:09<92:14:42, 16.97s/it]"
     ]
    },
    {
     "name": "stdout",
     "output_type": "stream",
     "text": [
      "Processing index: 4415, Transcript ID: 1679805, Conversation ID: 16798054416\n"
     ]
    },
    {
     "name": "stderr",
     "output_type": "stream",
     "text": [
      "Processing Rows:   2%|▏         | 416/19986 [2:14:26<92:43:40, 17.06s/it]"
     ]
    },
    {
     "name": "stdout",
     "output_type": "stream",
     "text": [
      "Processing index: 4416, Transcript ID: 1679805, Conversation ID: 16798054417\n"
     ]
    },
    {
     "name": "stderr",
     "output_type": "stream",
     "text": [
      "Processing Rows:   2%|▏         | 417/19986 [2:14:44<95:02:12, 17.48s/it]"
     ]
    },
    {
     "name": "stdout",
     "output_type": "stream",
     "text": [
      "Processing index: 4417, Transcript ID: 1679805, Conversation ID: 16798054418\n"
     ]
    },
    {
     "name": "stderr",
     "output_type": "stream",
     "text": [
      "Processing Rows:   2%|▏         | 418/19986 [2:15:01<94:01:02, 17.30s/it]"
     ]
    },
    {
     "name": "stdout",
     "output_type": "stream",
     "text": [
      "Processing index: 4418, Transcript ID: 1679805, Conversation ID: 16798054419\n"
     ]
    },
    {
     "name": "stderr",
     "output_type": "stream",
     "text": [
      "Processing Rows:   2%|▏         | 419/19986 [2:15:18<93:36:39, 17.22s/it]"
     ]
    },
    {
     "name": "stdout",
     "output_type": "stream",
     "text": [
      "Processing index: 4419, Transcript ID: 1679805, Conversation ID: 16798054420\n"
     ]
    },
    {
     "name": "stderr",
     "output_type": "stream",
     "text": [
      "Processing Rows:   2%|▏         | 420/19986 [2:15:36<93:52:04, 17.27s/it]"
     ]
    },
    {
     "name": "stdout",
     "output_type": "stream",
     "text": [
      "Processing index: 4420, Transcript ID: 1679805, Conversation ID: 16798054421\n"
     ]
    },
    {
     "name": "stderr",
     "output_type": "stream",
     "text": [
      "Processing Rows:   2%|▏         | 421/19986 [2:15:52<93:05:18, 17.13s/it]"
     ]
    },
    {
     "name": "stdout",
     "output_type": "stream",
     "text": [
      "Processing index: 4421, Transcript ID: 1679805, Conversation ID: 16798054422\n"
     ]
    },
    {
     "name": "stderr",
     "output_type": "stream",
     "text": [
      "Processing Rows:   2%|▏         | 422/19986 [2:16:09<92:42:41, 17.06s/it]"
     ]
    },
    {
     "name": "stdout",
     "output_type": "stream",
     "text": [
      "Processing index: 4422, Transcript ID: 1679805, Conversation ID: 16798054423\n"
     ]
    },
    {
     "name": "stderr",
     "output_type": "stream",
     "text": [
      "Processing Rows:   2%|▏         | 423/19986 [2:16:26<92:08:09, 16.95s/it]"
     ]
    },
    {
     "name": "stdout",
     "output_type": "stream",
     "text": [
      "Processing index: 4423, Transcript ID: 1679805, Conversation ID: 16798054424\n"
     ]
    },
    {
     "name": "stderr",
     "output_type": "stream",
     "text": [
      "Processing Rows:   2%|▏         | 424/19986 [2:16:42<91:10:15, 16.78s/it]"
     ]
    },
    {
     "name": "stdout",
     "output_type": "stream",
     "text": [
      "Processing index: 4424, Transcript ID: 1680581, Conversation ID: 16805814425\n"
     ]
    },
    {
     "name": "stderr",
     "output_type": "stream",
     "text": [
      "Processing Rows:   2%|▏         | 425/19986 [2:16:59<90:41:22, 16.69s/it]"
     ]
    },
    {
     "name": "stdout",
     "output_type": "stream",
     "text": [
      "Processing index: 4425, Transcript ID: 1680581, Conversation ID: 16805814426\n"
     ]
    },
    {
     "name": "stderr",
     "output_type": "stream",
     "text": [
      "Processing Rows:   2%|▏         | 426/19986 [2:17:16<91:07:23, 16.77s/it]"
     ]
    },
    {
     "name": "stdout",
     "output_type": "stream",
     "text": [
      "Processing index: 4426, Transcript ID: 1680581, Conversation ID: 16805814427\n"
     ]
    },
    {
     "name": "stderr",
     "output_type": "stream",
     "text": [
      "Processing Rows:   2%|▏         | 427/19986 [2:17:32<90:24:59, 16.64s/it]"
     ]
    },
    {
     "name": "stdout",
     "output_type": "stream",
     "text": [
      "Processing index: 4427, Transcript ID: 1680581, Conversation ID: 16805814428\n"
     ]
    },
    {
     "name": "stderr",
     "output_type": "stream",
     "text": [
      "Processing Rows:   2%|▏         | 428/19986 [2:17:49<90:17:45, 16.62s/it]"
     ]
    },
    {
     "name": "stdout",
     "output_type": "stream",
     "text": [
      "Processing index: 4428, Transcript ID: 1680581, Conversation ID: 16805814429\n"
     ]
    },
    {
     "name": "stderr",
     "output_type": "stream",
     "text": [
      "Processing Rows:   2%|▏         | 429/19986 [2:18:06<90:34:00, 16.67s/it]"
     ]
    },
    {
     "name": "stdout",
     "output_type": "stream",
     "text": [
      "Processing index: 4429, Transcript ID: 1680581, Conversation ID: 16805814430\n"
     ]
    },
    {
     "name": "stderr",
     "output_type": "stream",
     "text": [
      "Processing Rows:   2%|▏         | 430/19986 [2:18:23<91:17:59, 16.81s/it]"
     ]
    },
    {
     "name": "stdout",
     "output_type": "stream",
     "text": [
      "Processing index: 4430, Transcript ID: 1680581, Conversation ID: 16805814431\n"
     ]
    },
    {
     "name": "stderr",
     "output_type": "stream",
     "text": [
      "Processing Rows:   2%|▏         | 431/19986 [2:18:44<98:14:45, 18.09s/it]"
     ]
    },
    {
     "name": "stdout",
     "output_type": "stream",
     "text": [
      "Processing index: 4431, Transcript ID: 1680581, Conversation ID: 16805814432\n"
     ]
    },
    {
     "name": "stderr",
     "output_type": "stream",
     "text": [
      "Processing Rows:   2%|▏         | 432/19986 [2:19:01<96:07:33, 17.70s/it]"
     ]
    },
    {
     "name": "stdout",
     "output_type": "stream",
     "text": [
      "Processing index: 4432, Transcript ID: 1680651, Conversation ID: 16806514433\n"
     ]
    },
    {
     "name": "stderr",
     "output_type": "stream",
     "text": [
      "Processing Rows:   2%|▏         | 433/19986 [2:19:18<95:29:44, 17.58s/it]"
     ]
    },
    {
     "name": "stdout",
     "output_type": "stream",
     "text": [
      "Processing index: 4433, Transcript ID: 1680651, Conversation ID: 16806514434\n"
     ]
    },
    {
     "name": "stderr",
     "output_type": "stream",
     "text": [
      "Processing Rows:   2%|▏         | 434/19986 [2:19:35<94:31:44, 17.41s/it]"
     ]
    },
    {
     "name": "stdout",
     "output_type": "stream",
     "text": [
      "Processing index: 4434, Transcript ID: 1680651, Conversation ID: 16806514435\n"
     ]
    },
    {
     "name": "stderr",
     "output_type": "stream",
     "text": [
      "Processing Rows:   2%|▏         | 435/19986 [2:19:52<93:42:33, 17.26s/it]"
     ]
    },
    {
     "name": "stdout",
     "output_type": "stream",
     "text": [
      "Processing index: 4435, Transcript ID: 1680651, Conversation ID: 16806514436\n"
     ]
    },
    {
     "name": "stderr",
     "output_type": "stream",
     "text": [
      "Processing Rows:   2%|▏         | 436/19986 [2:20:09<93:37:06, 17.24s/it]"
     ]
    },
    {
     "name": "stdout",
     "output_type": "stream",
     "text": [
      "Processing index: 4436, Transcript ID: 1680651, Conversation ID: 16806514437\n"
     ]
    },
    {
     "name": "stderr",
     "output_type": "stream",
     "text": [
      "Processing Rows:   2%|▏         | 437/19986 [2:20:26<93:01:35, 17.13s/it]"
     ]
    },
    {
     "name": "stdout",
     "output_type": "stream",
     "text": [
      "Processing index: 4437, Transcript ID: 1681492, Conversation ID: 16814924438\n"
     ]
    },
    {
     "name": "stderr",
     "output_type": "stream",
     "text": [
      "Processing Rows:   2%|▏         | 438/19986 [2:20:43<93:05:42, 17.14s/it]"
     ]
    },
    {
     "name": "stdout",
     "output_type": "stream",
     "text": [
      "Processing index: 4438, Transcript ID: 1681492, Conversation ID: 16814924439\n"
     ]
    },
    {
     "name": "stderr",
     "output_type": "stream",
     "text": [
      "Processing Rows:   2%|▏         | 439/19986 [2:21:01<93:45:17, 17.27s/it]"
     ]
    },
    {
     "name": "stdout",
     "output_type": "stream",
     "text": [
      "Processing index: 4439, Transcript ID: 1681492, Conversation ID: 16814924440\n"
     ]
    },
    {
     "name": "stderr",
     "output_type": "stream",
     "text": [
      "Processing Rows:   2%|▏         | 440/19986 [2:21:19<95:08:45, 17.52s/it]"
     ]
    },
    {
     "name": "stdout",
     "output_type": "stream",
     "text": [
      "Processing index: 4440, Transcript ID: 1681492, Conversation ID: 16814924441\n"
     ]
    },
    {
     "name": "stderr",
     "output_type": "stream",
     "text": [
      "Processing Rows:   2%|▏         | 441/19986 [2:21:36<95:20:00, 17.56s/it]"
     ]
    },
    {
     "name": "stdout",
     "output_type": "stream",
     "text": [
      "Processing index: 4441, Transcript ID: 1681492, Conversation ID: 16814924442\n"
     ]
    },
    {
     "name": "stderr",
     "output_type": "stream",
     "text": [
      "Processing Rows:   2%|▏         | 442/19986 [2:21:53<94:01:33, 17.32s/it]"
     ]
    },
    {
     "name": "stdout",
     "output_type": "stream",
     "text": [
      "Processing index: 4442, Transcript ID: 1681492, Conversation ID: 16814924443\n"
     ]
    },
    {
     "name": "stderr",
     "output_type": "stream",
     "text": [
      "Processing Rows:   2%|▏         | 443/19986 [2:22:11<94:30:06, 17.41s/it]"
     ]
    },
    {
     "name": "stdout",
     "output_type": "stream",
     "text": [
      "Processing index: 4443, Transcript ID: 1681492, Conversation ID: 16814924444\n"
     ]
    },
    {
     "name": "stderr",
     "output_type": "stream",
     "text": [
      "Processing Rows:   2%|▏         | 444/19986 [2:22:30<98:08:11, 18.08s/it]"
     ]
    },
    {
     "name": "stdout",
     "output_type": "stream",
     "text": [
      "Processing index: 4444, Transcript ID: 1681492, Conversation ID: 16814924445\n"
     ]
    },
    {
     "name": "stderr",
     "output_type": "stream",
     "text": [
      "Processing Rows:   2%|▏         | 445/19986 [2:22:48<97:04:36, 17.88s/it]"
     ]
    },
    {
     "name": "stdout",
     "output_type": "stream",
     "text": [
      "Processing index: 4445, Transcript ID: 1681492, Conversation ID: 16814924446\n"
     ]
    },
    {
     "name": "stderr",
     "output_type": "stream",
     "text": [
      "Processing Rows:   2%|▏         | 446/19986 [2:23:05<95:18:04, 17.56s/it]"
     ]
    },
    {
     "name": "stdout",
     "output_type": "stream",
     "text": [
      "Processing index: 4446, Transcript ID: 1681492, Conversation ID: 16814924447\n"
     ]
    },
    {
     "name": "stderr",
     "output_type": "stream",
     "text": [
      "Processing Rows:   2%|▏         | 447/19986 [2:23:34<114:03:54, 21.02s/it]"
     ]
    },
    {
     "name": "stdout",
     "output_type": "stream",
     "text": [
      "Processing index: 4447, Transcript ID: 1681492, Conversation ID: 16814924448\n"
     ]
    },
    {
     "name": "stderr",
     "output_type": "stream",
     "text": [
      "Processing Rows:   2%|▏         | 448/19986 [2:23:50<106:53:21, 19.70s/it]"
     ]
    },
    {
     "name": "stdout",
     "output_type": "stream",
     "text": [
      "Processing index: 4448, Transcript ID: 1681492, Conversation ID: 16814924449\n"
     ]
    },
    {
     "name": "stderr",
     "output_type": "stream",
     "text": [
      "Processing Rows:   2%|▏         | 449/19986 [2:24:07<101:36:36, 18.72s/it]"
     ]
    },
    {
     "name": "stdout",
     "output_type": "stream",
     "text": [
      "Processing index: 4449, Transcript ID: 1681492, Conversation ID: 16814924450\n"
     ]
    },
    {
     "name": "stderr",
     "output_type": "stream",
     "text": [
      "Processing Rows:   2%|▏         | 450/19986 [2:24:24<99:37:20, 18.36s/it] "
     ]
    },
    {
     "name": "stdout",
     "output_type": "stream",
     "text": [
      "Processing index: 4450, Transcript ID: 1681508, Conversation ID: 16815084451\n"
     ]
    },
    {
     "name": "stderr",
     "output_type": "stream",
     "text": [
      "Processing Rows:   2%|▏         | 451/19986 [2:24:41<97:50:35, 18.03s/it]"
     ]
    },
    {
     "name": "stdout",
     "output_type": "stream",
     "text": [
      "Processing index: 4451, Transcript ID: 1681508, Conversation ID: 16815084452\n"
     ]
    },
    {
     "name": "stderr",
     "output_type": "stream",
     "text": [
      "Processing Rows:   2%|▏         | 452/19986 [2:24:58<95:32:39, 17.61s/it]"
     ]
    },
    {
     "name": "stdout",
     "output_type": "stream",
     "text": [
      "Processing index: 4452, Transcript ID: 1681508, Conversation ID: 16815084453\n"
     ]
    },
    {
     "name": "stderr",
     "output_type": "stream",
     "text": [
      "Processing Rows:   2%|▏         | 453/19986 [2:25:25<110:43:06, 20.41s/it]"
     ]
    },
    {
     "name": "stdout",
     "output_type": "stream",
     "text": [
      "Processing index: 4453, Transcript ID: 1681508, Conversation ID: 16815084454\n"
     ]
    },
    {
     "name": "stderr",
     "output_type": "stream",
     "text": [
      "Processing Rows:   2%|▏         | 454/19986 [2:25:42<105:17:12, 19.41s/it]"
     ]
    },
    {
     "name": "stdout",
     "output_type": "stream",
     "text": [
      "Processing index: 4454, Transcript ID: 1681508, Conversation ID: 16815084455\n"
     ]
    },
    {
     "name": "stderr",
     "output_type": "stream",
     "text": [
      "Processing Rows:   2%|▏         | 455/19986 [2:26:04<109:57:30, 20.27s/it]"
     ]
    },
    {
     "name": "stdout",
     "output_type": "stream",
     "text": [
      "Processing index: 4455, Transcript ID: 1681508, Conversation ID: 16815084456\n"
     ]
    },
    {
     "name": "stderr",
     "output_type": "stream",
     "text": [
      "Processing Rows:   2%|▏         | 456/19986 [2:26:23<106:45:12, 19.68s/it]"
     ]
    },
    {
     "name": "stdout",
     "output_type": "stream",
     "text": [
      "Processing index: 4456, Transcript ID: 1681508, Conversation ID: 16815084457\n"
     ]
    },
    {
     "name": "stderr",
     "output_type": "stream",
     "text": [
      "Processing Rows:   2%|▏         | 457/19986 [2:26:40<102:58:51, 18.98s/it]"
     ]
    },
    {
     "name": "stdout",
     "output_type": "stream",
     "text": [
      "Processing index: 4457, Transcript ID: 1681508, Conversation ID: 16815084458\n"
     ]
    },
    {
     "name": "stderr",
     "output_type": "stream",
     "text": [
      "Processing Rows:   2%|▏         | 458/19986 [2:26:58<100:51:09, 18.59s/it]"
     ]
    },
    {
     "name": "stdout",
     "output_type": "stream",
     "text": [
      "Processing index: 4458, Transcript ID: 1681508, Conversation ID: 16815084459\n"
     ]
    },
    {
     "name": "stderr",
     "output_type": "stream",
     "text": [
      "Processing Rows:   2%|▏         | 459/19986 [2:27:15<98:03:35, 18.08s/it] "
     ]
    },
    {
     "name": "stdout",
     "output_type": "stream",
     "text": [
      "Processing index: 4459, Transcript ID: 1681508, Conversation ID: 16815084460\n"
     ]
    },
    {
     "name": "stderr",
     "output_type": "stream",
     "text": [
      "Processing Rows:   2%|▏         | 460/19986 [2:27:35<101:07:29, 18.64s/it]"
     ]
    },
    {
     "name": "stdout",
     "output_type": "stream",
     "text": [
      "Processing index: 4460, Transcript ID: 1682378, Conversation ID: 16823784461\n"
     ]
    },
    {
     "name": "stderr",
     "output_type": "stream",
     "text": [
      "Processing Rows:   2%|▏         | 461/19986 [2:27:53<100:48:36, 18.59s/it]"
     ]
    },
    {
     "name": "stdout",
     "output_type": "stream",
     "text": [
      "Processing index: 4461, Transcript ID: 1682378, Conversation ID: 16823784462\n"
     ]
    },
    {
     "name": "stderr",
     "output_type": "stream",
     "text": [
      "Processing Rows:   2%|▏         | 462/19986 [2:28:10<98:00:41, 18.07s/it] "
     ]
    },
    {
     "name": "stdout",
     "output_type": "stream",
     "text": [
      "Processing index: 4462, Transcript ID: 1682378, Conversation ID: 16823784463\n"
     ]
    },
    {
     "name": "stderr",
     "output_type": "stream",
     "text": [
      "Processing Rows:   2%|▏         | 463/19986 [2:28:27<96:05:17, 17.72s/it]"
     ]
    },
    {
     "name": "stdout",
     "output_type": "stream",
     "text": [
      "Processing index: 4463, Transcript ID: 1682378, Conversation ID: 16823784464\n"
     ]
    },
    {
     "name": "stderr",
     "output_type": "stream",
     "text": [
      "Processing Rows:   2%|▏         | 464/19986 [2:28:48<101:04:22, 18.64s/it]"
     ]
    },
    {
     "name": "stdout",
     "output_type": "stream",
     "text": [
      "Processing index: 4464, Transcript ID: 1682378, Conversation ID: 16823784465\n"
     ]
    },
    {
     "name": "stderr",
     "output_type": "stream",
     "text": [
      "Processing Rows:   2%|▏         | 465/19986 [2:29:05<99:37:11, 18.37s/it] "
     ]
    },
    {
     "name": "stdout",
     "output_type": "stream",
     "text": [
      "Processing index: 4465, Transcript ID: 1682378, Conversation ID: 16823784466\n"
     ]
    },
    {
     "name": "stderr",
     "output_type": "stream",
     "text": [
      "Processing Rows:   2%|▏         | 466/19986 [2:29:20<94:21:31, 17.40s/it]"
     ]
    },
    {
     "name": "stdout",
     "output_type": "stream",
     "text": [
      "Error occurred at index 4465: Error communicating with OpenAI: ('Connection aborted.', RemoteDisconnected('Remote end closed connection without response'))\n",
      "Processing index: 4466, Transcript ID: 1682378, Conversation ID: 16823784467\n"
     ]
    },
    {
     "name": "stderr",
     "output_type": "stream",
     "text": [
      "Processing Rows:   2%|▏         | 467/19986 [2:29:37<93:25:29, 17.23s/it]"
     ]
    },
    {
     "name": "stdout",
     "output_type": "stream",
     "text": [
      "Processing index: 4467, Transcript ID: 1682378, Conversation ID: 16823784468\n"
     ]
    }
   ],
   "source": [
    "import time\n",
    "import json\n",
    "from tqdm import tqdm\n",
    "import pandas as pd\n",
    "import os\n",
    "\n",
    "# Function to write data to Excel\n",
    "def write_data_to_excel(file_name, data, header=False):\n",
    "    df = pd.DataFrame([data])\n",
    "    if header and not os.path.exists(file_name):\n",
    "        df.to_excel(file_name, index=False, header=True)\n",
    "    else:\n",
    "        with pd.ExcelWriter(file_name, mode='a', if_sheet_exists='overlay', engine='openpyxl') as writer:\n",
    "            df.to_excel(writer, index=False, header=False, startrow=writer.sheets['Sheet1'].max_row)\n",
    "\n",
    "results = []\n",
    "output_file = 'NOA/NOA_2019_part2.xlsx'\n",
    "file_exists = os.path.isfile(output_file)\n",
    "\n",
    "# Template for the result data\n",
    "def create_result_data(row, NOA=\"Error\", error=None):\n",
    "    return {\n",
    "        \"index\": row.name,\n",
    "        \"transcriptid\": row[\"transcriptid_str\"],\n",
    "        \"permno\": row[\"permno\"],\n",
    "        \"gvkey\": row[\"gvkey\"],\n",
    "        \"ticker\": row[\"ticker\"],\n",
    "        \"cik\": row[\"cik\"],\n",
    "        \"ret\": row[\"ret\"],\n",
    "        \"ym\": row[\"ym\"],\n",
    "        \"converid\": row[\"converid\"],\n",
    "        \"mostimportantdateutc\": row[\"mostimportantdateutc\"],\n",
    "        \"NOA\": NOA if error is None else f\"{error}: {str(NOA)}\",\n",
    "        \"Pair\": data.get('Pair', '0'),\n",
    "        'Category': data.get('Category', '0'),\n",
    "        \"Quantity\": data.get('Quantity', '0'),\n",
    "        \"Relevance\": data.get('Relevance', '0'),\n",
    "        \"Clarity\": data.get('Clarity', '0')\n",
    "    }\n",
    "\n",
    "try:\n",
    "    for i, row in tqdm(statement_df.iloc[4000:5000].iterrows(), total=statement_df.shape[0], desc=\"Processing Rows\"):\n",
    "        print(f\"Processing index: {i}, Transcript ID: {row['transcriptid_str']}, Conversation ID: {row['converid']}\")\n",
    "        prompt = generate_prompt(row, prompt_template)\n",
    "        time.sleep(15)\n",
    "\n",
    "        try:\n",
    "            response = make_prediction(prompt)\n",
    "            data = json.loads(response)\n",
    "            result_data = create_result_data(row, NOA=data['NOA'])\n",
    "        except (json.JSONDecodeError, KeyError, Exception) as e:\n",
    "            print(f\"Error occurred at index {i}: {e}\")\n",
    "            result_data = create_result_data(row, NOA=e, error=type(e).__name__)\n",
    "\n",
    "        results.append(result_data)\n",
    "        write_data_to_excel(output_file, result_data, header=not file_exists)\n",
    "        file_exists = True\n",
    "\n",
    "    if results:\n",
    "        print(\"Data successfully written\")\n",
    "    else:\n",
    "        print(\"No data to write to Excel.\")\n",
    "\n",
    "except Exception as e:\n",
    "    print(f\"An error occurred: {e}\")"
   ]
  }
 ],
 "metadata": {
  "kernelspec": {
   "display_name": "gllm",
   "language": "python",
   "name": "python3"
  },
  "language_info": {
   "codemirror_mode": {
    "name": "ipython",
    "version": 3
   },
   "file_extension": ".py",
   "mimetype": "text/x-python",
   "name": "python",
   "nbconvert_exporter": "python",
   "pygments_lexer": "ipython3",
   "version": "3.10.13"
  },
  "widgets": {
   "application/vnd.jupyter.widget-state+json": {
    "state": {},
    "version_major": 2,
    "version_minor": 0
   }
  }
 },
 "nbformat": 4,
 "nbformat_minor": 5
}
